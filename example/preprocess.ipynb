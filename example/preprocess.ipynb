{
 "cells": [
  {
   "cell_type": "code",
   "execution_count": null,
   "metadata": {},
   "outputs": [],
   "source": [
    "import sys\n",
    "import os\n",
    "\n",
    "sys.path.append(os.path.abspath(\"..\"))"
   ]
  },
  {
   "cell_type": "code",
   "execution_count": null,
   "metadata": {},
   "outputs": [],
   "source": [
    "import numpy as np\n",
    "from scipy.signal import savgol_filter\n",
    "import matplotlib.pyplot as plt\n",
    "import os\n",
    "from sklearn.preprocessing import MinMaxScaler\n",
    "from BaselineRemoval import BaselineRemoval\n",
    "import pandas as pd\n",
    "\n",
    "from helper.preprocess import baseline_als, modified_z_score, fixer, split_data, read_data"
   ]
  },
  {
   "cell_type": "markdown",
   "metadata": {},
   "source": [
    "# Data Acquisition and Loading"
   ]
  },
  {
   "cell_type": "markdown",
   "metadata": {},
   "source": [
    "## Pure Spectra"
   ]
  },
  {
   "cell_type": "code",
   "execution_count": null,
   "metadata": {},
   "outputs": [],
   "source": [
    "chicken_path = '../data/Data Lemak/pure fat/chicken/'\n",
    "data_chicken = []\n",
    "for root, dirs, files in os.walk(chicken_path):\n",
    "    data = read_data(root+'/')\n",
    "    if len(data) > 0:\n",
    "        data_chicken += data"
   ]
  },
  {
   "cell_type": "code",
   "execution_count": null,
   "metadata": {},
   "outputs": [],
   "source": [
    "cow_path = '../data/Data Lemak/pure fat/cow/'\n",
    "data_cow = []\n",
    "for root, dirs, files in os.walk(cow_path):\n",
    "    data = read_data(root+'/')\n",
    "    if len(data) > 0:\n",
    "        data_cow += data"
   ]
  },
  {
   "cell_type": "code",
   "execution_count": null,
   "metadata": {},
   "outputs": [],
   "source": [
    "duck_path = '../data/Data Lemak/pure fat/duck/'\n",
    "data_duck = []\n",
    "for root, dirs, files in os.walk(duck_path):\n",
    "    data = read_data(root+'/')\n",
    "    if len(data) > 0:\n",
    "        data_duck += data"
   ]
  },
  {
   "cell_type": "code",
   "execution_count": null,
   "metadata": {},
   "outputs": [],
   "source": [
    "goat_path = '../data/Data Lemak/pure fat/goat/'\n",
    "data_goat = []\n",
    "for root, dirs, files in os.walk(goat_path):\n",
    "    data = read_data(root+'/')\n",
    "    if len(data) > 0:\n",
    "        data_goat += data"
   ]
  },
  {
   "cell_type": "code",
   "execution_count": null,
   "metadata": {},
   "outputs": [],
   "source": [
    "pig_b_path = '../data/Data Lemak/pure fat/pig(b)/'\n",
    "data_pig_b = []\n",
    "for root, dirs, files in os.walk(pig_b_path):\n",
    "    data = read_data(root+'/')\n",
    "    if len(data) > 0:\n",
    "        data_pig_b += data"
   ]
  },
  {
   "cell_type": "code",
   "execution_count": null,
   "metadata": {},
   "outputs": [],
   "source": [
    "pig_p_path = '../data/Data Lemak/pure fat/pig(p)/'\n",
    "data_pig_p = []\n",
    "for root, dirs, files in os.walk(pig_p_path):\n",
    "    data = read_data(root+'/')\n",
    "    if len(data) > 0:\n",
    "        data_pig_p += data"
   ]
  },
  {
   "cell_type": "code",
   "execution_count": null,
   "metadata": {},
   "outputs": [],
   "source": [
    "pig_rj_path = '../data/Data Lemak/pure fat/pig(rj)/'\n",
    "data_pig_rj = []\n",
    "for root, dirs, files in os.walk(pig_rj_path):\n",
    "    data = read_data(root+'/')\n",
    "    if len(data) > 0:\n",
    "        data_pig_rj += data"
   ]
  },
  {
   "cell_type": "code",
   "execution_count": null,
   "metadata": {},
   "outputs": [],
   "source": [
    "pig_s_path = '../data/Data Lemak/pure fat/pis(s)/'\n",
    "data_pig_s = []\n",
    "for root, dirs, files in os.walk(pig_s_path):\n",
    "    data = read_data(root+'/')\n",
    "    if len(data) > 0:\n",
    "        data_pig_s += data"
   ]
  },
  {
   "cell_type": "markdown",
   "metadata": {},
   "source": [
    "## Mixed Spectra"
   ]
  },
  {
   "cell_type": "code",
   "execution_count": null,
   "metadata": {},
   "outputs": [],
   "source": [
    "pig_chicken_path = '../data/Data Lemak/contamination/pig-chicken/'\n",
    "data_pig_chicken_25_75 = []\n",
    "data_pig_chicken_50_50 = []\n",
    "data_pig_chicken_75_25 = []\n",
    "for root, dirs, files in os.walk(pig_chicken_path):\n",
    "    if root.split('/')[-1].startswith('25-75'):\n",
    "        data = read_data(root+'/')\n",
    "        if len(data) > 0:\n",
    "            data_pig_chicken_25_75 += data\n",
    "    elif root.split('/')[-1].startswith('50-50'):\n",
    "        data = read_data(root+'/')\n",
    "        if len(data) > 0:\n",
    "            data_pig_chicken_50_50 += data\n",
    "    elif root.split('/')[-1].startswith('75-25'):\n",
    "        data = read_data(root+'/')\n",
    "        if len(data) > 0:\n",
    "            data_pig_chicken_75_25 += data"
   ]
  },
  {
   "cell_type": "code",
   "execution_count": null,
   "metadata": {},
   "outputs": [],
   "source": [
    "pig_cow_path = '../data/Data Lemak/contamination/pig-cow/'\n",
    "data_pig_cow_25_75 = []\n",
    "data_pig_cow_50_50 = []\n",
    "data_pig_cow_75_25 = []\n",
    "for root, dirs, files in os.walk(pig_cow_path):\n",
    "    if root.split('/')[-1].startswith('25-75'):\n",
    "        data = read_data(root+'/')\n",
    "        if len(data) > 0:\n",
    "            data_pig_cow_25_75 += data\n",
    "    elif root.split('/')[-1].startswith('50-50'):\n",
    "        data = read_data(root+'/')\n",
    "        if len(data) > 0:\n",
    "            data_pig_cow_50_50 += data\n",
    "    elif root.split('/')[-1].startswith('75-25'):\n",
    "        data = read_data(root+'/')\n",
    "        if len(data) > 0:\n",
    "            data_pig_cow_75_25 += data"
   ]
  },
  {
   "cell_type": "code",
   "execution_count": null,
   "metadata": {},
   "outputs": [],
   "source": [
    "pig_duck_path = '../data/Data Lemak/contamination/pig-duck/'\n",
    "data_pig_duck_25_75 = []\n",
    "data_pig_duck_50_50 = []\n",
    "data_pig_duck_75_25 = []\n",
    "for root, dirs, files in os.walk(pig_duck_path):\n",
    "    if root.split('/')[-1].startswith('25-75'):\n",
    "        data = read_data(root+'/')\n",
    "        if len(data) > 0:\n",
    "            data_pig_duck_25_75 += data\n",
    "    elif root.split('/')[-1].startswith('50-50'):\n",
    "        data = read_data(root+'/')\n",
    "        if len(data) > 0:\n",
    "            data_pig_duck_50_50 += data\n",
    "    elif root.split('/')[-1].startswith('75-25'):\n",
    "        data = read_data(root+'/')\n",
    "        if len(data) > 0:\n",
    "            data_pig_duck_75_25 += data"
   ]
  },
  {
   "cell_type": "code",
   "execution_count": null,
   "metadata": {},
   "outputs": [],
   "source": [
    "pig_goat_path = '../data/Data Lemak/contamination/pig-goat/'\n",
    "data_pig_goat_25_75 = []\n",
    "data_pig_goat_50_50 = []\n",
    "data_pig_goat_75_25 = []\n",
    "for root, dirs, files in os.walk(pig_goat_path):\n",
    "    if root.split('/')[-1].startswith('25-75'):\n",
    "        data = read_data(root+'/')\n",
    "        if len(data) > 0:\n",
    "            data_pig_goat_25_75 += data\n",
    "    elif root.split('/')[-1].startswith('50-50'):\n",
    "        data = read_data(root+'/')\n",
    "        if len(data) > 0:\n",
    "            data_pig_goat_50_50 += data\n",
    "    elif root.split('/')[-1].startswith('75-25'):\n",
    "        data = read_data(root+'/')\n",
    "        if len(data) > 0:\n",
    "            data_pig_goat_75_25 += data"
   ]
  },
  {
   "cell_type": "markdown",
   "metadata": {},
   "source": [
    "# Preprocessing for Pure Spectra"
   ]
  },
  {
   "cell_type": "markdown",
   "metadata": {},
   "source": [
    "## Chicken"
   ]
  },
  {
   "cell_type": "code",
   "execution_count": null,
   "metadata": {},
   "outputs": [],
   "source": [
    "fig, ax = plt.subplots(figsize=(10,5))\n",
    "for i in range(0, len(data_chicken)):\n",
    "    ax.plot(data_chicken[i][:,0], data_chicken[i][:,1], label='Ayam ' + str(i+1))\n",
    "ax.set_xlabel('Wavenumber (cm-1)')\n",
    "ax.set_ylabel('Absorbance')\n",
    "ax.set_title('Chicken')\n",
    "plt.show()"
   ]
  },
  {
   "cell_type": "code",
   "execution_count": null,
   "metadata": {},
   "outputs": [],
   "source": [
    "despike_12 = fixer(fixer(data_chicken[12][:,1], 20, threshold=7), 10)\n",
    "fig, ax = plt.subplots(figsize=(10,5))\n",
    "ax.plot(data_chicken[12][:,0], data_chicken[12][:,1], label='Chicken')\n",
    "ax.plot(data_chicken[12][:,0], despike_12[:], label='Despiked chicken')\n",
    "ax.set_xlabel('Wavenumber (cm-1)')\n",
    "ax.set_ylabel('Absorbance')\n",
    "ax.set_title('Chicken')\n",
    "plt.legend()\n",
    "plt.show()"
   ]
  },
  {
   "cell_type": "code",
   "execution_count": null,
   "metadata": {},
   "outputs": [],
   "source": [
    "data_chicken[12][:,1] = despike_12"
   ]
  },
  {
   "cell_type": "code",
   "execution_count": null,
   "metadata": {},
   "outputs": [],
   "source": [
    "baseline_1= baseline_als(data_chicken[1][:,1], 100000, 0.0001)\n",
    "fig, ax = plt.subplots(figsize=(10,5))\n",
    "ax.plot(data_chicken[1][:,0], data_chicken[1][:,1])\n",
    "ax.plot(data_chicken[1][:,0], baseline_1)\n",
    "ax.set_xlabel('Wavenumber (cm-1)')\n",
    "ax.set_ylabel('Absorbance')\n",
    "ax.set_title('Ayam')\n",
    "plt.show()"
   ]
  },
  {
   "cell_type": "code",
   "execution_count": null,
   "metadata": {},
   "outputs": [],
   "source": [
    "df_chicken = data_chicken[0][:,0]\n",
    "for i in range(0, len(data_chicken)):\n",
    "    # Baseline correction\n",
    "    baseline_= baseline_als(data_chicken[i][:,1], 100000, 0.0001)\n",
    "    df_chicken = np.vstack((df_chicken, data_chicken[i][:,1] - baseline_))\n",
    "df_chicken = np.transpose(df_chicken)\n",
    "scaler = MinMaxScaler()\n",
    "df_chicken_scaled = scaler.fit_transform(df_chicken[:,1:])\n",
    "df_chicken_scaled = np.hstack((df_chicken[:,0].reshape(-1,1), df_chicken_scaled))"
   ]
  },
  {
   "cell_type": "code",
   "execution_count": null,
   "metadata": {},
   "outputs": [],
   "source": [
    "fig, ax = plt.subplots(figsize=(10,5))\n",
    "for i in range(1, df_chicken_scaled.shape[1]):\n",
    "    ax.plot(df_chicken_scaled[:,0], df_chicken_scaled[:,i], label='Ayam ' + str(i+1))\n",
    "ax.set_xlabel('Wavenumber (cm-1)')\n",
    "ax.set_ylabel('Absorbance')\n",
    "ax.set_title('Chicken')\n",
    "plt.show()"
   ]
  },
  {
   "cell_type": "code",
   "execution_count": null,
   "metadata": {},
   "outputs": [],
   "source": [
    "chicken = np.mean(df_chicken_scaled[:, 1:], axis=1)\n",
    "#chicken[1800:1860] = fixer(chicken[1800:1860], 10)\n",
    "chicken_filtered = savgol_filter(chicken, 20, 3)"
   ]
  },
  {
   "cell_type": "code",
   "execution_count": null,
   "metadata": {},
   "outputs": [],
   "source": [
    "fig, ax = plt.subplots(figsize=(10,5))\n",
    "ax.plot(df_chicken[:,0], chicken_filtered)\n",
    "ax.set_xlabel('Wavenumber (cm-1)')\n",
    "ax.set_ylabel('Absorbance')\n",
    "ax.set_title('Chicken')\n",
    "plt.show()"
   ]
  },
  {
   "cell_type": "code",
   "execution_count": null,
   "metadata": {},
   "outputs": [],
   "source": [
    "if not os.path.exists('../data/Data Lemak/preprocessed/pure fat/chicken/'):\n",
    "    os.makedirs('../data/Data Lemak/preprocessed/pure fat/chicken/')\n",
    "pd.DataFrame(df_chicken_scaled).to_csv('../data/Data Lemak/preprocessed/pure fat/chicken/chicken_all.csv', index=False, header=False)\n",
    "pd.DataFrame([df_chicken[:,0], chicken_filtered]).T.to_csv('../data/Data Lemak/preprocessed/pure fat/chicken/chicken_mean.csv', index=False, header=False)"
   ]
  },
  {
   "cell_type": "markdown",
   "metadata": {},
   "source": [
    "## Cow"
   ]
  },
  {
   "cell_type": "code",
   "execution_count": null,
   "metadata": {},
   "outputs": [],
   "source": [
    "fig, ax = plt.subplots(figsize=(10,5))\n",
    "for i in range(0, len(data_cow)):\n",
    "    ax.plot(data_cow[i][:,0], data_cow[i][:,1], label='Cow ' + str(i+1))\n",
    "ax.set_xlabel('Wavenumber (cm-1)')\n",
    "ax.set_ylabel('Absorbance')\n",
    "ax.set_title('Cow')\n",
    "plt.show()"
   ]
  },
  {
   "cell_type": "code",
   "execution_count": null,
   "metadata": {},
   "outputs": [],
   "source": [
    "baseline_= baseline_als(data_cow[1][:,1], 10000000, 0.05)\n",
    "fig, ax = plt.subplots(figsize=(10,5))\n",
    "ax.plot(data_cow[1][:,0], data_cow[1][:,1])\n",
    "ax.plot(data_cow[0][:,0], baseline_)\n",
    "ax.set_xlabel('Wavenumber (cm-1)')\n",
    "ax.set_ylabel('Absorbance')\n",
    "ax.set_title('Cow')\n",
    "plt.show()"
   ]
  },
  {
   "cell_type": "code",
   "execution_count": null,
   "metadata": {},
   "outputs": [],
   "source": [
    "df_cow = data_cow[0][:,0]\n",
    "for i in range(0, len(data_cow)):\n",
    "    # Baseline correction\n",
    "    baseline_= baseline_als(data_cow[i][:,1], 10000000, 0.05)\n",
    "    df_cow = np.vstack((df_cow, data_cow[i][:,1] - baseline_))\n",
    "df_cow = np.transpose(df_cow)\n",
    "scaler = MinMaxScaler()\n",
    "df_cow_scaled = scaler.fit_transform(df_cow[:,1:])\n",
    "df_cow_scaled = np.hstack((df_cow[:,0].reshape(-1,1), df_cow_scaled))"
   ]
  },
  {
   "cell_type": "code",
   "execution_count": null,
   "metadata": {},
   "outputs": [],
   "source": [
    "fig, ax = plt.subplots(figsize=(10,5))\n",
    "for i in range(1, df_cow_scaled.shape[1]):\n",
    "    ax.plot(df_cow_scaled[:,0], df_cow_scaled[:,i], label='Cow ' + str(i+1))\n",
    "ax.set_xlabel('Wavenumber (cm-1)')\n",
    "ax.set_ylabel('Absorbance')\n",
    "ax.set_title('Cow')\n",
    "plt.show()"
   ]
  },
  {
   "cell_type": "code",
   "execution_count": null,
   "metadata": {},
   "outputs": [],
   "source": [
    "cow = np.mean(df_cow_scaled[:, 1:], axis=1)\n",
    "#cow[1800:1860] = fixer(cow[1800:1860], 10)\n",
    "cow_filtered = savgol_filter(cow, 20, 3)"
   ]
  },
  {
   "cell_type": "code",
   "execution_count": null,
   "metadata": {},
   "outputs": [],
   "source": [
    "fig, ax = plt.subplots(figsize=(10,5))\n",
    "ax.plot(df_cow[:,0], cow_filtered)\n",
    "ax.set_xlabel('Wavenumber (cm-1)')\n",
    "ax.set_ylabel('Absorbance')\n",
    "ax.set_title('Cow')\n",
    "plt.show()"
   ]
  },
  {
   "cell_type": "code",
   "execution_count": null,
   "metadata": {},
   "outputs": [],
   "source": [
    "if not os.path.exists('../data/Data Lemak/preprocessed/pure fat/cow/'):\n",
    "    os.makedirs('../data/Data Lemak/preprocessed/pure fat/cow/')\n",
    "pd.DataFrame(df_cow_scaled).to_csv('../data/Data Lemak/preprocessed/pure fat/cow/cow_all.csv', index=False, header=False)\n",
    "pd.DataFrame([df_cow[:,0], cow_filtered]).T.to_csv('../data/Data Lemak/preprocessed/pure fat/cow/cow_mean.csv', index=False, header=False)"
   ]
  },
  {
   "cell_type": "markdown",
   "metadata": {},
   "source": [
    "## Duck"
   ]
  },
  {
   "cell_type": "code",
   "execution_count": null,
   "metadata": {},
   "outputs": [],
   "source": [
    "fig, ax = plt.subplots(figsize=(10,5))\n",
    "for i in range(0, len(data_duck)):\n",
    "    ax.plot(data_duck[i][:,0], data_duck[i][:,1], label='Duck ' + str(i+1))\n",
    "ax.set_xlabel('Wavenumber (cm-1)')\n",
    "ax.set_ylabel('Absorbance')\n",
    "ax.set_title('Duck')\n",
    "plt.show()"
   ]
  },
  {
   "cell_type": "code",
   "execution_count": null,
   "metadata": {},
   "outputs": [],
   "source": [
    "despike_37 = fixer(data_duck[37][:,1], 20, threshold=7)#, 10)\n",
    "fig, ax = plt.subplots(figsize=(10,5))\n",
    "ax.plot(data_duck[37][:,0], data_duck[37][:,1], label='Duck')\n",
    "ax.plot(data_duck[37][:,0], despike_37[:], label='Despiked Duck')\n",
    "ax.set_xlabel('Wavenumber (cm-1)')\n",
    "ax.set_ylabel('Absorbance')\n",
    "ax.set_title('Duck')\n",
    "plt.legend()\n",
    "plt.show()"
   ]
  },
  {
   "cell_type": "code",
   "execution_count": null,
   "metadata": {},
   "outputs": [],
   "source": [
    "data_duck[37][:,1] = despike_37"
   ]
  },
  {
   "cell_type": "code",
   "execution_count": null,
   "metadata": {},
   "outputs": [],
   "source": [
    "baseline_= baseline_als(data_duck[0][:,1], 10000000, 0.02)\n",
    "fig, ax = plt.subplots(figsize=(10,5))\n",
    "ax.plot(data_duck[0][:,0], data_duck[0][:,1])\n",
    "ax.plot(data_duck[0][:,0], baseline_)\n",
    "ax.set_xlabel('Wavenumber (cm-1)')\n",
    "ax.set_ylabel('Absorbance')\n",
    "ax.set_title('Duck')\n",
    "plt.show()"
   ]
  },
  {
   "cell_type": "code",
   "execution_count": null,
   "metadata": {},
   "outputs": [],
   "source": [
    "df_duck = data_duck[0][:,0]\n",
    "for i in range(0, len(data_duck)):\n",
    "    # Baseline correction\n",
    "    baseline_= baseline_als(data_duck[i][:,1], 10000000, 0.02)\n",
    "    df_duck = np.vstack((df_duck, data_duck[i][:,1] - baseline_))\n",
    "df_duck = np.transpose(df_duck)\n",
    "scaler = MinMaxScaler()\n",
    "df_duck_scaled = scaler.fit_transform(df_duck[:,1:])\n",
    "df_duck_scaled = np.hstack((df_duck[:,0].reshape(-1,1), df_duck_scaled))"
   ]
  },
  {
   "cell_type": "code",
   "execution_count": null,
   "metadata": {},
   "outputs": [],
   "source": [
    "fig, ax = plt.subplots(figsize=(10,5))\n",
    "for i in range(1, df_duck_scaled.shape[1]):\n",
    "    ax.plot(df_duck_scaled[:,0], df_duck_scaled[:,i], label='Duck ' + str(i+1))\n",
    "ax.set_xlabel('Wavenumber (cm-1)')\n",
    "ax.set_ylabel('Absorbance')\n",
    "ax.set_title('Duck')\n",
    "plt.show()"
   ]
  },
  {
   "cell_type": "code",
   "execution_count": null,
   "metadata": {},
   "outputs": [],
   "source": [
    "duck = np.mean(df_duck_scaled[:, 1:], axis=1)\n",
    "#duck[1800:1860] = fixer(duck[1800:1860], 10)\n",
    "duck_filtered = savgol_filter(duck, 20, 3)"
   ]
  },
  {
   "cell_type": "code",
   "execution_count": null,
   "metadata": {},
   "outputs": [],
   "source": [
    "fig, ax = plt.subplots(figsize=(10,5))\n",
    "ax.plot(df_duck[:,0], duck_filtered)\n",
    "ax.set_xlabel('Wavenumber (cm-1)')\n",
    "ax.set_ylabel('Absorbance')\n",
    "ax.set_title('Duck')\n",
    "plt.show()"
   ]
  },
  {
   "cell_type": "code",
   "execution_count": null,
   "metadata": {},
   "outputs": [],
   "source": [
    "if not os.path.exists('../data/Data Lemak/preprocessed/pure fat/duck/'):\n",
    "    os.makedirs('../data/Data Lemak/preprocessed/pure fat/duck/')\n",
    "pd.DataFrame(df_duck_scaled).to_csv('../data/Data Lemak/preprocessed/pure fat/duck/duck_all.csv', index=False, header=False)\n",
    "pd.DataFrame([df_duck[:,0], duck_filtered]).T.to_csv('../data/Data Lemak/preprocessed/pure fat/duck/duck_mean.csv', index=False, header=False)"
   ]
  },
  {
   "cell_type": "markdown",
   "metadata": {},
   "source": [
    "## Goat"
   ]
  },
  {
   "cell_type": "code",
   "execution_count": null,
   "metadata": {},
   "outputs": [],
   "source": [
    "fig, ax = plt.subplots(figsize=(10,5))\n",
    "for i in range(0, len(data_goat)):\n",
    "    ax.plot(data_goat[i][:,0], data_goat[i][:,1], color='C' + str(i // 15))\n",
    "ax.set_xlabel('Wavenumber (cm-1)')\n",
    "ax.set_ylabel('Absorbance')\n",
    "ax.set_title('Goat')\n",
    "plt.plot([], [], c='C0', label='Area 1')\n",
    "plt.plot([], [], c='C1', label='Area 2')\n",
    "plt.plot([], [], c='C2', label='Area 3')\n",
    "plt.legend()\n",
    "plt.show()"
   ]
  },
  {
   "cell_type": "code",
   "execution_count": null,
   "metadata": {},
   "outputs": [],
   "source": [
    "i = 1\n",
    "despike_1 = fixer(data_goat[1][:,1], 20, threshold=7)#, 10)\n",
    "fig, ax = plt.subplots(figsize=(10,5))\n",
    "ax.plot(data_goat[1][:,0], data_goat[1][:,1], label='Goat')\n",
    "ax.plot(data_goat[1][:,0], despike_1[:], label='Despiked Goat')\n",
    "ax.set_xlabel('Wavenumber (cm-1)')\n",
    "ax.set_ylabel('Absorbance')\n",
    "ax.set_title('Goat')\n",
    "plt.legend()\n",
    "plt.show()"
   ]
  },
  {
   "cell_type": "code",
   "execution_count": null,
   "metadata": {},
   "outputs": [],
   "source": [
    "i = 3\n",
    "despike_3 = fixer(data_goat[3][:,1], 20, threshold=7)#, 10)\n",
    "fig, ax = plt.subplots(figsize=(10,5))\n",
    "ax.plot(data_goat[3][:,0], data_goat[3][:,1], label='Goat')\n",
    "ax.plot(data_goat[3][:,0], despike_3[:], label='Despiked Goat')\n",
    "ax.set_xlabel('Wavenumber (cm-1)')\n",
    "ax.set_ylabel('Absorbance')\n",
    "ax.set_title('Goat')\n",
    "plt.legend()\n",
    "plt.show()"
   ]
  },
  {
   "cell_type": "code",
   "execution_count": null,
   "metadata": {},
   "outputs": [],
   "source": [
    "i = 11\n",
    "despike_11 = fixer(data_goat[11][:,1], 20, threshold=7)#, 10)\n",
    "fig, ax = plt.subplots(figsize=(10,5))\n",
    "ax.plot(data_goat[11][:,0], data_goat[11][:,1], label='Goat')\n",
    "ax.plot(data_goat[11][:,0], despike_11[:], label='Despiked Goat')\n",
    "ax.set_xlabel('Wavenumber (cm-1)')\n",
    "ax.set_ylabel('Absorbance')\n",
    "ax.set_title('Goat')\n",
    "plt.legend()\n",
    "plt.show()"
   ]
  },
  {
   "cell_type": "code",
   "execution_count": null,
   "metadata": {},
   "outputs": [],
   "source": [
    "i = 42\n",
    "despike_42 = fixer(data_goat[42][:,1], 20, threshold=10)#, 10)\n",
    "fig, ax = plt.subplots(figsize=(10,5))\n",
    "ax.plot(data_goat[42][:,0], data_goat[42][:,1], label='Goat')\n",
    "ax.plot(data_goat[42][:,0], despike_42[:], label='Despiked Goat')\n",
    "ax.set_xlabel('Wavenumber (cm-1)')\n",
    "ax.set_ylabel('Absorbance')\n",
    "ax.set_title('Goat')\n",
    "plt.legend()\n",
    "plt.show()"
   ]
  },
  {
   "cell_type": "code",
   "execution_count": null,
   "metadata": {},
   "outputs": [],
   "source": [
    "data_goat[1][:,1] = despike_1\n",
    "data_goat[3][:,1] = despike_3\n",
    "data_goat[11][:,1] = despike_11\n",
    "data_goat[42][:,1] = despike_42"
   ]
  },
  {
   "cell_type": "code",
   "execution_count": null,
   "metadata": {},
   "outputs": [],
   "source": [
    "baseline_= baseline_als(data_goat[16][:,1], 1000000, 0.005)\n",
    "fig, ax = plt.subplots(figsize=(10,5))\n",
    "ax.plot(data_goat[16][:,0], data_goat[16][:,1])\n",
    "ax.plot(data_goat[16][:,0], baseline_)\n",
    "ax.set_xlabel('Wavenumber (cm-1)')\n",
    "ax.set_ylabel('Absorbance')\n",
    "ax.set_title('Goat')\n",
    "plt.show()"
   ]
  },
  {
   "cell_type": "code",
   "execution_count": null,
   "metadata": {},
   "outputs": [],
   "source": [
    "df_goat = data_goat[16][:,0]\n",
    "for i in range(16, len(data_goat)):\n",
    "    # Baseline correction\n",
    "    baseline_= baseline_als(data_goat[i][:,1], 1000000, 0.005)\n",
    "    df_goat = np.vstack((df_goat, data_goat[i][:,1] - baseline_))\n",
    "df_goat = np.transpose(df_goat)\n",
    "scaler = MinMaxScaler()\n",
    "df_goat_scaled = scaler.fit_transform(df_goat[:,1:])\n",
    "df_goat_scaled = np.hstack((df_goat[:,0].reshape(-1,1), df_goat_scaled))"
   ]
  },
  {
   "cell_type": "code",
   "execution_count": null,
   "metadata": {},
   "outputs": [],
   "source": [
    "fig, ax = plt.subplots(figsize=(10,5))\n",
    "for i in range(1, df_goat_scaled.shape[1]):\n",
    "    ax.plot(df_goat_scaled[:,0], df_goat_scaled[:,i], label='Goat ' + str(i+1))\n",
    "ax.set_xlabel('Wavenumber (cm-1)')\n",
    "ax.set_ylabel('Absorbance')\n",
    "ax.set_title('Goat')\n",
    "plt.show()"
   ]
  },
  {
   "cell_type": "code",
   "execution_count": null,
   "metadata": {},
   "outputs": [],
   "source": [
    "goat = np.mean(df_goat_scaled[:, 1:], axis=1)\n",
    "#goat[1800:1860] = fixer(goat[1800:1860], 10)\n",
    "goat_filtered = savgol_filter(goat, 20, 3)"
   ]
  },
  {
   "cell_type": "code",
   "execution_count": null,
   "metadata": {},
   "outputs": [],
   "source": [
    "fig, ax = plt.subplots(figsize=(10,5))\n",
    "ax.plot(df_goat[:,0], goat_filtered)\n",
    "ax.set_xlabel('Wavenumber (cm-1)')\n",
    "ax.set_ylabel('Absorbance')\n",
    "ax.set_title('Goat')\n",
    "plt.show()"
   ]
  },
  {
   "cell_type": "code",
   "execution_count": null,
   "metadata": {},
   "outputs": [],
   "source": [
    "if not os.path.exists('../data/Data Lemak/preprocessed/pure fat/goat/'):\n",
    "    os.makedirs('../data/Data Lemak/preprocessed/pure fat/goat/')\n",
    "pd.DataFrame(df_goat_scaled).to_csv('../data/Data Lemak/preprocessed/pure fat/goat/goat_all.csv', index=False, header=False)\n",
    "pd.DataFrame([df_goat[:,0], goat_filtered]).T.to_csv('../data/Data Lemak/preprocessed/pure fat/goat/goat_mean.csv', index=False, header=False)"
   ]
  },
  {
   "cell_type": "markdown",
   "metadata": {},
   "source": [
    "## Pig"
   ]
  },
  {
   "cell_type": "code",
   "execution_count": null,
   "metadata": {},
   "outputs": [],
   "source": [
    "fig, ax = plt.subplots(figsize=(10,5))\n",
    "for i in range(0, len(data_pig_s)):\n",
    "    ax.plot(data_pig_s[i][:,0], data_pig_s[i][:,1], label='Pig ' + str(i+1))\n",
    "ax.set_xlabel('Wavenumber (cm-1)')\n",
    "ax.set_ylabel('Absorbance')\n",
    "ax.set_title('Pig')\n",
    "plt.show()"
   ]
  },
  {
   "cell_type": "code",
   "execution_count": null,
   "metadata": {},
   "outputs": [],
   "source": [
    "despike_19 = fixer(fixer(data_pig_b[19][:,1], 10, threshold=10), 10, threshold=5)\n",
    "fig, ax = plt.subplots(figsize=(10,5))\n",
    "ax.plot(data_pig_b[19][:,0], data_pig_b[19][:,1], label='Pig')\n",
    "ax.plot(data_pig_b[19][:,0], despike_19[:], label='Despiked Pig')\n",
    "ax.set_xlabel('Wavenumber (cm-1)')\n",
    "ax.set_ylabel('Absorbance')\n",
    "ax.set_title('Pig')\n",
    "plt.legend()\n",
    "plt.show()"
   ]
  },
  {
   "cell_type": "code",
   "execution_count": null,
   "metadata": {},
   "outputs": [],
   "source": [
    "despike_44 = fixer(data_pig_b[44][:,1], 10, threshold=6)\n",
    "fig, ax = plt.subplots(figsize=(10,5))\n",
    "ax.plot(data_pig_b[44][:,0], data_pig_b[44][:,1], label='Pig')\n",
    "ax.plot(data_pig_b[44][:,0], despike_44[:], label='Despiked Pig')\n",
    "ax.set_xlabel('Wavenumber (cm-1)')\n",
    "ax.set_ylabel('Absorbance')\n",
    "ax.set_title('Pig')\n",
    "plt.legend()\n",
    "plt.show()"
   ]
  },
  {
   "cell_type": "code",
   "execution_count": null,
   "metadata": {},
   "outputs": [],
   "source": [
    "data_pig_b[19][:,1] = despike_19\n",
    "data_pig_b[44][:,1] = despike_44"
   ]
  },
  {
   "cell_type": "code",
   "execution_count": null,
   "metadata": {},
   "outputs": [],
   "source": [
    "despike_1 = fixer(fixer(data_pig_p[1][:,1], 15, threshold=6), 15, threshold=5)\n",
    "fig, ax = plt.subplots(figsize=(10,5))\n",
    "ax.plot(data_pig_p[1][:,0], data_pig_p[1][:,1], label='Pig')\n",
    "ax.plot(data_pig_p[1][:,0], despike_1[:], label='Despiked Pig')\n",
    "ax.set_xlabel('Wavenumber (cm-1)')\n",
    "ax.set_ylabel('Absorbance')\n",
    "ax.set_title('Pig')\n",
    "plt.legend()\n",
    "plt.show()"
   ]
  },
  {
   "cell_type": "code",
   "execution_count": null,
   "metadata": {},
   "outputs": [],
   "source": [
    "despike_24 = fixer(fixer(data_pig_p[24][:,1], 10), 10, threshold=5)\n",
    "fig, ax = plt.subplots(figsize=(10,5))\n",
    "ax.plot(data_pig_p[24][:,0], data_pig_p[24][:,1], label='Pig')\n",
    "ax.plot(data_pig_p[24][:,0], despike_24[:], label='Despiked Pig')\n",
    "ax.set_xlabel('Wavenumber (cm-1)')\n",
    "ax.set_ylabel('Absorbance')\n",
    "ax.set_title('Pig')\n",
    "plt.legend()\n",
    "plt.show()"
   ]
  },
  {
   "cell_type": "code",
   "execution_count": null,
   "metadata": {},
   "outputs": [],
   "source": [
    "despike_41 = fixer(fixer(data_pig_p[41][:,1], 10), 10, threshold=5)\n",
    "fig, ax = plt.subplots(figsize=(10,5))\n",
    "ax.plot(data_pig_p[41][:,0], data_pig_p[41][:,1], label='Pig')\n",
    "ax.plot(data_pig_p[41][:,0], despike_41[:], label='Despiked Pig')\n",
    "ax.set_xlabel('Wavenumber (cm-1)')\n",
    "ax.set_ylabel('Absorbance')\n",
    "ax.set_title('Pig')\n",
    "plt.legend()\n",
    "plt.show()"
   ]
  },
  {
   "cell_type": "code",
   "execution_count": null,
   "metadata": {},
   "outputs": [],
   "source": [
    "data_pig_p[1][:,1] = despike_1\n",
    "data_pig_p[24][:,1] = despike_24\n",
    "data_pig_p[41][:,1] = despike_41"
   ]
  },
  {
   "cell_type": "code",
   "execution_count": null,
   "metadata": {},
   "outputs": [],
   "source": [
    "despike_2 = fixer(data_pig_rj[2][:,1], 10)\n",
    "fig, ax = plt.subplots(figsize=(10,5))\n",
    "ax.plot(data_pig_rj[2][:,0], data_pig_rj[2][:,1], label='Pig')\n",
    "ax.plot(data_pig_rj[2][:,0], despike_2[:], label='Despiked Pig')\n",
    "ax.set_xlabel('Wavenumber (cm-1)')\n",
    "ax.set_ylabel('Absorbance')\n",
    "ax.set_title('Pig')\n",
    "plt.legend()\n",
    "plt.show()"
   ]
  },
  {
   "cell_type": "code",
   "execution_count": null,
   "metadata": {},
   "outputs": [],
   "source": [
    "despike_11 = fixer(data_pig_rj[11][:,1], 10)\n",
    "fig, ax = plt.subplots(figsize=(10,5))\n",
    "ax.plot(data_pig_rj[11][:,0], data_pig_rj[11][:,1], label='Pig')\n",
    "ax.plot(data_pig_rj[11][:,0], despike_11[:], label='Despiked Pig')\n",
    "ax.set_xlabel('Wavenumber (cm-1)')\n",
    "ax.set_ylabel('Absorbance')\n",
    "ax.set_title('Pig')\n",
    "plt.legend()\n",
    "plt.show()"
   ]
  },
  {
   "cell_type": "code",
   "execution_count": null,
   "metadata": {},
   "outputs": [],
   "source": [
    "despike_42 = fixer(fixer(data_pig_rj[42][:,1], 5), 5, threshold=3)\n",
    "fig, ax = plt.subplots(figsize=(10,5))\n",
    "ax.plot(data_pig_rj[42][:,0], data_pig_rj[42][:,1], label='Pig')\n",
    "ax.plot(data_pig_rj[42][:,0], despike_42[:], label='Despiked Pig')\n",
    "ax.set_xlabel('Wavenumber (cm-1)')\n",
    "ax.set_ylabel('Absorbance')\n",
    "ax.set_title('Pig')\n",
    "plt.legend()\n",
    "plt.show()"
   ]
  },
  {
   "cell_type": "code",
   "execution_count": null,
   "metadata": {},
   "outputs": [],
   "source": [
    "data_pig_rj[2][:,1] = despike_2\n",
    "data_pig_rj[11][:,1] = despike_11\n",
    "data_pig_rj[42][:,1] = despike_42"
   ]
  },
  {
   "cell_type": "code",
   "execution_count": null,
   "metadata": {},
   "outputs": [],
   "source": [
    "despike_32 = fixer(data_pig_s[32][:,1], 10)\n",
    "fig, ax = plt.subplots(figsize=(10,5))\n",
    "ax.plot(data_pig_s[32][:,0], data_pig_s[32][:,1], label='Pig')\n",
    "ax.plot(data_pig_s[32][:,0], despike_32[:], label='Despiked Pig')\n",
    "ax.set_xlabel('Wavenumber (cm-1)')\n",
    "ax.set_ylabel('Absorbance')\n",
    "ax.set_title('Pig')\n",
    "plt.legend()\n",
    "plt.show()"
   ]
  },
  {
   "cell_type": "code",
   "execution_count": null,
   "metadata": {},
   "outputs": [],
   "source": [
    "despike_41 = fixer(data_pig_s[41][:,1], 10)\n",
    "fig, ax = plt.subplots(figsize=(10,5))\n",
    "ax.plot(data_pig_s[41][:,0], data_pig_s[41][:,1], label='Pig')\n",
    "ax.plot(data_pig_s[41][:,0], despike_41[:], label='Despiked Pig')\n",
    "ax.set_xlabel('Wavenumber (cm-1)')\n",
    "ax.set_ylabel('Absorbance')\n",
    "ax.set_title('Pig')\n",
    "plt.legend()\n",
    "plt.show()"
   ]
  },
  {
   "cell_type": "code",
   "execution_count": null,
   "metadata": {},
   "outputs": [],
   "source": [
    "data_pig_s[32][:,1] = despike_32\n",
    "data_pig_s[41][:,1] = despike_41"
   ]
  },
  {
   "cell_type": "code",
   "execution_count": null,
   "metadata": {},
   "outputs": [],
   "source": [
    "fig, ax = plt.subplots(figsize=(10,5))\n",
    "for i in range(0, len(data_pig_b)):\n",
    "    ax.plot(data_pig_b[i][:,0], data_pig_b[i][:,1], label='Pig ' + str(i+1))\n",
    "    ax.plot(data_pig_p[i][:,0], data_pig_p[i][:,1], label='Pig ' + str(i+1))\n",
    "    ax.plot(data_pig_s[i][:,0], data_pig_s[i][:,1], label='Pig ' + str(i+1))\n",
    "    if i != 1:\n",
    "        ax.plot(data_pig_rj[i][:,0], data_pig_rj[i][:,1], label='Pig ' + str(i+1))\n",
    "ax.set_xlabel('Wavenumber (cm-1)')\n",
    "ax.set_ylabel('Absorbance')\n",
    "ax.set_title('Pig')\n",
    "plt.show()"
   ]
  },
  {
   "cell_type": "code",
   "execution_count": null,
   "metadata": {},
   "outputs": [],
   "source": [
    "baseline_= baseline_als(data_pig_p[0][:,1], 10000000, 0.02)\n",
    "fig, ax = plt.subplots(figsize=(10,5))\n",
    "ax.plot(data_pig_p[0][:,0], data_pig_p[0][:,1])\n",
    "ax.plot(data_pig_p[0][:,0], baseline_)\n",
    "ax.set_xlabel('Wavenumber (cm-1)')\n",
    "ax.set_ylabel('Absorbance')\n",
    "ax.set_title('Pig')\n",
    "plt.show()"
   ]
  },
  {
   "cell_type": "code",
   "execution_count": null,
   "metadata": {},
   "outputs": [],
   "source": [
    "df_pig_b = data_pig_b[0][:,0]\n",
    "df_pig_p = data_pig_p[0][:,0]\n",
    "df_pig_rj = data_pig_rj[0][:,0]\n",
    "df_pig_s = data_pig_s[0][:,0]\n",
    "for i in range(0, len(data_pig_b)):\n",
    "    # Baseline correction\n",
    "    baseline_= baseline_als(data_pig_b[i][:,1], 10000000, 0.02)\n",
    "    df_pig_b = np.vstack((df_pig_b, data_pig_b[i][:,1] - baseline_))\n",
    "for i in range(0, len(data_pig_p)):\n",
    "    # Baseline correction\n",
    "    baseline_= baseline_als(data_pig_p[i][:,1], 10000000, 0.02)\n",
    "    df_pig_p = np.vstack((df_pig_p, data_pig_p[i][:,1] - baseline_))\n",
    "for i in range(0, len(data_pig_rj)):\n",
    "    # Baseline correction\n",
    "    if i != 1:\n",
    "        baseline_= baseline_als(data_pig_rj[i][:,1], 10000000, 0.02)\n",
    "        df_pig_rj = np.vstack((df_pig_rj, data_pig_rj[i][:,1] - baseline_))\n",
    "for i in range(0, len(data_pig_s)):\n",
    "    # Baseline correction\n",
    "    baseline_= baseline_als(data_pig_s[i][:,1], 10000000, 0.02)\n",
    "    df_pig_s = np.vstack((df_pig_s, data_pig_s[i][:,1] - baseline_))\n",
    "\n",
    "df_pig_b = np.transpose(df_pig_b)\n",
    "scaler = MinMaxScaler()\n",
    "df_pig_b_scaled = scaler.fit_transform(df_pig_b[:,1:])\n",
    "df_pig_b_scaled = np.hstack((df_pig_b[:,0].reshape(-1,1), df_pig_b_scaled))\n",
    "\n",
    "df_pig_p = np.transpose(df_pig_p)\n",
    "scaler = MinMaxScaler()\n",
    "df_pig_p_scaled = scaler.fit_transform(df_pig_p[:,1:])\n",
    "df_pig_p_scaled = np.hstack((df_pig_p[:,0].reshape(-1,1), df_pig_p_scaled))\n",
    "\n",
    "df_pig_rj = np.transpose(df_pig_rj)\n",
    "scaler = MinMaxScaler()\n",
    "df_pig_rj_scaled = scaler.fit_transform(df_pig_rj[:,1:])\n",
    "df_pig_rj_scaled = np.hstack((df_pig_rj[:,0].reshape(-1,1), df_pig_rj_scaled))\n",
    "\n",
    "df_pig_s = np.transpose(df_pig_s)\n",
    "scaler = MinMaxScaler()\n",
    "df_pig_s_scaled = scaler.fit_transform(df_pig_s[:,1:])\n",
    "df_pig_s_scaled = np.hstack((df_pig_s[:,0].reshape(-1,1), df_pig_s_scaled))"
   ]
  },
  {
   "cell_type": "code",
   "execution_count": null,
   "metadata": {},
   "outputs": [],
   "source": [
    "fig, ax = plt.subplots(figsize=(10,5))\n",
    "for i in range(1, df_pig_b_scaled.shape[1]):\n",
    "    ax.plot(df_pig_b_scaled[:,0], df_pig_b_scaled[:,i], label='Pig ' + str(i+1))\n",
    "ax.set_xlabel('Wavenumber (cm-1)')\n",
    "ax.set_ylabel('Absorbance')\n",
    "ax.set_title('Pig')\n",
    "plt.show()"
   ]
  },
  {
   "cell_type": "code",
   "execution_count": null,
   "metadata": {},
   "outputs": [],
   "source": [
    "fig, ax = plt.subplots(figsize=(10,5))\n",
    "for i in range(1, df_pig_p_scaled.shape[1]):\n",
    "    ax.plot(df_pig_p_scaled[:,0], df_pig_p_scaled[:,i], label='Pig ' + str(i+1))\n",
    "ax.set_xlabel('Wavenumber (cm-1)')\n",
    "ax.set_ylabel('Absorbance')\n",
    "ax.set_title('Pig')\n",
    "plt.show()"
   ]
  },
  {
   "cell_type": "code",
   "execution_count": null,
   "metadata": {},
   "outputs": [],
   "source": [
    "fig, ax = plt.subplots(figsize=(10,5))\n",
    "for i in range(1, df_pig_rj_scaled.shape[1]):\n",
    "    ax.plot(df_pig_rj_scaled[:,0], df_pig_rj_scaled[:,i], label='Pig ' + str(i+1))\n",
    "ax.set_xlabel('Wavenumber (cm-1)')\n",
    "ax.set_ylabel('Absorbance')\n",
    "ax.set_title('Pig')\n",
    "plt.show()"
   ]
  },
  {
   "cell_type": "code",
   "execution_count": null,
   "metadata": {},
   "outputs": [],
   "source": [
    "fig, ax = plt.subplots(figsize=(10,5))\n",
    "for i in range(1, df_pig_s_scaled.shape[1]):\n",
    "    ax.plot(df_pig_s_scaled[:,0], df_pig_s_scaled[:,i], label='Pig ' + str(i+1))\n",
    "ax.set_xlabel('Wavenumber (cm-1)')\n",
    "ax.set_ylabel('Absorbance')\n",
    "ax.set_title('Pig')\n",
    "plt.show()"
   ]
  },
  {
   "cell_type": "code",
   "execution_count": null,
   "metadata": {},
   "outputs": [],
   "source": [
    "pig_b = np.mean(df_pig_b_scaled[:, 1:], axis=1)\n",
    "#pig_b[1800:1860] = fixer(pig_b[1800:1860], 10)\n",
    "pig_b_filtered = savgol_filter(pig_b, 20, 3)\n",
    "\n",
    "pig_p = np.mean(df_pig_p_scaled[:, 1:], axis=1)\n",
    "#pig_p[1800:1860] = fixer(pig_p[1800:1860], 10)\n",
    "pig_p_filtered = savgol_filter(pig_p, 20, 3)\n",
    "\n",
    "pig_rj = np.mean(df_pig_rj_scaled[:, 1:], axis=1)\n",
    "#pig_rj[1800:1860] = fixer(pig_rj[1800:1860], 10)\n",
    "pig_rj_filtered = savgol_filter(pig_rj, 20, 3)\n",
    "\n",
    "pig_s = np.mean(df_pig_s_scaled[:, 1:], axis=1)\n",
    "#pig_s[1800:1860] = fixer(pig_s[1800:1860], 10)\n",
    "pig_s_filtered = savgol_filter(pig_s, 20, 3)"
   ]
  },
  {
   "cell_type": "code",
   "execution_count": null,
   "metadata": {},
   "outputs": [],
   "source": [
    "fig, ax = plt.subplots(figsize=(10,5))\n",
    "ax.plot(df_pig_b[:,0], pig_b_filtered)\n",
    "ax.plot(df_pig_p[:,0], pig_p_filtered)\n",
    "ax.plot(df_pig_rj[:,0], pig_rj_filtered)\n",
    "ax.plot(df_pig_s[:,0], pig_s_filtered)\n",
    "ax.set_xlabel('Wavenumber (cm-1)')\n",
    "ax.set_ylabel('Absorbance')\n",
    "ax.set_title('Pig')\n",
    "plt.show()"
   ]
  },
  {
   "cell_type": "code",
   "execution_count": null,
   "metadata": {},
   "outputs": [],
   "source": [
    "if not os.path.exists('../data/Data Lemak/preprocessed/pure fat/pig/'):\n",
    "    os.makedirs('../data/Data Lemak/preprocessed/pure fat/pig/')\n",
    "pd.DataFrame(df_pig_b_scaled).to_csv('../data/Data Lemak/preprocessed/pure fat/pig/pig_b_all.csv', index=False, header=False)\n",
    "pd.DataFrame([df_pig_b[:,0], pig_b_filtered]).T.to_csv('../data/Data Lemak/preprocessed/pure fat/pig/pig_b_mean.csv', index=False, header=False)\n",
    "pd.DataFrame(df_pig_p_scaled).to_csv('../data/Data Lemak/preprocessed/pure fat/pig/pig_p_all.csv', index=False, header=False)\n",
    "pd.DataFrame([df_pig_p[:,0], pig_p_filtered]).T.to_csv('../data/Data Lemak/preprocessed/pure fat/pig/pig_p_mean.csv', index=False, header=False)\n",
    "pd.DataFrame(df_pig_rj_scaled).to_csv('../data/Data Lemak/preprocessed/pure fat/pig/pig_rj_all.csv', index=False, header=False)\n",
    "pd.DataFrame([df_pig_rj[:,0], pig_rj_filtered]).T.to_csv('../data/Data Lemak/preprocessed/pure fat/pig/pig_rj_mean.csv', index=False, header=False)\n",
    "pd.DataFrame(df_pig_s_scaled).to_csv('../data/Data Lemak/preprocessed/pure fat/pig/pig_s_all.csv', index=False, header=False)\n",
    "pd.DataFrame([df_pig_s[:,0], pig_s_filtered]).T.to_csv('../data/Data Lemak/preprocessed/pure fat/pig/pig_s_mean.csv', index=False, header=False)"
   ]
  },
  {
   "cell_type": "markdown",
   "metadata": {},
   "source": [
    "# Preprocessing for Mixed Spectra"
   ]
  },
  {
   "cell_type": "markdown",
   "metadata": {},
   "source": [
    "## Pig-Chicken (25 - 75)"
   ]
  },
  {
   "cell_type": "code",
   "execution_count": null,
   "metadata": {},
   "outputs": [],
   "source": [
    "fig, ax = plt.subplots(figsize=(10,5))\n",
    "for i in range(0, len(data_pig_chicken_25_75)):\n",
    "    ax.plot(data_pig_chicken_25_75[i][:,0], data_pig_chicken_25_75[i][:,1], label='Pig-chicken ' + str(i+1))\n",
    "ax.set_xlabel('Wavenumber (cm-1)')\n",
    "ax.set_ylabel('Absorbance')\n",
    "ax.set_title('Pig-chicken 25-75')\n",
    "plt.show()"
   ]
  },
  {
   "cell_type": "code",
   "execution_count": null,
   "metadata": {},
   "outputs": [],
   "source": [
    "fig, ax = plt.subplots(figsize=(10,5))\n",
    "i = 46 # 13, 14, 16, 23, 35, 44, 45\n",
    "ax.plot(data_pig_chicken_25_75[i][:,0], data_pig_chicken_25_75[i][:,1], label='Pig-chicken ' + str(i+1))\n",
    "ax.set_xlabel('Wavenumber (cm-1)')\n",
    "ax.set_ylabel('Absorbance')\n",
    "ax.set_title('Pig-chicken 25-75')\n",
    "plt.show()"
   ]
  },
  {
   "cell_type": "code",
   "execution_count": null,
   "metadata": {},
   "outputs": [],
   "source": [
    "despike_13 = fixer(data_pig_chicken_25_75[13][:,1], 10)\n",
    "fig, ax = plt.subplots(figsize=(10,5))\n",
    "ax.plot(data_pig_chicken_25_75[13][:,0], data_pig_chicken_25_75[13][:,1], label='Pig-chicken')\n",
    "ax.plot(data_pig_chicken_25_75[13][:,0], despike_13[:], label='Despiked Pig-chicken')\n",
    "ax.set_xlabel('Wavenumber (cm-1)')\n",
    "ax.set_ylabel('Absorbance')\n",
    "ax.set_title('Pig-chicken 25-75')\n",
    "plt.legend()\n",
    "plt.show()"
   ]
  },
  {
   "cell_type": "code",
   "execution_count": null,
   "metadata": {},
   "outputs": [],
   "source": [
    "despike_14 = fixer(data_pig_chicken_25_75[14][:,1], 10, threshold=4)\n",
    "fig, ax = plt.subplots(figsize=(10,5))\n",
    "ax.plot(data_pig_chicken_25_75[14][:,0], data_pig_chicken_25_75[14][:,1], label='Pig-chicken')\n",
    "ax.plot(data_pig_chicken_25_75[14][:,0], despike_14[:], label='Despiked Pig-chicken')\n",
    "ax.set_xlabel('Wavenumber (cm-1)')\n",
    "ax.set_ylabel('Absorbance')\n",
    "ax.set_title('Pig-chicken 25-75')\n",
    "plt.legend()\n",
    "plt.show()"
   ]
  },
  {
   "cell_type": "code",
   "execution_count": null,
   "metadata": {},
   "outputs": [],
   "source": [
    "despike_16 = fixer(data_pig_chicken_25_75[16][:,1], 10)\n",
    "fig, ax = plt.subplots(figsize=(10,5))\n",
    "ax.plot(data_pig_chicken_25_75[16][:,0], data_pig_chicken_25_75[16][:,1], label='Pig-chicken')\n",
    "ax.plot(data_pig_chicken_25_75[16][:,0], despike_16[:], label='Despiked Pig-chicken')\n",
    "ax.set_xlabel('Wavenumber (cm-1)')\n",
    "ax.set_ylabel('Absorbance')\n",
    "ax.set_title('Pig-chicken 25-75')\n",
    "plt.legend()\n",
    "plt.show()"
   ]
  },
  {
   "cell_type": "code",
   "execution_count": null,
   "metadata": {},
   "outputs": [],
   "source": [
    "despike_23 = fixer(data_pig_chicken_25_75[23][:,1], 10)\n",
    "fig, ax = plt.subplots(figsize=(10,5))\n",
    "ax.plot(data_pig_chicken_25_75[23][:,0], data_pig_chicken_25_75[23][:,1], label='Pig-chicken')\n",
    "ax.plot(data_pig_chicken_25_75[23][:,0], despike_23[:], label='Despiked Pig-chicken')\n",
    "ax.set_xlabel('Wavenumber (cm-1)')\n",
    "ax.set_ylabel('Absorbance')\n",
    "ax.set_title('Pig-chicken 25-75')\n",
    "plt.legend()\n",
    "plt.show()"
   ]
  },
  {
   "cell_type": "code",
   "execution_count": null,
   "metadata": {},
   "outputs": [],
   "source": [
    "despike_35 = fixer(data_pig_chicken_25_75[35][:,1], 10)\n",
    "fig, ax = plt.subplots(figsize=(10,5))\n",
    "ax.plot(data_pig_chicken_25_75[35][:,0], data_pig_chicken_25_75[35][:,1], label='Pig-chicken')\n",
    "ax.plot(data_pig_chicken_25_75[35][:,0], despike_35[:], label='Despiked Pig-chicken')\n",
    "ax.set_xlabel('Wavenumber (cm-1)')\n",
    "ax.set_ylabel('Absorbance')\n",
    "ax.set_title('Pig-chicken 25-75')\n",
    "plt.legend()\n",
    "plt.show()"
   ]
  },
  {
   "cell_type": "code",
   "execution_count": null,
   "metadata": {},
   "outputs": [],
   "source": [
    "despike_44 = fixer(data_pig_chicken_25_75[44][:,1], 10, threshold=4)\n",
    "fig, ax = plt.subplots(figsize=(10,5))\n",
    "ax.plot(data_pig_chicken_25_75[44][:,0], data_pig_chicken_25_75[44][:,1], label='Pig-chicken')\n",
    "ax.plot(data_pig_chicken_25_75[44][:,0], despike_44[:], label='Despiked Pig-chicken')\n",
    "ax.set_xlabel('Wavenumber (cm-1)')\n",
    "ax.set_ylabel('Absorbance')\n",
    "ax.set_title('Pig-chicken 25-75')\n",
    "plt.legend()\n",
    "plt.show()"
   ]
  },
  {
   "cell_type": "code",
   "execution_count": null,
   "metadata": {},
   "outputs": [],
   "source": [
    "despike_45 = fixer(data_pig_chicken_25_75[45][:,1], 10, threshold=4)\n",
    "fig, ax = plt.subplots(figsize=(10,5))\n",
    "ax.plot(data_pig_chicken_25_75[45][:,0], data_pig_chicken_25_75[45][:,1], label='Pig-chicken')\n",
    "ax.plot(data_pig_chicken_25_75[45][:,0], despike_45[:], label='Despiked Pig-chicken')\n",
    "ax.set_xlabel('Wavenumber (cm-1)')\n",
    "ax.set_ylabel('Absorbance')\n",
    "ax.set_title('Pig-chicken 25-75')\n",
    "plt.legend()\n",
    "plt.show()"
   ]
  },
  {
   "cell_type": "code",
   "execution_count": null,
   "metadata": {},
   "outputs": [],
   "source": [
    "data_pig_chicken_25_75[13][:,1] = despike_13\n",
    "data_pig_chicken_25_75[14][:,1] = despike_14\n",
    "data_pig_chicken_25_75[16][:,1] = despike_16\n",
    "data_pig_chicken_25_75[23][:,1] = despike_23\n",
    "data_pig_chicken_25_75[35][:,1] = despike_35\n",
    "data_pig_chicken_25_75[44][:,1] = despike_44\n",
    "data_pig_chicken_25_75[45][:,1] = despike_45"
   ]
  },
  {
   "cell_type": "code",
   "execution_count": null,
   "metadata": {},
   "outputs": [],
   "source": [
    "baseline_= baseline_als(data_pig_chicken_25_75[1][:,1], 1000000, 0.005)\n",
    "fig, ax = plt.subplots(figsize=(10,5))\n",
    "ax.plot(data_pig_chicken_25_75[1][:,0], data_pig_chicken_25_75[1][:,1])\n",
    "ax.plot(data_pig_chicken_25_75[0][:,0], baseline_)\n",
    "ax.set_xlabel('Wavenumber (cm-1)')\n",
    "ax.set_ylabel('Absorbance')\n",
    "ax.set_title('Pig-chicken 25-75')\n",
    "plt.show()"
   ]
  },
  {
   "cell_type": "code",
   "execution_count": null,
   "metadata": {},
   "outputs": [],
   "source": [
    "df_pig_chicken_25_75 = data_pig_chicken_25_75[0][:,0]\n",
    "for i in range(0, len(data_pig_chicken_25_75)):\n",
    "    # Baseline correction\n",
    "    baseline_= baseline_als(data_pig_chicken_25_75[i][:,1], 1000000, 0.005)\n",
    "    df_pig_chicken_25_75 = np.vstack((df_pig_chicken_25_75, data_pig_chicken_25_75[i][:,1] - baseline_))\n",
    "df_pig_chicken_25_75 = np.transpose(df_pig_chicken_25_75)\n",
    "scaler = MinMaxScaler()\n",
    "df_pig_chicken_25_75_scaled = scaler.fit_transform(df_pig_chicken_25_75[:,1:])\n",
    "df_pig_chicken_25_75_scaled = np.hstack((df_pig_chicken_25_75[:,0].reshape(-1,1), df_pig_chicken_25_75_scaled))"
   ]
  },
  {
   "cell_type": "code",
   "execution_count": null,
   "metadata": {},
   "outputs": [],
   "source": [
    "fig, ax = plt.subplots(figsize=(10,5))\n",
    "for i in range(1, df_pig_chicken_25_75_scaled.shape[1]):\n",
    "    ax.plot(df_pig_chicken_25_75_scaled[:,0], df_pig_chicken_25_75_scaled[:,i], label='Pig-chicken ' + str(i+1))\n",
    "ax.set_xlabel('Wavenumber (cm-1)')\n",
    "ax.set_ylabel('Absorbance')\n",
    "ax.set_title('Pig-chicken 25-75')\n",
    "plt.show()"
   ]
  },
  {
   "cell_type": "code",
   "execution_count": null,
   "metadata": {},
   "outputs": [],
   "source": [
    "pig_chicken_25_75 = np.mean(df_pig_chicken_25_75_scaled[:, 1:], axis=1)\n",
    "#pig_chicken_25_75[1800:1860] = fixer(pig_chicken_25_75[1800:1860], 10)\n",
    "pig_chicken_25_75_filtered = savgol_filter(pig_chicken_25_75, 20, 3)"
   ]
  },
  {
   "cell_type": "code",
   "execution_count": null,
   "metadata": {},
   "outputs": [],
   "source": [
    "fig, ax = plt.subplots(figsize=(10,5))\n",
    "ax.plot(df_pig_chicken_25_75[:,0], pig_chicken_25_75_filtered)\n",
    "ax.set_xlabel('Wavenumber (cm-1)')\n",
    "ax.set_ylabel('Absorbance')\n",
    "ax.set_title('Pig-chicken 25-75')\n",
    "plt.show()"
   ]
  },
  {
   "cell_type": "code",
   "execution_count": null,
   "metadata": {},
   "outputs": [],
   "source": [
    "path = '../data/Data Lemak/preprocessed/contamination/pig-chicken/pig-chicken 25-75/'\n",
    "if not os.path.exists(path):\n",
    "    os.makedirs(path)\n",
    "pd.DataFrame(df_pig_chicken_25_75_scaled).to_csv(path+'/pig_chicken_25_75_all.csv', index=False, header=False)\n",
    "pd.DataFrame([df_pig_chicken_25_75[:,0], pig_chicken_25_75_filtered]).T.to_csv(path+'pig_chicken_25_75_mean.csv', index=False, header=False)"
   ]
  },
  {
   "cell_type": "markdown",
   "metadata": {},
   "source": [
    "## Pig-Chicken (50 - 50)"
   ]
  },
  {
   "cell_type": "code",
   "execution_count": null,
   "metadata": {},
   "outputs": [],
   "source": [
    "fig, ax = plt.subplots(figsize=(10,5))\n",
    "for i in range(0, len(data_pig_chicken_50_50)):\n",
    "    ax.plot(data_pig_chicken_50_50[i][:,0], data_pig_chicken_50_50[i][:,1], label='Pig-chicken ' + str(i+1))\n",
    "ax.set_xlabel('Wavenumber (cm-1)')\n",
    "ax.set_ylabel('Absorbance')\n",
    "ax.set_title('Pig-chicken 50-50')\n",
    "plt.show()"
   ]
  },
  {
   "cell_type": "code",
   "execution_count": null,
   "metadata": {},
   "outputs": [],
   "source": [
    "fig, ax = plt.subplots(figsize=(10,5))\n",
    "i = 9 #12, 19, 20, 22, 23, 24, 31, 32, 39, 43, 44\n",
    "ax.plot(data_pig_chicken_50_50[i][:,0], data_pig_chicken_50_50[i][:,1], label='Pig-chicken ' + str(i+1))\n",
    "ax.set_xlabel('Wavenumber (cm-1)')\n",
    "ax.set_ylabel('Absorbance')\n",
    "ax.set_title('Pig-chicken 50-50')\n",
    "plt.show()"
   ]
  },
  {
   "cell_type": "code",
   "execution_count": null,
   "metadata": {},
   "outputs": [],
   "source": [
    "despike_12 = fixer(data_pig_chicken_50_50[12][:,1], 10, threshold=5)\n",
    "fig, ax = plt.subplots(figsize=(10,5))\n",
    "ax.plot(data_pig_chicken_50_50[12][:,0], data_pig_chicken_50_50[12][:,1], label='Pig-chicken')\n",
    "ax.plot(data_pig_chicken_50_50[12][:,0], despike_12[:], label='Despiked Pig-chicken')\n",
    "ax.set_xlabel('Wavenumber (cm-1)')\n",
    "ax.set_ylabel('Absorbance')\n",
    "ax.set_title('Pig-chicken 50-50')\n",
    "plt.legend()\n",
    "plt.show()"
   ]
  },
  {
   "cell_type": "code",
   "execution_count": null,
   "metadata": {},
   "outputs": [],
   "source": [
    "despike_19 = fixer(fixer(data_pig_chicken_50_50[19][:,1], 5, threshold=5), 5, threshold=4)\n",
    "fig, ax = plt.subplots(figsize=(10,5))\n",
    "ax.plot(data_pig_chicken_50_50[19][:,0], data_pig_chicken_50_50[19][:,1], label='Pig-chicken')\n",
    "ax.plot(data_pig_chicken_50_50[19][:,0], despike_19[:], label='Despiked Pig-chicken')\n",
    "ax.set_xlabel('Wavenumber (cm-1)')\n",
    "ax.set_ylabel('Absorbance')\n",
    "ax.set_title('Pig-chicken 50-50')\n",
    "plt.legend()\n",
    "plt.show()"
   ]
  },
  {
   "cell_type": "code",
   "execution_count": null,
   "metadata": {},
   "outputs": [],
   "source": [
    "despike_20 = fixer(data_pig_chicken_50_50[20][:,1], 10, threshold=5)\n",
    "fig, ax = plt.subplots(figsize=(10,5))\n",
    "ax.plot(data_pig_chicken_50_50[20][:,0], data_pig_chicken_50_50[20][:,1], label='Pig-chicken')\n",
    "ax.plot(data_pig_chicken_50_50[20][:,0], despike_20[:], label='Despiked Pig-chicken')\n",
    "ax.set_xlabel('Wavenumber (cm-1)')\n",
    "ax.set_ylabel('Absorbance')\n",
    "ax.set_title('Pig-chicken 50-50')\n",
    "plt.legend()\n",
    "plt.show()"
   ]
  },
  {
   "cell_type": "code",
   "execution_count": null,
   "metadata": {},
   "outputs": [],
   "source": [
    "despike_22 = fixer(data_pig_chicken_50_50[22][:,1], 10, threshold=6)\n",
    "fig, ax = plt.subplots(figsize=(10,5))\n",
    "ax.plot(data_pig_chicken_50_50[22][:,0], data_pig_chicken_50_50[22][:,1], label='Pig-chicken')\n",
    "ax.plot(data_pig_chicken_50_50[22][:,0], despike_22[:], label='Despiked Pig-chicken')\n",
    "ax.set_xlabel('Wavenumber (cm-1)')\n",
    "ax.set_ylabel('Absorbance')\n",
    "ax.set_title('Pig-chicken 50-50')\n",
    "plt.legend()\n",
    "plt.show()"
   ]
  },
  {
   "cell_type": "code",
   "execution_count": null,
   "metadata": {},
   "outputs": [],
   "source": [
    "despike_23 = fixer(data_pig_chicken_50_50[23][:,1], 5, threshold=6)\n",
    "fig, ax = plt.subplots(figsize=(10,5))\n",
    "ax.plot(data_pig_chicken_50_50[23][:,0], data_pig_chicken_50_50[23][:,1], label='Pig-chicken')\n",
    "ax.plot(data_pig_chicken_50_50[23][:,0], despike_23[:], label='Despiked Pig-chicken')\n",
    "ax.set_xlabel('Wavenumber (cm-1)')\n",
    "ax.set_ylabel('Absorbance')\n",
    "ax.set_title('Pig-chicken 50-50')\n",
    "plt.legend()\n",
    "plt.show()"
   ]
  },
  {
   "cell_type": "code",
   "execution_count": null,
   "metadata": {},
   "outputs": [],
   "source": [
    "despike_24 = fixer(fixer(data_pig_chicken_50_50[24][:,1], 25, threshold=3), 10)\n",
    "fig, ax = plt.subplots(figsize=(10,5))\n",
    "ax.plot(data_pig_chicken_50_50[24][:,0], data_pig_chicken_50_50[24][:,1], label='Pig-chicken')\n",
    "ax.plot(data_pig_chicken_50_50[24][:,0], despike_24[:], label='Despiked Pig-chicken')\n",
    "ax.set_xlabel('Wavenumber (cm-1)')\n",
    "ax.set_ylabel('Absorbance')\n",
    "ax.set_title('Pig-chicken 50-50')\n",
    "plt.legend()\n",
    "plt.show()"
   ]
  },
  {
   "cell_type": "code",
   "execution_count": null,
   "metadata": {},
   "outputs": [],
   "source": [
    "despike_31 = fixer(data_pig_chicken_50_50[31][:,1], 10, threshold=7)\n",
    "fig, ax = plt.subplots(figsize=(10,5))\n",
    "ax.plot(data_pig_chicken_50_50[31][:,0], data_pig_chicken_50_50[31][:,1], label='Pig-chicken')\n",
    "ax.plot(data_pig_chicken_50_50[31][:,0], despike_31[:], label='Despiked Pig-chicken')\n",
    "ax.set_xlabel('Wavenumber (cm-1)')\n",
    "ax.set_ylabel('Absorbance')\n",
    "ax.set_title('Pig-chicken 50-50')\n",
    "plt.legend()\n",
    "plt.show()"
   ]
  },
  {
   "cell_type": "code",
   "execution_count": null,
   "metadata": {},
   "outputs": [],
   "source": [
    "despike_32 = fixer(data_pig_chicken_50_50[32][:,1], 10, threshold=4)\n",
    "fig, ax = plt.subplots(figsize=(10,5))\n",
    "ax.plot(data_pig_chicken_50_50[32][:,0], data_pig_chicken_50_50[32][:,1], label='Pig-chicken')\n",
    "ax.plot(data_pig_chicken_50_50[32][:,0], despike_32[:], label='Despiked Pig-chicken')\n",
    "ax.set_xlabel('Wavenumber (cm-1)')\n",
    "ax.set_ylabel('Absorbance')\n",
    "ax.set_title('Pig-chicken 50-50')\n",
    "plt.legend()\n",
    "plt.show()"
   ]
  },
  {
   "cell_type": "code",
   "execution_count": null,
   "metadata": {},
   "outputs": [],
   "source": [
    "despike_39 = fixer(data_pig_chicken_50_50[39][:,1], 10, threshold=7)\n",
    "fig, ax = plt.subplots(figsize=(10,5))\n",
    "ax.plot(data_pig_chicken_50_50[39][:,0], data_pig_chicken_50_50[39][:,1], label='Pig-chicken')\n",
    "ax.plot(data_pig_chicken_50_50[39][:,0], despike_39[:], label='Despiked Pig-chicken')\n",
    "ax.set_xlabel('Wavenumber (cm-1)')\n",
    "ax.set_ylabel('Absorbance')\n",
    "ax.set_title('Pig-chicken 50-50')\n",
    "plt.legend()\n",
    "plt.show()"
   ]
  },
  {
   "cell_type": "code",
   "execution_count": null,
   "metadata": {},
   "outputs": [],
   "source": [
    "despike_43 = fixer(data_pig_chicken_50_50[43][:,1], 10, threshold=7)\n",
    "fig, ax = plt.subplots(figsize=(10,5))\n",
    "ax.plot(data_pig_chicken_50_50[43][:,0], data_pig_chicken_50_50[43][:,1], label='Pig-chicken')\n",
    "ax.plot(data_pig_chicken_50_50[43][:,0], despike_43[:], label='Despiked Pig-chicken')\n",
    "ax.set_xlabel('Wavenumber (cm-1)')\n",
    "ax.set_ylabel('Absorbance')\n",
    "ax.set_title('Pig-chicken 50-50')\n",
    "plt.legend()\n",
    "plt.show()"
   ]
  },
  {
   "cell_type": "code",
   "execution_count": null,
   "metadata": {},
   "outputs": [],
   "source": [
    "despike_44 = fixer(data_pig_chicken_50_50[44][:,1], 10, threshold=5)\n",
    "fig, ax = plt.subplots(figsize=(10,5))\n",
    "ax.plot(data_pig_chicken_50_50[44][:,0], data_pig_chicken_50_50[44][:,1], label='Pig-chicken')\n",
    "ax.plot(data_pig_chicken_50_50[44][:,0], despike_44[:], label='Despiked Pig-chicken')\n",
    "ax.set_xlabel('Wavenumber (cm-1)')\n",
    "ax.set_ylabel('Absorbance')\n",
    "ax.set_title('Pig-chicken 50-50')\n",
    "plt.legend()\n",
    "plt.show()"
   ]
  },
  {
   "cell_type": "code",
   "execution_count": null,
   "metadata": {},
   "outputs": [],
   "source": [
    "data_pig_chicken_50_50[12][:,1] = despike_12\n",
    "data_pig_chicken_50_50[19][:,1] = despike_19\n",
    "data_pig_chicken_50_50[20][:,1] = despike_20\n",
    "data_pig_chicken_50_50[22][:,1] = despike_22\n",
    "data_pig_chicken_50_50[23][:,1] = despike_23\n",
    "data_pig_chicken_50_50[24][:,1] = despike_24\n",
    "data_pig_chicken_50_50[31][:,1] = despike_31\n",
    "data_pig_chicken_50_50[32][:,1] = despike_32\n",
    "data_pig_chicken_50_50[39][:,1] = despike_39\n",
    "data_pig_chicken_50_50[43][:,1] = despike_43\n",
    "data_pig_chicken_50_50[44][:,1] = despike_44"
   ]
  },
  {
   "cell_type": "code",
   "execution_count": null,
   "metadata": {},
   "outputs": [],
   "source": [
    "baseline_= baseline_als(data_pig_chicken_50_50[1][:,1], 1000000, 0.005)\n",
    "fig, ax = plt.subplots(figsize=(10,5))\n",
    "ax.plot(data_pig_chicken_50_50[1][:,0], data_pig_chicken_50_50[1][:,1])\n",
    "ax.plot(data_pig_chicken_50_50[0][:,0], baseline_)\n",
    "ax.set_xlabel('Wavenumber (cm-1)')\n",
    "ax.set_ylabel('Absorbance')\n",
    "ax.set_title('Pig-chicken 50-50')\n",
    "plt.show()"
   ]
  },
  {
   "cell_type": "code",
   "execution_count": null,
   "metadata": {},
   "outputs": [],
   "source": [
    "df_pig_chicken_50_50 = data_pig_chicken_50_50[0][:,0]\n",
    "for i in range(0, len(data_pig_chicken_50_50)):\n",
    "    # Baseline correction\n",
    "    baseline_= baseline_als(data_pig_chicken_50_50[i][:,1], 1000000, 0.005)\n",
    "    df_pig_chicken_50_50 = np.vstack((df_pig_chicken_50_50, data_pig_chicken_50_50[i][:,1] - baseline_))\n",
    "df_pig_chicken_50_50 = np.transpose(df_pig_chicken_50_50)\n",
    "scaler = MinMaxScaler()\n",
    "df_pig_chicken_50_50_scaled = scaler.fit_transform(df_pig_chicken_50_50[:,1:])\n",
    "df_pig_chicken_50_50_scaled = np.hstack((df_pig_chicken_50_50[:,0].reshape(-1,1), df_pig_chicken_50_50_scaled))"
   ]
  },
  {
   "cell_type": "code",
   "execution_count": null,
   "metadata": {},
   "outputs": [],
   "source": [
    "fig, ax = plt.subplots(figsize=(10,5))\n",
    "for i in range(1, df_pig_chicken_50_50_scaled.shape[1]):\n",
    "    ax.plot(df_pig_chicken_50_50_scaled[:,0], df_pig_chicken_50_50_scaled[:,i], label='Pig-chicken ' + str(i+1))\n",
    "ax.set_xlabel('Wavenumber (cm-1)')\n",
    "ax.set_ylabel('Absorbance')\n",
    "ax.set_title('Pig-chicken 50-50')\n",
    "plt.show()"
   ]
  },
  {
   "cell_type": "code",
   "execution_count": null,
   "metadata": {},
   "outputs": [],
   "source": [
    "pig_chicken_50_50 = np.mean(df_pig_chicken_50_50_scaled[:, 1:], axis=1)\n",
    "#pig_chicken_50_50[1800:1860] = fixer(pig_chicken_50_50[1800:1860], 10)\n",
    "pig_chicken_50_50_filtered = savgol_filter(pig_chicken_50_50, 20, 3)"
   ]
  },
  {
   "cell_type": "code",
   "execution_count": null,
   "metadata": {},
   "outputs": [],
   "source": [
    "fig, ax = plt.subplots(figsize=(10,5))\n",
    "ax.plot(df_pig_chicken_50_50[:,0], pig_chicken_50_50_filtered)\n",
    "ax.set_xlabel('Wavenumber (cm-1)')\n",
    "ax.set_ylabel('Absorbance')\n",
    "ax.set_title('Pig-chicken 50-50')\n",
    "plt.show()"
   ]
  },
  {
   "cell_type": "code",
   "execution_count": null,
   "metadata": {},
   "outputs": [],
   "source": [
    "path = '../data/Data Lemak/preprocessed/contamination/pig-chicken/pig-chicken 50-50/'\n",
    "if not os.path.exists(path):\n",
    "    os.makedirs(path)\n",
    "pd.DataFrame(df_pig_chicken_50_50_scaled).to_csv(path+'/pig_chicken_50_50_all.csv', index=False, header=False)\n",
    "pd.DataFrame([df_pig_chicken_50_50[:,0], pig_chicken_50_50_filtered]).T.to_csv(path+'pig_chicken_50_50_mean.csv', index=False, header=False)"
   ]
  },
  {
   "cell_type": "markdown",
   "metadata": {},
   "source": [
    "## Pig-Chicken (75 - 25)"
   ]
  },
  {
   "cell_type": "code",
   "execution_count": null,
   "metadata": {},
   "outputs": [],
   "source": [
    "fig, ax = plt.subplots(figsize=(10,5))\n",
    "for i in range(0, len(data_pig_chicken_75_25)):\n",
    "    ax.plot(data_pig_chicken_75_25[i][:,0], data_pig_chicken_75_25[i][:,1], label='Pig-chicken ' + str(i+1))\n",
    "ax.set_xlabel('Wavenumber (cm-1)')\n",
    "ax.set_ylabel('Absorbance')\n",
    "ax.set_title('Pig-chicken 75-25')\n",
    "plt.show()"
   ]
  },
  {
   "cell_type": "code",
   "execution_count": null,
   "metadata": {},
   "outputs": [],
   "source": [
    "fig, ax = plt.subplots(figsize=(10,5))\n",
    "i = 32 #0, 14, 16, 19, 20, 26, 32, 36, 37, 39, 42, 43\n",
    "ax.plot(data_pig_chicken_75_25[i][:,0], data_pig_chicken_75_25[i][:,1], label='Pig-chicken ' + str(i+1))\n",
    "ax.set_xlabel('Wavenumber (cm-1)')\n",
    "ax.set_ylabel('Absorbance')\n",
    "ax.set_title('Pig-chicken 75-25')\n",
    "plt.show()"
   ]
  },
  {
   "cell_type": "code",
   "execution_count": null,
   "metadata": {},
   "outputs": [],
   "source": [
    "despike_0 = fixer(data_pig_chicken_75_25[0][:,1], 10, threshold=7)\n",
    "fig, ax = plt.subplots(figsize=(10,5))\n",
    "ax.plot(data_pig_chicken_75_25[0][:,0], data_pig_chicken_75_25[0][:,1], label='Pig-chicken')\n",
    "ax.plot(data_pig_chicken_75_25[0][:,0], despike_0[:], label='Despiked Pig-chicken')\n",
    "ax.set_xlabel('Wavenumber (cm-1)')\n",
    "ax.set_ylabel('Absorbance')\n",
    "ax.set_title('Pig-chicken 75-25')\n",
    "plt.legend()\n",
    "plt.show()"
   ]
  },
  {
   "cell_type": "code",
   "execution_count": null,
   "metadata": {},
   "outputs": [],
   "source": [
    "despike_14 = fixer(fixer(data_pig_chicken_75_25[14][:,1], 5, threshold=4), 10)\n",
    "fig, ax = plt.subplots(figsize=(10,5))\n",
    "ax.plot(data_pig_chicken_75_25[14][:,0], data_pig_chicken_75_25[14][:,1], label='Pig-chicken')\n",
    "ax.plot(data_pig_chicken_75_25[14][:,0], despike_14[:], label='Despiked Pig-chicken')\n",
    "ax.set_xlabel('Wavenumber (cm-1)')\n",
    "ax.set_ylabel('Absorbance')\n",
    "ax.set_title('Pig-chicken 75-25')\n",
    "plt.legend()\n",
    "plt.show()"
   ]
  },
  {
   "cell_type": "code",
   "execution_count": null,
   "metadata": {},
   "outputs": [],
   "source": [
    "despike_16 = fixer(data_pig_chicken_75_25[16][:,1], 10, threshold=7)\n",
    "fig, ax = plt.subplots(figsize=(10,5))\n",
    "ax.plot(data_pig_chicken_75_25[16][:,0], data_pig_chicken_75_25[16][:,1], label='Pig-chicken')\n",
    "ax.plot(data_pig_chicken_75_25[16][:,0], despike_16[:], label='Despiked Pig-chicken')\n",
    "ax.set_xlabel('Wavenumber (cm-1)')\n",
    "ax.set_ylabel('Absorbance')\n",
    "ax.set_title('Pig-chicken 75-25')\n",
    "plt.legend()\n",
    "plt.show()"
   ]
  },
  {
   "cell_type": "code",
   "execution_count": null,
   "metadata": {},
   "outputs": [],
   "source": [
    "despike_19 = fixer(data_pig_chicken_75_25[19][:,1], 10, threshold=7)\n",
    "fig, ax = plt.subplots(figsize=(10,5))\n",
    "ax.plot(data_pig_chicken_75_25[19][:,0], data_pig_chicken_75_25[19][:,1], label='Pig-chicken')\n",
    "ax.plot(data_pig_chicken_75_25[19][:,0], despike_19[:], label='Despiked Pig-chicken')\n",
    "ax.set_xlabel('Wavenumber (cm-1)')\n",
    "ax.set_ylabel('Absorbance')\n",
    "ax.set_title('Pig-chicken 75-25')\n",
    "plt.legend()\n",
    "plt.show()"
   ]
  },
  {
   "cell_type": "code",
   "execution_count": null,
   "metadata": {},
   "outputs": [],
   "source": [
    "despike_20 = fixer(data_pig_chicken_75_25[20][:,1], 10, threshold=7)\n",
    "fig, ax = plt.subplots(figsize=(10,5))\n",
    "ax.plot(data_pig_chicken_75_25[20][:,0], data_pig_chicken_75_25[20][:,1], label='Pig-chicken')\n",
    "ax.plot(data_pig_chicken_75_25[20][:,0], despike_20[:], label='Despiked Pig-chicken')\n",
    "ax.set_xlabel('Wavenumber (cm-1)')\n",
    "ax.set_ylabel('Absorbance')\n",
    "ax.set_title('Pig-chicken 75-25')\n",
    "plt.legend()\n",
    "plt.show()"
   ]
  },
  {
   "cell_type": "code",
   "execution_count": null,
   "metadata": {},
   "outputs": [],
   "source": [
    "despike_26 = fixer(data_pig_chicken_75_25[26][:,1], 10, threshold=7)\n",
    "fig, ax = plt.subplots(figsize=(10,5))\n",
    "ax.plot(data_pig_chicken_75_25[26][:,0], data_pig_chicken_75_25[26][:,1], label='Pig-chicken')\n",
    "ax.plot(data_pig_chicken_75_25[26][:,0], despike_26[:], label='Despiked Pig-chicken')\n",
    "ax.set_xlabel('Wavenumber (cm-1)')\n",
    "ax.set_ylabel('Absorbance')\n",
    "ax.set_title('Pig-chicken 75-25')\n",
    "plt.legend()\n",
    "plt.show()"
   ]
  },
  {
   "cell_type": "code",
   "execution_count": null,
   "metadata": {},
   "outputs": [],
   "source": [
    "despike_32 = fixer(data_pig_chicken_75_25[32][:,1], 10, threshold=7)\n",
    "fig, ax = plt.subplots(figsize=(10,5))\n",
    "ax.plot(data_pig_chicken_75_25[32][:,0], data_pig_chicken_75_25[32][:,1], label='Pig-chicken')\n",
    "ax.plot(data_pig_chicken_75_25[32][:,0], despike_32[:], label='Despiked Pig-chicken')\n",
    "ax.set_xlabel('Wavenumber (cm-1)')\n",
    "ax.set_ylabel('Absorbance')\n",
    "ax.set_title('Pig-chicken 75-25')\n",
    "plt.legend()\n",
    "plt.show()"
   ]
  },
  {
   "cell_type": "code",
   "execution_count": null,
   "metadata": {},
   "outputs": [],
   "source": [
    "despike_36 = fixer(data_pig_chicken_75_25[36][:,1], 10, threshold=7)\n",
    "fig, ax = plt.subplots(figsize=(10,5))\n",
    "ax.plot(data_pig_chicken_75_25[36][:,0], data_pig_chicken_75_25[36][:,1], label='Pig-chicken')\n",
    "ax.plot(data_pig_chicken_75_25[36][:,0], despike_36[:], label='Despiked Pig-chicken')\n",
    "ax.set_xlabel('Wavenumber (cm-1)')\n",
    "ax.set_ylabel('Absorbance')\n",
    "ax.set_title('Pig-chicken 75-25')\n",
    "plt.legend()\n",
    "plt.show()"
   ]
  },
  {
   "cell_type": "code",
   "execution_count": null,
   "metadata": {},
   "outputs": [],
   "source": [
    "despike_37 = fixer(fixer(data_pig_chicken_75_25[37][:,1], 5, threshold=3), 10, threshold=7)\n",
    "fig, ax = plt.subplots(figsize=(10,5))\n",
    "ax.plot(data_pig_chicken_75_25[37][:,0], data_pig_chicken_75_25[37][:,1], label='Pig-chicken')\n",
    "ax.plot(data_pig_chicken_75_25[37][:,0], despike_37[:], label='Despiked Pig-chicken')\n",
    "ax.set_xlabel('Wavenumber (cm-1)')\n",
    "ax.set_ylabel('Absorbance')\n",
    "ax.set_title('Pig-chicken 75-25')\n",
    "plt.legend()\n",
    "plt.show()"
   ]
  },
  {
   "cell_type": "code",
   "execution_count": null,
   "metadata": {},
   "outputs": [],
   "source": [
    "despike_39 = fixer(data_pig_chicken_75_25[39][:,1], 10, threshold=7)\n",
    "fig, ax = plt.subplots(figsize=(10,5))\n",
    "ax.plot(data_pig_chicken_75_25[39][:,0], data_pig_chicken_75_25[39][:,1], label='Pig-chicken')\n",
    "ax.plot(data_pig_chicken_75_25[39][:,0], despike_39[:], label='Despiked Pig-chicken')\n",
    "ax.set_xlabel('Wavenumber (cm-1)')\n",
    "ax.set_ylabel('Absorbance')\n",
    "ax.set_title('Pig-chicken 75-25')\n",
    "plt.legend()\n",
    "plt.show()"
   ]
  },
  {
   "cell_type": "code",
   "execution_count": null,
   "metadata": {},
   "outputs": [],
   "source": [
    "despike_42 = fixer(data_pig_chicken_75_25[42][:,1], 10, threshold=6)\n",
    "fig, ax = plt.subplots(figsize=(10,5))\n",
    "ax.plot(data_pig_chicken_75_25[42][:,0], data_pig_chicken_75_25[42][:,1], label='Pig-chicken')\n",
    "ax.plot(data_pig_chicken_75_25[42][:,0], despike_42[:], label='Despiked Pig-chicken')\n",
    "ax.set_xlabel('Wavenumber (cm-1)')\n",
    "ax.set_ylabel('Absorbance')\n",
    "ax.set_title('Pig-chicken 75-25')\n",
    "plt.legend()\n",
    "plt.show()"
   ]
  },
  {
   "cell_type": "code",
   "execution_count": null,
   "metadata": {},
   "outputs": [],
   "source": [
    "despike_43 = fixer(data_pig_chicken_75_25[43][:,1], 10, threshold=7)\n",
    "fig, ax = plt.subplots(figsize=(10,5))\n",
    "ax.plot(data_pig_chicken_75_25[43][:,0], data_pig_chicken_75_25[43][:,1], label='Pig-chicken')\n",
    "ax.plot(data_pig_chicken_75_25[43][:,0], despike_43[:], label='Despiked Pig-chicken')\n",
    "ax.set_xlabel('Wavenumber (cm-1)')\n",
    "ax.set_ylabel('Absorbance')\n",
    "ax.set_title('Pig-chicken 75-25')\n",
    "plt.legend()\n",
    "plt.show()"
   ]
  },
  {
   "cell_type": "code",
   "execution_count": null,
   "metadata": {},
   "outputs": [],
   "source": [
    "data_pig_chicken_75_25[0][:,1] = despike_0\n",
    "data_pig_chicken_75_25[14][:,1] = despike_14\n",
    "data_pig_chicken_75_25[16][:,1] = despike_16\n",
    "data_pig_chicken_75_25[19][:,1] = despike_19\n",
    "data_pig_chicken_75_25[20][:,1] = despike_20\n",
    "data_pig_chicken_75_25[26][:,1] = despike_26\n",
    "data_pig_chicken_75_25[32][:,1] = despike_32\n",
    "data_pig_chicken_75_25[36][:,1] = despike_36\n",
    "data_pig_chicken_75_25[37][:,1] = despike_37\n",
    "data_pig_chicken_75_25[39][:,1] = despike_39\n",
    "data_pig_chicken_75_25[42][:,1] = despike_42\n",
    "data_pig_chicken_75_25[43][:,1] = despike_43"
   ]
  },
  {
   "cell_type": "code",
   "execution_count": null,
   "metadata": {},
   "outputs": [],
   "source": [
    "baseline_= baseline_als(data_pig_chicken_75_25[1][:,1], 1000000, 0.01)\n",
    "fig, ax = plt.subplots(figsize=(10,5))\n",
    "ax.plot(data_pig_chicken_75_25[1][:,0], data_pig_chicken_75_25[1][:,1])\n",
    "ax.plot(data_pig_chicken_75_25[0][:,0], baseline_)\n",
    "ax.set_xlabel('Wavenumber (cm-1)')\n",
    "ax.set_ylabel('Absorbance')\n",
    "ax.set_title('Pig-chicken 75-25')\n",
    "plt.show()"
   ]
  },
  {
   "cell_type": "code",
   "execution_count": null,
   "metadata": {},
   "outputs": [],
   "source": [
    "df_pig_chicken_75_25 = data_pig_chicken_75_25[0][:,0]\n",
    "for i in range(0, len(data_pig_chicken_75_25)):\n",
    "    # Baseline correction\n",
    "    baseline_= baseline_als(data_pig_chicken_75_25[i][:,1], 1000000, 0.01)\n",
    "    df_pig_chicken_75_25 = np.vstack((df_pig_chicken_75_25, data_pig_chicken_75_25[i][:,1] - baseline_))\n",
    "df_pig_chicken_75_25 = np.transpose(df_pig_chicken_75_25)\n",
    "scaler = MinMaxScaler()\n",
    "df_pig_chicken_75_25_scaled = scaler.fit_transform(df_pig_chicken_75_25[:,1:])\n",
    "df_pig_chicken_75_25_scaled = np.hstack((df_pig_chicken_75_25[:,0].reshape(-1,1), df_pig_chicken_75_25_scaled))"
   ]
  },
  {
   "cell_type": "code",
   "execution_count": null,
   "metadata": {},
   "outputs": [],
   "source": [
    "fig, ax = plt.subplots(figsize=(10,5))\n",
    "for i in range(1, df_pig_chicken_75_25_scaled.shape[1]):\n",
    "    ax.plot(df_pig_chicken_75_25_scaled[:,0], df_pig_chicken_75_25_scaled[:,i], label='Pig-chicken ' + str(i+1))\n",
    "ax.set_xlabel('Wavenumber (cm-1)')\n",
    "ax.set_ylabel('Absorbance')\n",
    "ax.set_title('Pig-chicken 75-25')\n",
    "plt.show()"
   ]
  },
  {
   "cell_type": "code",
   "execution_count": null,
   "metadata": {},
   "outputs": [],
   "source": [
    "pig_chicken_75_25 = np.mean(df_pig_chicken_75_25_scaled[:, 1:], axis=1)\n",
    "#pig_chicken_75_25[1800:1860] = fixer(pig_chicken_75_25[1800:1860], 10)\n",
    "pig_chicken_75_25_filtered = savgol_filter(pig_chicken_75_25, 20, 3)"
   ]
  },
  {
   "cell_type": "code",
   "execution_count": null,
   "metadata": {},
   "outputs": [],
   "source": [
    "fig, ax = plt.subplots(figsize=(10,5))\n",
    "ax.plot(df_pig_chicken_75_25[:,0], pig_chicken_75_25_filtered)\n",
    "ax.set_xlabel('Wavenumber (cm-1)')\n",
    "ax.set_ylabel('Absorbance')\n",
    "ax.set_title('Pig-chicken 75-25')\n",
    "plt.show()"
   ]
  },
  {
   "cell_type": "code",
   "execution_count": null,
   "metadata": {},
   "outputs": [],
   "source": [
    "path = '../data/Data Lemak/preprocessed/contamination/pig-chicken/pig-chicken 75-25/'\n",
    "if not os.path.exists(path):\n",
    "    os.makedirs(path)\n",
    "pd.DataFrame(df_pig_chicken_75_25_scaled).to_csv(path+'/pig_chicken_75_25_all.csv', index=False, header=False)\n",
    "pd.DataFrame([df_pig_chicken_75_25[:,0], pig_chicken_75_25_filtered]).T.to_csv(path+'pig_chicken_75_25_mean.csv', index=False, header=False)"
   ]
  },
  {
   "cell_type": "markdown",
   "metadata": {},
   "source": [
    "## Pig-Cow (25 - 75)"
   ]
  },
  {
   "cell_type": "code",
   "execution_count": null,
   "metadata": {},
   "outputs": [],
   "source": [
    "fig, ax = plt.subplots(figsize=(10,5))\n",
    "for i in range(0, len(data_pig_cow_25_75)):\n",
    "    ax.plot(data_pig_cow_25_75[i][:,0], data_pig_cow_25_75[i][:,1], label='Pig-cow ' + str(i+1))\n",
    "ax.set_xlabel('Wavenumber (cm-1)')\n",
    "ax.set_ylabel('Absorbance')\n",
    "ax.set_title('Pig-cow 25-75')\n",
    "plt.show()"
   ]
  },
  {
   "cell_type": "code",
   "execution_count": null,
   "metadata": {},
   "outputs": [],
   "source": [
    "fig, ax = plt.subplots(figsize=(10,5))\n",
    "i = 36 # (2, 8, 9, 20, 33, 35)\n",
    "ax.plot(data_pig_cow_25_75[i][:,0], data_pig_cow_25_75[i][:,1], label='Pig-chicken ' + str(i+1))\n",
    "ax.set_xlabel('Wavenumber (cm-1)')\n",
    "ax.set_ylabel('Absorbance')\n",
    "ax.set_title('Pig-chicken 25-75')\n",
    "plt.show()"
   ]
  },
  {
   "cell_type": "code",
   "execution_count": null,
   "metadata": {},
   "outputs": [],
   "source": [
    "despike_2 =  fixer(data_pig_cow_25_75[2][:,1], 10)\n",
    "fig, ax = plt.subplots(figsize=(10,5))\n",
    "ax.plot(data_pig_cow_25_75[2][:,0], data_pig_cow_25_75[2][:,1], label='Pig-cow')\n",
    "ax.plot(data_pig_cow_25_75[2][:,0], despike_2[:], label='Despiked Pig-cow')\n",
    "ax.set_xlabel('Wavenumber (cm-1)')\n",
    "ax.set_ylabel('Absorbance')\n",
    "ax.set_title('Pig-cow 25-75')\n",
    "plt.legend()\n",
    "plt.show()"
   ]
  },
  {
   "cell_type": "code",
   "execution_count": null,
   "metadata": {},
   "outputs": [],
   "source": [
    "despike_8 = fixer(data_pig_cow_25_75[8][:,1], 10, threshold=4)\n",
    "fig, ax = plt.subplots(figsize=(10,5))\n",
    "ax.plot(data_pig_cow_25_75[8][:,0], data_pig_cow_25_75[8][:,1], label='Pig-cow')\n",
    "ax.plot(data_pig_cow_25_75[8][:,0], despike_8[:], label='Despiked Pig-cow')\n",
    "ax.set_xlabel('Wavenumber (cm-1)')\n",
    "ax.set_ylabel('Absorbance')\n",
    "ax.set_title('Pig-cow 25-75')\n",
    "plt.legend()\n",
    "plt.show()"
   ]
  },
  {
   "cell_type": "code",
   "execution_count": null,
   "metadata": {},
   "outputs": [],
   "source": [
    "despike_9 = fixer(data_pig_cow_25_75[9][:,1], 10, threshold=4)\n",
    "fig, ax = plt.subplots(figsize=(10,5))\n",
    "ax.plot(data_pig_cow_25_75[9][:,0], data_pig_cow_25_75[9][:,1], label='Pig-cow')\n",
    "ax.plot(data_pig_cow_25_75[9][:,0], despike_9[:], label='Despiked Pig-cow')\n",
    "ax.set_xlabel('Wavenumber (cm-1)')\n",
    "ax.set_ylabel('Absorbance')\n",
    "ax.set_title('Pig-cow 25-75')\n",
    "plt.legend()\n",
    "plt.show()"
   ]
  },
  {
   "cell_type": "code",
   "execution_count": null,
   "metadata": {},
   "outputs": [],
   "source": [
    "despike_20 = fixer(data_pig_cow_25_75[20][:,1], 10)\n",
    "fig, ax = plt.subplots(figsize=(10,5))\n",
    "ax.plot(data_pig_cow_25_75[20][:,0], data_pig_cow_25_75[20][:,1], label='Pig-cow')\n",
    "ax.plot(data_pig_cow_25_75[20][:,0], despike_20[:], label='Despiked Pig-cow')\n",
    "ax.set_xlabel('Wavenumber (cm-1)')\n",
    "ax.set_ylabel('Absorbance')\n",
    "ax.set_title('Pig-cow 25-75')\n",
    "plt.legend()\n",
    "plt.show()"
   ]
  },
  {
   "cell_type": "code",
   "execution_count": null,
   "metadata": {},
   "outputs": [],
   "source": [
    "despike_33 = fixer(data_pig_cow_25_75[33][:,1], 10)\n",
    "fig, ax = plt.subplots(figsize=(10,5))\n",
    "ax.plot(data_pig_cow_25_75[33][:,0], data_pig_cow_25_75[33][:,1], label='Pig-cow')\n",
    "ax.plot(data_pig_cow_25_75[33][:,0], despike_33[:], label='Despiked Pig-cow')\n",
    "ax.set_xlabel('Wavenumber (cm-1)')\n",
    "ax.set_ylabel('Absorbance')\n",
    "ax.set_title('Pig-cow 25-75')\n",
    "plt.legend()\n",
    "plt.show()"
   ]
  },
  {
   "cell_type": "code",
   "execution_count": null,
   "metadata": {},
   "outputs": [],
   "source": [
    "despike_35 = fixer(data_pig_cow_25_75[35][:,1], 10)\n",
    "fig, ax = plt.subplots(figsize=(10,5))\n",
    "ax.plot(data_pig_cow_25_75[35][:,0], data_pig_cow_25_75[35][:,1], label='Pig-cow')\n",
    "ax.plot(data_pig_cow_25_75[35][:,0], despike_35[:], label='Despiked Pig-cow')\n",
    "ax.set_xlabel('Wavenumber (cm-1)')\n",
    "ax.set_ylabel('Absorbance')\n",
    "ax.set_title('Pig-cow 25-75')\n",
    "plt.legend()\n",
    "plt.show()"
   ]
  },
  {
   "cell_type": "code",
   "execution_count": null,
   "metadata": {},
   "outputs": [],
   "source": [
    "data_pig_cow_25_75[2][:,1] = despike_2\n",
    "data_pig_cow_25_75[8][:,1] = despike_8\n",
    "data_pig_cow_25_75[9][:,1] = despike_9\n",
    "data_pig_cow_25_75[20][:,1] = despike_20\n",
    "data_pig_cow_25_75[33][:,1] = despike_33\n",
    "data_pig_cow_25_75[35][:,1] = despike_35"
   ]
  },
  {
   "cell_type": "code",
   "execution_count": null,
   "metadata": {},
   "outputs": [],
   "source": [
    "baseline_= baseline_als(data_pig_cow_25_75[1][:,1], 1000000, 0.005)\n",
    "fig, ax = plt.subplots(figsize=(10,5))\n",
    "ax.plot(data_pig_cow_25_75[1][:,0], data_pig_cow_25_75[1][:,1])\n",
    "ax.plot(data_pig_cow_25_75[0][:,0], baseline_)\n",
    "ax.set_xlabel('Wavenumber (cm-1)')\n",
    "ax.set_ylabel('Absorbance')\n",
    "ax.set_title('Pig-cow 25-75')\n",
    "plt.show()"
   ]
  },
  {
   "cell_type": "code",
   "execution_count": null,
   "metadata": {},
   "outputs": [],
   "source": [
    "df_pig_cow_25_75 = data_pig_cow_25_75[0][:,0]\n",
    "for i in range(0, len(data_pig_cow_25_75)):\n",
    "    # Baseline correction\n",
    "    baseline_= baseline_als(data_pig_cow_25_75[i][:,1], 1000000, 0.005)\n",
    "    df_pig_cow_25_75 = np.vstack((df_pig_cow_25_75, data_pig_cow_25_75[i][:,1] - baseline_))\n",
    "df_pig_cow_25_75 = np.transpose(df_pig_cow_25_75)\n",
    "scaler = MinMaxScaler()\n",
    "df_pig_cow_25_75_scaled = scaler.fit_transform(df_pig_cow_25_75[:,1:])\n",
    "df_pig_cow_25_75_scaled = np.hstack((df_pig_cow_25_75[:,0].reshape(-1,1), df_pig_cow_25_75_scaled))"
   ]
  },
  {
   "cell_type": "code",
   "execution_count": null,
   "metadata": {},
   "outputs": [],
   "source": [
    "fig, ax = plt.subplots(figsize=(10,5))\n",
    "for i in range(1, df_pig_cow_25_75_scaled.shape[1]):\n",
    "    ax.plot(df_pig_cow_25_75_scaled[:,0], df_pig_cow_25_75_scaled[:,i], label='Pig-cow ' + str(i+1))\n",
    "ax.set_xlabel('Wavenumber (cm-1)')\n",
    "ax.set_ylabel('Absorbance')\n",
    "ax.set_title('Pig-cow 25-75')\n",
    "plt.show()"
   ]
  },
  {
   "cell_type": "code",
   "execution_count": null,
   "metadata": {},
   "outputs": [],
   "source": [
    "pig_cow_25_75 = np.mean(df_pig_cow_25_75_scaled[:, 1:], axis=1)\n",
    "#pig_cow_25_75[1800:1860] = fixer(pig_cow_25_75[1800:1860], 10)\n",
    "pig_cow_25_75_filtered = savgol_filter(pig_cow_25_75, 20, 3)"
   ]
  },
  {
   "cell_type": "code",
   "execution_count": null,
   "metadata": {},
   "outputs": [],
   "source": [
    "fig, ax = plt.subplots(figsize=(10,5))\n",
    "ax.plot(df_pig_cow_25_75[:,0], pig_cow_25_75_filtered)\n",
    "ax.set_xlabel('Wavenumber (cm-1)')\n",
    "ax.set_ylabel('Absorbance')\n",
    "ax.set_title('Pig-cow 25-75')\n",
    "plt.show()"
   ]
  },
  {
   "cell_type": "code",
   "execution_count": null,
   "metadata": {},
   "outputs": [],
   "source": [
    "path = '../data/Data Lemak/preprocessed/contamination/pig-cow/pig-cow 25-75/'\n",
    "if not os.path.exists(path):\n",
    "    os.makedirs(path)\n",
    "pd.DataFrame(df_pig_cow_25_75_scaled).to_csv(path+'/pig_cow_25_75_all.csv', index=False, header=False)\n",
    "pd.DataFrame([df_pig_cow_25_75[:,0], pig_cow_25_75_filtered]).T.to_csv(path+'pig_cow_25_75_mean.csv', index=False, header=False)"
   ]
  },
  {
   "cell_type": "markdown",
   "metadata": {},
   "source": [
    "## Pig-Cow (50 - 50)"
   ]
  },
  {
   "cell_type": "code",
   "execution_count": null,
   "metadata": {},
   "outputs": [],
   "source": [
    "fig, ax = plt.subplots(figsize=(10,5))\n",
    "for i in range(0, len(data_pig_cow_50_50)):\n",
    "    ax.plot(data_pig_cow_50_50[i][:,0], data_pig_cow_50_50[i][:,1], label='Pig-cow ' + str(i+1))\n",
    "ax.set_xlabel('Wavenumber (cm-1)')\n",
    "ax.set_ylabel('Absorbance')\n",
    "ax.set_title('Pig-cow 50-50')\n",
    "plt.show()"
   ]
  },
  {
   "cell_type": "code",
   "execution_count": null,
   "metadata": {},
   "outputs": [],
   "source": [
    "fig, ax = plt.subplots(figsize=(10,5))\n",
    "for i in range(0, len(data_pig_cow_50_50)):\n",
    "    if i not in range(40,40) and i not in (1, 2, 7, 20, 27, 28, 40, 44, 45):\n",
    "        ax.plot(data_pig_cow_50_50[i][:,0], data_pig_cow_50_50[i][:,1], label='Pig-cow ' + str(i+1))\n",
    "ax.set_xlabel('Wavenumber (cm-1)')\n",
    "ax.set_ylabel('Absorbance')\n",
    "ax.set_title('Pig-cow 50-50')\n",
    "plt.show()"
   ]
  },
  {
   "cell_type": "code",
   "execution_count": null,
   "metadata": {},
   "outputs": [],
   "source": [
    "fig, ax = plt.subplots(figsize=(10,5))\n",
    "i = 45#1, 2, 7, 20, 27, 28, 40, 44, 45\n",
    "ax.plot(data_pig_cow_50_50[i][:,0], data_pig_cow_50_50[i][:,1], label='Pig-cow ' + str(i+1))\n",
    "ax.set_xlabel('Wavenumber (cm-1)')\n",
    "ax.set_ylabel('Absorbance')\n",
    "ax.set_title('Pig-cow 50-50')\n",
    "plt.show()"
   ]
  },
  {
   "cell_type": "code",
   "execution_count": null,
   "metadata": {},
   "outputs": [],
   "source": [
    "despike_1 = fixer(data_pig_cow_50_50[1][:,1], 10)\n",
    "fig, ax = plt.subplots(figsize=(10,5))\n",
    "ax.plot(data_pig_cow_50_50[1][:,0], data_pig_cow_50_50[1][:,1], label='Pig-cow')\n",
    "ax.plot(data_pig_cow_50_50[1][:,0], despike_1[:], label='Despiked Pig-cow')\n",
    "ax.set_xlabel('Wavenumber (cm-1)')\n",
    "ax.set_ylabel('Absorbance')\n",
    "ax.set_title('Pig-cow 50-50')\n",
    "plt.legend()\n",
    "plt.show()"
   ]
  },
  {
   "cell_type": "code",
   "execution_count": null,
   "metadata": {},
   "outputs": [],
   "source": [
    "despike_2 = fixer(fixer(data_pig_cow_50_50[2][:,1], 5, threshold=5), 5, threshold=4)\n",
    "fig, ax = plt.subplots(figsize=(10,5))\n",
    "ax.plot(data_pig_cow_50_50[2][:,0], data_pig_cow_50_50[2][:,1], label='Pig-cow')\n",
    "ax.plot(data_pig_cow_50_50[2][:,0], despike_2[:], label='Despiked Pig-cow')\n",
    "ax.set_xlabel('Wavenumber (cm-1)')\n",
    "ax.set_ylabel('Absorbance')\n",
    "ax.set_title('Pig-cow 50-50')\n",
    "plt.legend()\n",
    "plt.show()"
   ]
  },
  {
   "cell_type": "code",
   "execution_count": null,
   "metadata": {},
   "outputs": [],
   "source": [
    "despike_7 = fixer(data_pig_cow_50_50[7][:,1], 10)\n",
    "fig, ax = plt.subplots(figsize=(10,5))\n",
    "ax.plot(data_pig_cow_50_50[7][:,0], data_pig_cow_50_50[7][:,1], label='Pig-cow')\n",
    "ax.plot(data_pig_cow_50_50[7][:,0], despike_7[:], label='Despiked Pig-cow')\n",
    "ax.set_xlabel('Wavenumber (cm-1)')\n",
    "ax.set_ylabel('Absorbance')\n",
    "ax.set_title('Pig-cow 50-50')\n",
    "plt.legend()\n",
    "plt.show()"
   ]
  },
  {
   "cell_type": "code",
   "execution_count": null,
   "metadata": {},
   "outputs": [],
   "source": [
    "despike_20 = fixer(data_pig_cow_50_50[20][:,1], 10, threshold=6)\n",
    "fig, ax = plt.subplots(figsize=(10,5))\n",
    "ax.plot(data_pig_cow_50_50[20][:,0], data_pig_cow_50_50[20][:,1], label='Pig-cow')\n",
    "ax.plot(data_pig_cow_50_50[20][:,0], despike_20[:], label='Despiked Pig-cow')\n",
    "ax.set_xlabel('Wavenumber (cm-1)')\n",
    "ax.set_ylabel('Absorbance')\n",
    "ax.set_title('Pig-cow 50-50')\n",
    "plt.legend()\n",
    "plt.show()"
   ]
  },
  {
   "cell_type": "code",
   "execution_count": null,
   "metadata": {},
   "outputs": [],
   "source": [
    "despike_27 = fixer(data_pig_cow_50_50[27][:,1], 10, threshold=6)\n",
    "fig, ax = plt.subplots(figsize=(10,5))\n",
    "ax.plot(data_pig_cow_50_50[27][:,0], data_pig_cow_50_50[27][:,1], label='Pig-cow')\n",
    "ax.plot(data_pig_cow_50_50[27][:,0], despike_27[:], label='Despiked Pig-cow')\n",
    "ax.set_xlabel('Wavenumber (cm-1)')\n",
    "ax.set_ylabel('Absorbance')\n",
    "ax.set_title('Pig-cow 50-50')\n",
    "plt.legend()\n",
    "plt.show()"
   ]
  },
  {
   "cell_type": "code",
   "execution_count": null,
   "metadata": {},
   "outputs": [],
   "source": [
    "despike_28 = fixer(data_pig_cow_50_50[28][:,1], 5, threshold=6)\n",
    "fig, ax = plt.subplots(figsize=(10,5))\n",
    "ax.plot(data_pig_cow_50_50[28][:,0], data_pig_cow_50_50[28][:,1], label='Pig-cow')\n",
    "ax.plot(data_pig_cow_50_50[28][:,0], despike_28[:], label='Despiked Pig-cow')\n",
    "ax.set_xlabel('Wavenumber (cm-1)')\n",
    "ax.set_ylabel('Absorbance')\n",
    "ax.set_title('Pig-cow 50-50')\n",
    "plt.legend()\n",
    "plt.show()"
   ]
  },
  {
   "cell_type": "code",
   "execution_count": null,
   "metadata": {},
   "outputs": [],
   "source": [
    "despike_40 = fixer(fixer(data_pig_cow_50_50[40][:,1], 25, threshold=3), 10)\n",
    "fig, ax = plt.subplots(figsize=(10,5))\n",
    "ax.plot(data_pig_cow_50_50[40][:,0], data_pig_cow_50_50[40][:,1], label='Pig-cow')\n",
    "ax.plot(data_pig_cow_50_50[40][:,0], despike_40[:], label='Despiked Pig-cow')\n",
    "ax.set_xlabel('Wavenumber (cm-1)')\n",
    "ax.set_ylabel('Absorbance')\n",
    "ax.set_title('Pig-cow 50-50')\n",
    "plt.legend()\n",
    "plt.show()"
   ]
  },
  {
   "cell_type": "code",
   "execution_count": null,
   "metadata": {},
   "outputs": [],
   "source": [
    "despike_44 = fixer(data_pig_cow_50_50[44][:,1], 10, threshold=7)\n",
    "fig, ax = plt.subplots(figsize=(10,5))\n",
    "ax.plot(data_pig_cow_50_50[44][:,0], data_pig_cow_50_50[44][:,1], label='Pig-cow')\n",
    "ax.plot(data_pig_cow_50_50[44][:,0], despike_44[:], label='Despiked Pig-cow')\n",
    "ax.set_xlabel('Wavenumber (cm-1)')\n",
    "ax.set_ylabel('Absorbance')\n",
    "ax.set_title('Pig-cow 50-50')\n",
    "plt.legend()\n",
    "plt.show()"
   ]
  },
  {
   "cell_type": "code",
   "execution_count": null,
   "metadata": {},
   "outputs": [],
   "source": [
    "despike_45 = fixer(data_pig_cow_50_50[45][:,1], 10, threshold=4)\n",
    "fig, ax = plt.subplots(figsize=(10,5))\n",
    "ax.plot(data_pig_cow_50_50[45][:,0], data_pig_cow_50_50[45][:,1], label='Pig-cow')\n",
    "ax.plot(data_pig_cow_50_50[45][:,0], despike_45[:], label='Despiked Pig-cow')\n",
    "ax.set_xlabel('Wavenumber (cm-1)')\n",
    "ax.set_ylabel('Absorbance')\n",
    "ax.set_title('Pig-cow 50-50')\n",
    "plt.legend()\n",
    "plt.show()"
   ]
  },
  {
   "cell_type": "code",
   "execution_count": null,
   "metadata": {},
   "outputs": [],
   "source": [
    "data_pig_cow_50_50[1][:,1] = despike_1\n",
    "data_pig_cow_50_50[2][:,1] = despike_2\n",
    "data_pig_cow_50_50[7][:,1] = despike_7\n",
    "data_pig_cow_50_50[20][:,1] = despike_20\n",
    "data_pig_cow_50_50[27][:,1] = despike_27\n",
    "data_pig_cow_50_50[28][:,1] = despike_28\n",
    "data_pig_cow_50_50[40][:,1] = despike_40\n",
    "data_pig_cow_50_50[44][:,1] = despike_44\n",
    "data_pig_cow_50_50[45][:,1] = despike_45"
   ]
  },
  {
   "cell_type": "code",
   "execution_count": null,
   "metadata": {},
   "outputs": [],
   "source": [
    "baseline_= baseline_als(data_pig_cow_50_50[1][:,1], 1000000, 0.005)\n",
    "fig, ax = plt.subplots(figsize=(10,5))\n",
    "ax.plot(data_pig_cow_50_50[1][:,0], data_pig_cow_50_50[1][:,1])\n",
    "ax.plot(data_pig_cow_50_50[0][:,0], baseline_)\n",
    "ax.set_xlabel('Wavenumber (cm-1)')\n",
    "ax.set_ylabel('Absorbance')\n",
    "ax.set_title('Pig-cow 50-50')\n",
    "plt.show()"
   ]
  },
  {
   "cell_type": "code",
   "execution_count": null,
   "metadata": {},
   "outputs": [],
   "source": [
    "df_pig_cow_50_50 = data_pig_cow_50_50[0][:,0]\n",
    "for i in range(0, len(data_pig_cow_50_50)):\n",
    "    # Baseline correction\n",
    "    baseline_= baseline_als(data_pig_cow_50_50[i][:,1], 1000000, 0.005)\n",
    "    df_pig_cow_50_50 = np.vstack((df_pig_cow_50_50, data_pig_cow_50_50[i][:,1] - baseline_))\n",
    "df_pig_cow_50_50 = np.transpose(df_pig_cow_50_50)\n",
    "scaler = MinMaxScaler()\n",
    "df_pig_cow_50_50_scaled = scaler.fit_transform(df_pig_cow_50_50[:,1:])\n",
    "df_pig_cow_50_50_scaled = np.hstack((df_pig_cow_50_50[:,0].reshape(-1,1), df_pig_cow_50_50_scaled))"
   ]
  },
  {
   "cell_type": "code",
   "execution_count": null,
   "metadata": {},
   "outputs": [],
   "source": [
    "fig, ax = plt.subplots(figsize=(10,5))\n",
    "for i in range(1, df_pig_cow_50_50_scaled.shape[1]):\n",
    "    ax.plot(df_pig_cow_50_50_scaled[:,0], df_pig_cow_50_50_scaled[:,i], label='Pig-cow ' + str(i+1))\n",
    "ax.set_xlabel('Wavenumber (cm-1)')\n",
    "ax.set_ylabel('Absorbance')\n",
    "ax.set_title('Pig-cow 50-50')\n",
    "plt.show()"
   ]
  },
  {
   "cell_type": "code",
   "execution_count": null,
   "metadata": {},
   "outputs": [],
   "source": [
    "pig_cow_50_50 = np.mean(df_pig_cow_50_50_scaled[:, 1:], axis=1)\n",
    "#pig_cow_50_50[1800:1860] = fixer(pig_cow_50_50[1800:1860], 10)\n",
    "pig_cow_50_50_filtered = savgol_filter(pig_cow_50_50, 20, 3)"
   ]
  },
  {
   "cell_type": "code",
   "execution_count": null,
   "metadata": {},
   "outputs": [],
   "source": [
    "fig, ax = plt.subplots(figsize=(10,5))\n",
    "ax.plot(df_pig_cow_50_50[:,0], pig_cow_50_50_filtered)\n",
    "ax.set_xlabel('Wavenumber (cm-1)')\n",
    "ax.set_ylabel('Absorbance')\n",
    "ax.set_title('Pig-cow 50-50')\n",
    "plt.show()"
   ]
  },
  {
   "cell_type": "code",
   "execution_count": null,
   "metadata": {},
   "outputs": [],
   "source": [
    "path = '../data/Data Lemak/preprocessed/contamination/pig-cow/pig-cow 50-50/'\n",
    "if not os.path.exists(path):\n",
    "    os.makedirs(path)\n",
    "pd.DataFrame(df_pig_cow_50_50_scaled).to_csv(path+'/pig_cow_50_50_all.csv', index=False, header=False)\n",
    "pd.DataFrame([df_pig_cow_50_50[:,0], pig_cow_50_50_filtered]).T.to_csv(path+'pig_cow_50_50_mean.csv', index=False, header=False)"
   ]
  },
  {
   "cell_type": "markdown",
   "metadata": {},
   "source": [
    "## Pig-Cow (75 - 25)"
   ]
  },
  {
   "cell_type": "code",
   "execution_count": null,
   "metadata": {},
   "outputs": [],
   "source": [
    "fig, ax = plt.subplots(figsize=(10,5))\n",
    "for i in range(0, len(data_pig_cow_75_25)):\n",
    "    ax.plot(data_pig_cow_75_25[i][:,0], data_pig_cow_75_25[i][:,1], label='Pig-cow ' + str(i+1))\n",
    "ax.set_xlabel('Wavenumber (cm-1)')\n",
    "ax.set_ylabel('Absorbance')\n",
    "ax.set_title('Pig-cow 75-25')\n",
    "plt.show()"
   ]
  },
  {
   "cell_type": "code",
   "execution_count": null,
   "metadata": {},
   "outputs": [],
   "source": [
    "fig, ax = plt.subplots(figsize=(10,5))\n",
    "i = 4#0, 4, 10, 39, 42, 44,47\n",
    "ax.plot(data_pig_cow_75_25[i][:,0], data_pig_cow_75_25[i][:,1], label='Pig-cow ' + str(i+1))\n",
    "ax.set_xlabel('Wavenumber (cm-1)')\n",
    "ax.set_ylabel('Absorbance')\n",
    "ax.set_title('Pig-cow 75-25')\n",
    "plt.show()"
   ]
  },
  {
   "cell_type": "code",
   "execution_count": null,
   "metadata": {},
   "outputs": [],
   "source": [
    "despike_0 = fixer(data_pig_cow_75_25[0][:,1], 10)\n",
    "fig, ax = plt.subplots(figsize=(10,5))\n",
    "ax.plot(data_pig_cow_75_25[0][:,0], data_pig_cow_75_25[0][:,1], label='Pig-cow')\n",
    "ax.plot(data_pig_cow_75_25[0][:,0], despike_0[:], label='Despiked Pig-cow')\n",
    "ax.set_xlabel('Wavenumber (cm-1)')\n",
    "ax.set_ylabel('Absorbance')\n",
    "ax.set_title('Pig-cow 75-25')\n",
    "plt.legend()\n",
    "plt.show()"
   ]
  },
  {
   "cell_type": "code",
   "execution_count": null,
   "metadata": {},
   "outputs": [],
   "source": [
    "despike_4 = fixer(fixer(data_pig_cow_75_25[4][:,1], 10), 10)\n",
    "fig, ax = plt.subplots(figsize=(10,5))\n",
    "ax.plot(data_pig_cow_75_25[4][:,0], data_pig_cow_75_25[4][:,1], label='Pig-cow')\n",
    "ax.plot(data_pig_cow_75_25[4][:,0], despike_4[:], label='Despiked Pig-cow')\n",
    "ax.set_xlabel('Wavenumber (cm-1)')\n",
    "ax.set_ylabel('Absorbance')\n",
    "ax.set_title('Pig-cow 75-25')\n",
    "plt.legend()\n",
    "plt.show()"
   ]
  },
  {
   "cell_type": "code",
   "execution_count": null,
   "metadata": {},
   "outputs": [],
   "source": [
    "despike_10 = fixer(data_pig_cow_75_25[10][:,1], 10, threshold=7)\n",
    "fig, ax = plt.subplots(figsize=(10,5))\n",
    "ax.plot(data_pig_cow_75_25[10][:,0], data_pig_cow_75_25[10][:,1], label='Pig-cow')\n",
    "ax.plot(data_pig_cow_75_25[10][:,0], despike_10[:], label='Despiked Pig-cow')\n",
    "ax.set_xlabel('Wavenumber (cm-1)')\n",
    "ax.set_ylabel('Absorbance')\n",
    "ax.set_title('Pig-cow 75-25')\n",
    "plt.legend()\n",
    "plt.show()"
   ]
  },
  {
   "cell_type": "code",
   "execution_count": null,
   "metadata": {},
   "outputs": [],
   "source": [
    "despike_39 = fixer(data_pig_cow_75_25[39][:,1], 10, threshold=7)\n",
    "fig, ax = plt.subplots(figsize=(10,5))\n",
    "ax.plot(data_pig_cow_75_25[39][:,0], data_pig_cow_75_25[39][:,1], label='Pig-cow')\n",
    "ax.plot(data_pig_cow_75_25[39][:,0], despike_39[:], label='Despiked Pig-cow')\n",
    "ax.set_xlabel('Wavenumber (cm-1)')\n",
    "ax.set_ylabel('Absorbance')\n",
    "ax.set_title('Pig-cow 75-25')\n",
    "plt.legend()\n",
    "plt.show()"
   ]
  },
  {
   "cell_type": "code",
   "execution_count": null,
   "metadata": {},
   "outputs": [],
   "source": [
    "despike_42 = fixer(fixer(data_pig_cow_75_25[42][:,1], 5, threshold=3), 10)\n",
    "fig, ax = plt.subplots(figsize=(10,5))\n",
    "ax.plot(data_pig_cow_75_25[42][:,0], data_pig_cow_75_25[42][:,1], label='Pig-cow')\n",
    "ax.plot(data_pig_cow_75_25[42][:,0], despike_42[:], label='Despiked Pig-cow')\n",
    "ax.set_xlabel('Wavenumber (cm-1)')\n",
    "ax.set_ylabel('Absorbance')\n",
    "ax.set_title('Pig-cow 75-25')\n",
    "plt.legend()\n",
    "plt.show()"
   ]
  },
  {
   "cell_type": "code",
   "execution_count": null,
   "metadata": {},
   "outputs": [],
   "source": [
    "despike_44 = fixer(data_pig_cow_75_25[44][:,1], 10, threshold=7)\n",
    "fig, ax = plt.subplots(figsize=(10,5))\n",
    "ax.plot(data_pig_cow_75_25[44][:,0], data_pig_cow_75_25[44][:,1], label='Pig-cow')\n",
    "ax.plot(data_pig_cow_75_25[44][:,0], despike_44[:], label='Despiked Pig-cow')\n",
    "ax.set_xlabel('Wavenumber (cm-1)')\n",
    "ax.set_ylabel('Absorbance')\n",
    "ax.set_title('Pig-cow 75-25')\n",
    "plt.legend()\n",
    "plt.show()"
   ]
  },
  {
   "cell_type": "code",
   "execution_count": null,
   "metadata": {},
   "outputs": [],
   "source": [
    "despike_47 = fixer(data_pig_cow_75_25[47][:,1], 10, threshold=7)\n",
    "fig, ax = plt.subplots(figsize=(10,5))\n",
    "ax.plot(data_pig_cow_75_25[47][:,0], data_pig_cow_75_25[47][:,1], label='Pig-cow')\n",
    "ax.plot(data_pig_cow_75_25[47][:,0], despike_47[:], label='Despiked Pig-cow')\n",
    "ax.set_xlabel('Wavenumber (cm-1)')\n",
    "ax.set_ylabel('Absorbance')\n",
    "ax.set_title('Pig-cow 75-25')\n",
    "plt.legend()\n",
    "plt.show()"
   ]
  },
  {
   "cell_type": "code",
   "execution_count": null,
   "metadata": {},
   "outputs": [],
   "source": [
    "data_pig_cow_75_25[0][:,1] = despike_0\n",
    "data_pig_cow_75_25[4][:,1] = despike_4\n",
    "data_pig_cow_75_25[10][:,1] = despike_10\n",
    "data_pig_cow_75_25[39][:,1] = despike_39\n",
    "data_pig_cow_75_25[42][:,1] = despike_42\n",
    "data_pig_cow_75_25[44][:,1] = despike_44\n",
    "data_pig_cow_75_25[47][:,1] = despike_47"
   ]
  },
  {
   "cell_type": "code",
   "execution_count": null,
   "metadata": {},
   "outputs": [],
   "source": [
    "baseline_= baseline_als(data_pig_cow_75_25[1][:,1], 1000000, 0.01)\n",
    "fig, ax = plt.subplots(figsize=(10,5))\n",
    "ax.plot(data_pig_cow_75_25[1][:,0], data_pig_cow_75_25[1][:,1])\n",
    "ax.plot(data_pig_cow_75_25[0][:,0], baseline_)\n",
    "ax.set_xlabel('Wavenumber (cm-1)')\n",
    "ax.set_ylabel('Absorbance')\n",
    "ax.set_title('Pig-cow 75-25')\n",
    "plt.show()"
   ]
  },
  {
   "cell_type": "code",
   "execution_count": null,
   "metadata": {},
   "outputs": [],
   "source": [
    "print(len(data_pig_cow_75_25))"
   ]
  },
  {
   "cell_type": "code",
   "execution_count": null,
   "metadata": {},
   "outputs": [],
   "source": [
    "df_pig_cow_75_25 = data_pig_cow_75_25[0][:,0]\n",
    "for i in range(0, len(data_pig_cow_75_25)):\n",
    "    # Baseline correction\n",
    "    baseline_= baseline_als(data_pig_cow_75_25[i][:,1], 1000000, 0.01)\n",
    "    df_pig_cow_75_25 = np.vstack((df_pig_cow_75_25, data_pig_cow_75_25[i][:,1] - baseline_))\n",
    "df_pig_cow_75_25 = np.transpose(df_pig_cow_75_25)\n",
    "scaler = MinMaxScaler()\n",
    "df_pig_cow_75_25_scaled = scaler.fit_transform(np.nan_to_num(df_pig_cow_75_25[:,1:]))\n",
    "df_pig_cow_75_25_scaled = np.hstack((df_pig_cow_75_25[:,0].reshape(-1,1), df_pig_cow_75_25_scaled))"
   ]
  },
  {
   "cell_type": "code",
   "execution_count": null,
   "metadata": {},
   "outputs": [],
   "source": [
    "fig, ax = plt.subplots(figsize=(10,5))\n",
    "for i in range(1, df_pig_cow_75_25_scaled.shape[1]):\n",
    "    ax.plot(df_pig_cow_75_25_scaled[:,0], df_pig_cow_75_25_scaled[:,i], label='Pig-cow ' + str(i+1))\n",
    "ax.set_xlabel('Wavenumber (cm-1)')\n",
    "ax.set_ylabel('Absorbance')\n",
    "ax.set_title('Pig-cow 75-25')\n",
    "plt.show()"
   ]
  },
  {
   "cell_type": "code",
   "execution_count": null,
   "metadata": {},
   "outputs": [],
   "source": [
    "pig_cow_75_25 = np.mean(df_pig_cow_75_25_scaled[:, 1:], axis=1)\n",
    "#pig_cow_75_25[1800:1860] = fixer(pig_cow_75_25[1800:1860], 10)\n",
    "pig_cow_75_25_filtered = savgol_filter(pig_cow_75_25, 20, 3)"
   ]
  },
  {
   "cell_type": "code",
   "execution_count": null,
   "metadata": {},
   "outputs": [],
   "source": [
    "fig, ax = plt.subplots(figsize=(10,5))\n",
    "ax.plot(df_pig_cow_75_25[:,0], pig_cow_75_25_filtered)\n",
    "ax.set_xlabel('Wavenumber (cm-1)')\n",
    "ax.set_ylabel('Absorbance')\n",
    "ax.set_title('Pig-cow 75-25')\n",
    "plt.show()"
   ]
  },
  {
   "cell_type": "code",
   "execution_count": null,
   "metadata": {},
   "outputs": [],
   "source": [
    "path = '../data/Data Lemak/preprocessed/contamination/pig-cow/pig-cow 75-25/'\n",
    "if not os.path.exists(path):\n",
    "    os.makedirs(path)\n",
    "pd.DataFrame(df_pig_cow_75_25_scaled).to_csv(path+'/pig_cow_75_25_all.csv', index=False, header=False)\n",
    "pd.DataFrame([df_pig_cow_75_25[:,0], pig_cow_75_25_filtered]).T.to_csv(path+'pig_cow_75_25_mean.csv', index=False, header=False)"
   ]
  },
  {
   "cell_type": "markdown",
   "metadata": {},
   "source": [
    "## Pig-Duck (25 - 75)"
   ]
  },
  {
   "cell_type": "code",
   "execution_count": null,
   "metadata": {},
   "outputs": [],
   "source": [
    "fig, ax = plt.subplots(figsize=(10,5))\n",
    "for i in range(0, len(data_pig_duck_25_75)):\n",
    "    ax.plot(data_pig_duck_25_75[i][:,0], data_pig_duck_25_75[i][:,1], label='Pig-duck ' + str(i+1))\n",
    "ax.set_xlabel('Wavenumber (cm-1)')\n",
    "ax.set_ylabel('Absorbance')\n",
    "ax.set_title('Pig-duck 25-75')\n",
    "plt.show()"
   ]
  },
  {
   "cell_type": "code",
   "execution_count": null,
   "metadata": {},
   "outputs": [],
   "source": [
    "fig, ax = plt.subplots(figsize=(10,5))\n",
    "for i in range(0, len(data_pig_duck_25_75)):\n",
    "    if i not in ( 4, 7, 10, 13, 15, 37, 46):\n",
    "        ax.plot(data_pig_duck_25_75[i][:,0], data_pig_duck_25_75[i][:,1], label='Pig-duck ' + str(i+1))\n",
    "ax.set_xlabel('Wavenumber (cm-1)')\n",
    "ax.set_ylabel('Absorbance')\n",
    "ax.set_title('Pig-duck 25-75')\n",
    "plt.show()"
   ]
  },
  {
   "cell_type": "code",
   "execution_count": null,
   "metadata": {},
   "outputs": [],
   "source": [
    "fig, ax = plt.subplots(figsize=(10,5))\n",
    "i = 37 # 4, 7, 10, 13, 15, 37, 46\n",
    "# 13, 14, 16, 23, 35, 44, 45, 46\n",
    "ax.plot(data_pig_duck_25_75[i][:,0], data_pig_duck_25_75[i][:,1], label='Pig-duck ' + str(i+1))\n",
    "ax.set_xlabel('Wavenumber (cm-1)')\n",
    "ax.set_ylabel('Absorbance')\n",
    "ax.set_title('Pig-duck 25-75')\n",
    "plt.show()"
   ]
  },
  {
   "cell_type": "code",
   "execution_count": null,
   "metadata": {},
   "outputs": [],
   "source": [
    "despike_4 = fixer(data_pig_duck_25_75[4][:,1], 10)\n",
    "fig, ax = plt.subplots(figsize=(10,5))\n",
    "ax.plot(data_pig_duck_25_75[4][:,0], data_pig_duck_25_75[4][:,1], label='Pig-duck')\n",
    "ax.plot(data_pig_duck_25_75[4][:,0], despike_4[:], label='Despiked Pig-duck')\n",
    "ax.set_xlabel('Wavenumber (cm-1)')\n",
    "ax.set_ylabel('Absorbance')\n",
    "ax.set_title('Pig-duck 25-75')\n",
    "plt.legend()\n",
    "plt.show()"
   ]
  },
  {
   "cell_type": "code",
   "execution_count": null,
   "metadata": {},
   "outputs": [],
   "source": [
    "despike_7 = fixer(data_pig_duck_25_75[7][:,1], 10, threshold=4)\n",
    "fig, ax = plt.subplots(figsize=(10,5))\n",
    "ax.plot(data_pig_duck_25_75[7][:,0], data_pig_duck_25_75[7][:,1], label='Pig-duck')\n",
    "ax.plot(data_pig_duck_25_75[7][:,0], despike_7[:], label='Despiked Pig-duck')\n",
    "ax.set_xlabel('Wavenumber (cm-1)')\n",
    "ax.set_ylabel('Absorbance')\n",
    "ax.set_title('Pig-duck 25-75')\n",
    "plt.legend()\n",
    "plt.show()"
   ]
  },
  {
   "cell_type": "code",
   "execution_count": null,
   "metadata": {},
   "outputs": [],
   "source": [
    "despike_10 = fixer(fixer(data_pig_duck_25_75[10][:,1], 15, threshold=4), 10, threshold=4)\n",
    "fig, ax = plt.subplots(figsize=(10,5))\n",
    "ax.plot(data_pig_duck_25_75[10][:,0], data_pig_duck_25_75[10][:,1], label='Pig-duck')\n",
    "ax.plot(data_pig_duck_25_75[10][:,0], despike_10[:], label='Despiked Pig-duck')\n",
    "ax.set_xlabel('Wavenumber (cm-1)')\n",
    "ax.set_ylabel('Absorbance')\n",
    "ax.set_title('Pig-duck 25-75')\n",
    "plt.legend()\n",
    "plt.show()"
   ]
  },
  {
   "cell_type": "code",
   "execution_count": null,
   "metadata": {},
   "outputs": [],
   "source": [
    "despike_13 = fixer(data_pig_duck_25_75[13][:,1], 10)\n",
    "fig, ax = plt.subplots(figsize=(10,5))\n",
    "ax.plot(data_pig_duck_25_75[13][:,0], data_pig_duck_25_75[13][:,1], label='Pig-duck')\n",
    "ax.plot(data_pig_duck_25_75[13][:,0], despike_13[:], label='Despiked Pig-duck')\n",
    "ax.set_xlabel('Wavenumber (cm-1)')\n",
    "ax.set_ylabel('Absorbance')\n",
    "ax.set_title('Pig-duck 25-75')\n",
    "plt.legend()\n",
    "plt.show()"
   ]
  },
  {
   "cell_type": "code",
   "execution_count": null,
   "metadata": {},
   "outputs": [],
   "source": [
    "despike_15 = fixer(fixer(data_pig_duck_25_75[15][:,1], 15, threshold=4), 10, threshold=4)\n",
    "fig, ax = plt.subplots(figsize=(10,5))\n",
    "ax.plot(data_pig_duck_25_75[15][:,0], data_pig_duck_25_75[15][:,1], label='Pig-duck')\n",
    "ax.plot(data_pig_duck_25_75[15][:,0], despike_15[:], label='Despiked Pig-duck')\n",
    "ax.set_xlabel('Wavenumber (cm-1)')\n",
    "ax.set_ylabel('Absorbance')\n",
    "ax.set_title('Pig-duck 25-75')\n",
    "plt.legend()\n",
    "plt.show()"
   ]
  },
  {
   "cell_type": "code",
   "execution_count": null,
   "metadata": {},
   "outputs": [],
   "source": [
    "despike_37 = fixer(data_pig_duck_25_75[37][:,1], 10, threshold=4)\n",
    "fig, ax = plt.subplots(figsize=(10,5))\n",
    "ax.plot(data_pig_duck_25_75[37][:,0], data_pig_duck_25_75[37][:,1], label='Pig-duck')\n",
    "ax.plot(data_pig_duck_25_75[37][:,0], despike_37[:], label='Despiked Pig-duck')\n",
    "ax.set_xlabel('Wavenumber (cm-1)')\n",
    "ax.set_ylabel('Absorbance')\n",
    "ax.set_title('Pig-duck 25-75')\n",
    "plt.legend()\n",
    "plt.show()"
   ]
  },
  {
   "cell_type": "code",
   "execution_count": null,
   "metadata": {},
   "outputs": [],
   "source": [
    "despike_46 = fixer(data_pig_duck_25_75[46][:,1], 10, threshold=4)\n",
    "fig, ax = plt.subplots(figsize=(10,5))\n",
    "ax.plot(data_pig_duck_25_75[46][:,0], data_pig_duck_25_75[46][:,1], label='Pig-duck')\n",
    "ax.plot(data_pig_duck_25_75[46][:,0], despike_46[:], label='Despiked Pig-duck')\n",
    "ax.set_xlabel('Wavenumber (cm-1)')\n",
    "ax.set_ylabel('Absorbance')\n",
    "ax.set_title('Pig-duck 25-75')\n",
    "plt.legend()\n",
    "plt.show()"
   ]
  },
  {
   "cell_type": "code",
   "execution_count": null,
   "metadata": {},
   "outputs": [],
   "source": [
    "data_pig_duck_25_75[4][:,1] = despike_4\n",
    "data_pig_duck_25_75[7][:,1] = despike_7\n",
    "data_pig_duck_25_75[10][:,1] = despike_10\n",
    "data_pig_duck_25_75[13][:,1] = despike_13\n",
    "data_pig_duck_25_75[15][:,1] = despike_15\n",
    "data_pig_duck_25_75[37][:,1] = despike_37\n",
    "data_pig_duck_25_75[46][:,1] = despike_46"
   ]
  },
  {
   "cell_type": "code",
   "execution_count": null,
   "metadata": {},
   "outputs": [],
   "source": [
    "baseline_= baseline_als(data_pig_duck_25_75[1][:,1], 1000000, 0.005)\n",
    "fig, ax = plt.subplots(figsize=(10,5))\n",
    "ax.plot(data_pig_duck_25_75[1][:,0], data_pig_duck_25_75[1][:,1])\n",
    "ax.plot(data_pig_duck_25_75[0][:,0], baseline_)\n",
    "ax.set_xlabel('Wavenumber (cm-1)')\n",
    "ax.set_ylabel('Absorbance')\n",
    "ax.set_title('Pig-duck 25-75')\n",
    "plt.show()"
   ]
  },
  {
   "cell_type": "code",
   "execution_count": null,
   "metadata": {},
   "outputs": [],
   "source": [
    "df_pig_duck_25_75 = data_pig_duck_25_75[0][:,0]\n",
    "for i in range(0, len(data_pig_duck_25_75)):\n",
    "    # Baseline correction\n",
    "    baseline_= baseline_als(data_pig_duck_25_75[i][:,1], 1000000, 0.005)\n",
    "    df_pig_duck_25_75 = np.vstack((df_pig_duck_25_75, data_pig_duck_25_75[i][:,1] - baseline_))\n",
    "df_pig_duck_25_75 = np.transpose(df_pig_duck_25_75)\n",
    "scaler = MinMaxScaler()\n",
    "df_pig_duck_25_75_scaled = scaler.fit_transform(df_pig_duck_25_75[:,1:])\n",
    "df_pig_duck_25_75_scaled = np.hstack((df_pig_duck_25_75[:,0].reshape(-1,1), df_pig_duck_25_75_scaled))"
   ]
  },
  {
   "cell_type": "code",
   "execution_count": null,
   "metadata": {},
   "outputs": [],
   "source": [
    "fig, ax = plt.subplots(figsize=(10,5))\n",
    "for i in range(1, df_pig_duck_25_75_scaled.shape[1]):\n",
    "    ax.plot(df_pig_duck_25_75_scaled[:,0], df_pig_duck_25_75_scaled[:,i], label='Pig-duck ' + str(i+1))\n",
    "ax.set_xlabel('Wavenumber (cm-1)')\n",
    "ax.set_ylabel('Absorbance')\n",
    "ax.set_title('Pig-duck 25-75')\n",
    "plt.show()"
   ]
  },
  {
   "cell_type": "code",
   "execution_count": null,
   "metadata": {},
   "outputs": [],
   "source": [
    "pig_duck_25_75 = np.mean(df_pig_duck_25_75_scaled[:, 1:], axis=1)\n",
    "#pig_duck_25_75[1800:1860] = fixer(pig_duck_25_75[1800:1860], 10)\n",
    "pig_duck_25_75_filtered = savgol_filter(pig_duck_25_75, 20, 3)"
   ]
  },
  {
   "cell_type": "code",
   "execution_count": null,
   "metadata": {},
   "outputs": [],
   "source": [
    "fig, ax = plt.subplots(figsize=(10,5))\n",
    "ax.plot(df_pig_duck_25_75[:,0], pig_duck_25_75_filtered)\n",
    "ax.set_xlabel('Wavenumber (cm-1)')\n",
    "ax.set_ylabel('Absorbance')\n",
    "ax.set_title('Pig-duck 25-75')\n",
    "plt.show()"
   ]
  },
  {
   "cell_type": "code",
   "execution_count": null,
   "metadata": {},
   "outputs": [],
   "source": [
    "path = '../data/Data Lemak/preprocessed/contamination/pig-duck/pig-duck 25-75/'\n",
    "if not os.path.exists(path):\n",
    "    os.makedirs(path)\n",
    "pd.DataFrame(df_pig_duck_25_75_scaled).to_csv(path+'/pig_duck_25_75_all.csv', index=False, header=False)\n",
    "pd.DataFrame([df_pig_duck_25_75[:,0], pig_duck_25_75_filtered]).T.to_csv(path+'pig_duck_25_75_mean.csv', index=False, header=False)"
   ]
  },
  {
   "cell_type": "markdown",
   "metadata": {},
   "source": [
    "## Pig-Duck (50 - 50)"
   ]
  },
  {
   "cell_type": "code",
   "execution_count": null,
   "metadata": {},
   "outputs": [],
   "source": [
    "fig, ax = plt.subplots(figsize=(10,5))\n",
    "for i in range(0, len(data_pig_duck_50_50)):\n",
    "    ax.plot(data_pig_duck_50_50[i][:,0], data_pig_duck_50_50[i][:,1], label='Pig-duck ' + str(i+1))\n",
    "ax.set_xlabel('Wavenumber (cm-1)')\n",
    "ax.set_ylabel('Absorbance')\n",
    "ax.set_title('Pig-duck 50-50')\n",
    "plt.show()"
   ]
  },
  {
   "cell_type": "code",
   "execution_count": null,
   "metadata": {},
   "outputs": [],
   "source": [
    "fig, ax = plt.subplots(figsize=(10,5))\n",
    "for i in range(0, len(data_pig_duck_50_50)):\n",
    "    if i not in (3, 12, 22, 23, 24, 27, 32, 41, 46):\n",
    "        ax.plot(data_pig_duck_50_50[i][:,0], data_pig_duck_50_50[i][:,1], label='Pig-duck ' + str(i+1))\n",
    "ax.set_xlabel('Wavenumber (cm-1)')\n",
    "ax.set_ylabel('Absorbance')\n",
    "ax.set_title('Pig-duck 50-50')\n",
    "plt.show()"
   ]
  },
  {
   "cell_type": "code",
   "execution_count": null,
   "metadata": {},
   "outputs": [],
   "source": [
    "fig, ax = plt.subplots(figsize=(10,5))\n",
    "i = 46 # 3, 12, 22, 23, 24, 27, 32, 41, 46\n",
    "ax.plot(data_pig_duck_50_50[i][:,0], data_pig_duck_50_50[i][:,1], label='Pig-duck ' + str(i+1))\n",
    "ax.set_xlabel('Wavenumber (cm-1)')\n",
    "ax.set_ylabel('Absorbance')\n",
    "ax.set_title('Pig-duck 50-50')\n",
    "plt.show()"
   ]
  },
  {
   "cell_type": "code",
   "execution_count": null,
   "metadata": {},
   "outputs": [],
   "source": [
    "despike_3 = fixer(fixer(fixer(data_pig_duck_50_50[3][:,1], 25, threshold=4), 25, threshold=3), 10, threshold=4)\n",
    "fig, ax = plt.subplots(figsize=(10,5))\n",
    "ax.plot(data_pig_duck_50_50[3][:,0], data_pig_duck_50_50[3][:,1], label='Pig-duck')\n",
    "ax.plot(data_pig_duck_50_50[3][:,0], despike_3[:], label='Despiked Pig-duck')\n",
    "ax.set_xlabel('Wavenumber (cm-1)')\n",
    "ax.set_ylabel('Absorbance')\n",
    "ax.set_title('Pig-duck 50-50')\n",
    "plt.legend()\n",
    "plt.show()"
   ]
  },
  {
   "cell_type": "code",
   "execution_count": null,
   "metadata": {},
   "outputs": [],
   "source": [
    "despike_12 = fixer(fixer(data_pig_duck_50_50[12][:,1], 5, threshold=5), 5, threshold=4)\n",
    "fig, ax = plt.subplots(figsize=(10,5))\n",
    "ax.plot(data_pig_duck_50_50[12][:,0], data_pig_duck_50_50[12][:,1], label='Pig-duck')\n",
    "ax.plot(data_pig_duck_50_50[12][:,0], despike_12[:], label='Despiked Pig-duck')\n",
    "ax.set_xlabel('Wavenumber (cm-1)')\n",
    "ax.set_ylabel('Absorbance')\n",
    "ax.set_title('Pig-duck 50-50')\n",
    "plt.legend()\n",
    "plt.show()"
   ]
  },
  {
   "cell_type": "code",
   "execution_count": null,
   "metadata": {},
   "outputs": [],
   "source": [
    "despike_22 = fixer(data_pig_duck_50_50[22][:,1], 10, threshold=5)\n",
    "fig, ax = plt.subplots(figsize=(10,5))\n",
    "ax.plot(data_pig_duck_50_50[22][:,0], data_pig_duck_50_50[22][:,1], label='Pig-duck')\n",
    "ax.plot(data_pig_duck_50_50[22][:,0], despike_22[:], label='Despiked Pig-duck')\n",
    "ax.set_xlabel('Wavenumber (cm-1)')\n",
    "ax.set_ylabel('Absorbance')\n",
    "ax.set_title('Pig-duck 50-50')\n",
    "plt.legend()\n",
    "plt.show()"
   ]
  },
  {
   "cell_type": "code",
   "execution_count": null,
   "metadata": {},
   "outputs": [],
   "source": [
    "despike_23 = fixer(data_pig_duck_50_50[23][:,1], 10, threshold=6)\n",
    "fig, ax = plt.subplots(figsize=(10,5))\n",
    "ax.plot(data_pig_duck_50_50[23][:,0], data_pig_duck_50_50[23][:,1], label='Pig-duck')\n",
    "ax.plot(data_pig_duck_50_50[23][:,0], despike_23[:], label='Despiked Pig-duck')\n",
    "ax.set_xlabel('Wavenumber (cm-1)')\n",
    "ax.set_ylabel('Absorbance')\n",
    "ax.set_title('Pig-duck 50-50')\n",
    "plt.legend()\n",
    "plt.show()"
   ]
  },
  {
   "cell_type": "code",
   "execution_count": null,
   "metadata": {},
   "outputs": [],
   "source": [
    "despike_24 = fixer(data_pig_duck_50_50[24][:,1], 5, threshold=6)\n",
    "fig, ax = plt.subplots(figsize=(10,5))\n",
    "ax.plot(data_pig_duck_50_50[24][:,0], data_pig_duck_50_50[24][:,1], label='Pig-duck')\n",
    "ax.plot(data_pig_duck_50_50[24][:,0], despike_24[:], label='Despiked Pig-duck')\n",
    "ax.set_xlabel('Wavenumber (cm-1)')\n",
    "ax.set_ylabel('Absorbance')\n",
    "ax.set_title('Pig-duck 50-50')\n",
    "plt.legend()\n",
    "plt.show()"
   ]
  },
  {
   "cell_type": "code",
   "execution_count": null,
   "metadata": {},
   "outputs": [],
   "source": [
    "despike_27 = fixer(data_pig_duck_50_50[27][:,1], 10)\n",
    "fig, ax = plt.subplots(figsize=(10,5))\n",
    "ax.plot(data_pig_duck_50_50[27][:,0], data_pig_duck_50_50[27][:,1], label='Pig-duck')\n",
    "ax.plot(data_pig_duck_50_50[27][:,0], despike_27[:], label='Despiked Pig-duck')\n",
    "ax.set_xlabel('Wavenumber (cm-1)')\n",
    "ax.set_ylabel('Absorbance')\n",
    "ax.set_title('Pig-duck 50-50')\n",
    "plt.legend()\n",
    "plt.show()"
   ]
  },
  {
   "cell_type": "code",
   "execution_count": null,
   "metadata": {},
   "outputs": [],
   "source": [
    "despike_32 = fixer(data_pig_duck_50_50[32][:,1], 10, threshold=7)\n",
    "fig, ax = plt.subplots(figsize=(10,5))\n",
    "ax.plot(data_pig_duck_50_50[32][:,0], data_pig_duck_50_50[32][:,1], label='Pig-duck')\n",
    "ax.plot(data_pig_duck_50_50[32][:,0], despike_32[:], label='Despiked Pig-duck')\n",
    "ax.set_xlabel('Wavenumber (cm-1)')\n",
    "ax.set_ylabel('Absorbance')\n",
    "ax.set_title('Pig-duck 50-50')\n",
    "plt.legend()\n",
    "plt.show()"
   ]
  },
  {
   "cell_type": "code",
   "execution_count": null,
   "metadata": {},
   "outputs": [],
   "source": [
    "despike_41 = fixer(data_pig_duck_50_50[41][:,1], 25, threshold=4)\n",
    "fig, ax = plt.subplots(figsize=(10,5))\n",
    "ax.plot(data_pig_duck_50_50[41][:,0], data_pig_duck_50_50[41][:,1], label='Pig-duck')\n",
    "ax.plot(data_pig_duck_50_50[41][:,0], despike_41[:], label='Despiked Pig-duck')\n",
    "ax.set_xlabel('Wavenumber (cm-1)')\n",
    "ax.set_ylabel('Absorbance')\n",
    "ax.set_title('Pig-duck 50-50')\n",
    "plt.legend()\n",
    "plt.show()"
   ]
  },
  {
   "cell_type": "code",
   "execution_count": null,
   "metadata": {},
   "outputs": [],
   "source": [
    "despike_46 = fixer(data_pig_duck_50_50[46][:,1], 10, threshold=7)\n",
    "fig, ax = plt.subplots(figsize=(10,5))\n",
    "ax.plot(data_pig_duck_50_50[46][:,0], data_pig_duck_50_50[46][:,1], label='Pig-duck')\n",
    "ax.plot(data_pig_duck_50_50[46][:,0], despike_46[:], label='Despiked Pig-duck')\n",
    "ax.set_xlabel('Wavenumber (cm-1)')\n",
    "ax.set_ylabel('Absorbance')\n",
    "ax.set_title('Pig-duck 50-50')\n",
    "plt.legend()\n",
    "plt.show()"
   ]
  },
  {
   "cell_type": "code",
   "execution_count": null,
   "metadata": {},
   "outputs": [],
   "source": [
    "data_pig_duck_50_50[3][:,1] = despike_3\n",
    "data_pig_duck_50_50[12][:,1] = despike_12\n",
    "data_pig_duck_50_50[22][:,1] = despike_22\n",
    "data_pig_duck_50_50[23][:,1] = despike_23\n",
    "data_pig_duck_50_50[24][:,1] = despike_24\n",
    "data_pig_duck_50_50[27][:,1] = despike_27\n",
    "data_pig_duck_50_50[32][:,1] = despike_32\n",
    "data_pig_duck_50_50[41][:,1] = despike_41\n",
    "data_pig_duck_50_50[46][:,1] = despike_46"
   ]
  },
  {
   "cell_type": "code",
   "execution_count": null,
   "metadata": {},
   "outputs": [],
   "source": [
    "baseline_= baseline_als(data_pig_duck_50_50[1][:,1], 1000000, 0.005)\n",
    "fig, ax = plt.subplots(figsize=(10,5))\n",
    "ax.plot(data_pig_duck_50_50[1][:,0], data_pig_duck_50_50[1][:,1])\n",
    "ax.plot(data_pig_duck_50_50[0][:,0], baseline_)\n",
    "ax.set_xlabel('Wavenumber (cm-1)')\n",
    "ax.set_ylabel('Absorbance')\n",
    "ax.set_title('Pig-duck 50-50')\n",
    "plt.show()"
   ]
  },
  {
   "cell_type": "code",
   "execution_count": null,
   "metadata": {},
   "outputs": [],
   "source": [
    "df_pig_duck_50_50 = data_pig_duck_50_50[0][:,0]\n",
    "for i in range(0, len(data_pig_duck_50_50)):\n",
    "    # Baseline correction\n",
    "    baseline_= baseline_als(data_pig_duck_50_50[i][:,1], 1000000, 0.005)\n",
    "    df_pig_duck_50_50 = np.vstack((df_pig_duck_50_50, data_pig_duck_50_50[i][:,1] - baseline_))\n",
    "df_pig_duck_50_50 = np.transpose(df_pig_duck_50_50)\n",
    "scaler = MinMaxScaler()\n",
    "df_pig_duck_50_50_scaled = scaler.fit_transform(df_pig_duck_50_50[:,1:])\n",
    "df_pig_duck_50_50_scaled = np.hstack((df_pig_duck_50_50[:,0].reshape(-1,1), df_pig_duck_50_50_scaled))"
   ]
  },
  {
   "cell_type": "code",
   "execution_count": null,
   "metadata": {},
   "outputs": [],
   "source": [
    "fig, ax = plt.subplots(figsize=(10,5))\n",
    "for i in range(1, df_pig_duck_50_50_scaled.shape[1]):\n",
    "    ax.plot(df_pig_duck_50_50_scaled[:,0], df_pig_duck_50_50_scaled[:,i], label='Pig-duck ' + str(i+1))\n",
    "ax.set_xlabel('Wavenumber (cm-1)')\n",
    "ax.set_ylabel('Absorbance')\n",
    "ax.set_title('Pig-duck 50-50')\n",
    "plt.show()"
   ]
  },
  {
   "cell_type": "code",
   "execution_count": null,
   "metadata": {},
   "outputs": [],
   "source": [
    "pig_duck_50_50 = np.mean(df_pig_duck_50_50_scaled[:, 1:], axis=1)\n",
    "#pig_duck_50_50[1800:1860] = fixer(pig_duck_50_50[1800:1860], 10)\n",
    "pig_duck_50_50_filtered = savgol_filter(pig_duck_50_50, 20, 3)"
   ]
  },
  {
   "cell_type": "code",
   "execution_count": null,
   "metadata": {},
   "outputs": [],
   "source": [
    "fig, ax = plt.subplots(figsize=(10,5))\n",
    "ax.plot(df_pig_duck_50_50[:,0], pig_duck_50_50_filtered)\n",
    "ax.set_xlabel('Wavenumber (cm-1)')\n",
    "ax.set_ylabel('Absorbance')\n",
    "ax.set_title('Pig-duck 50-50')\n",
    "plt.show()"
   ]
  },
  {
   "cell_type": "code",
   "execution_count": null,
   "metadata": {},
   "outputs": [],
   "source": [
    "path = '../data/Data Lemak/preprocessed/contamination/pig-duck/pig-duck 50-50/'\n",
    "if not os.path.exists(path):\n",
    "    os.makedirs(path)\n",
    "pd.DataFrame(df_pig_duck_50_50_scaled).to_csv(path+'/pig_duck_50_50_all.csv', index=False, header=False)\n",
    "pd.DataFrame([df_pig_duck_50_50[:,0], pig_duck_50_50_filtered]).T.to_csv(path+'pig_duck_50_50_mean.csv', index=False, header=False)"
   ]
  },
  {
   "cell_type": "markdown",
   "metadata": {},
   "source": [
    "## Pig-Duck (75 - 25)"
   ]
  },
  {
   "cell_type": "code",
   "execution_count": null,
   "metadata": {},
   "outputs": [],
   "source": [
    "fig, ax = plt.subplots(figsize=(10,5))\n",
    "for i in range(0, len(data_pig_duck_75_25)):\n",
    "    ax.plot(data_pig_duck_75_25[i][:,0], data_pig_duck_75_25[i][:,1], label='Pig-duck ' + str(i+1))\n",
    "ax.set_xlabel('Wavenumber (cm-1)')\n",
    "ax.set_ylabel('Absorbance')\n",
    "ax.set_title('Pig-duck 75-25')\n",
    "plt.show()"
   ]
  },
  {
   "cell_type": "code",
   "execution_count": null,
   "metadata": {},
   "outputs": [],
   "source": [
    "fig, ax = plt.subplots(figsize=(10,5))\n",
    "for i in range(0, len(data_pig_duck_75_25)):\n",
    "    if i not in (9, 20, 25, 35, 38, 28, 29, 18, 19, 22, 23, 30) and i not in range(40,40):\n",
    "        ax.plot(data_pig_duck_75_25[i][:,0], data_pig_duck_75_25[i][:,1], label='Pig-duck ' + str(i+1))\n",
    "ax.set_xlabel('Wavenumber (cm-1)')\n",
    "ax.set_ylabel('Absorbance')\n",
    "ax.set_title('Pig-duck 75-25')\n",
    "plt.show()"
   ]
  },
  {
   "cell_type": "code",
   "execution_count": null,
   "metadata": {},
   "outputs": [],
   "source": [
    "fig, ax = plt.subplots(figsize=(10,5))\n",
    "i = 30 #9, 20, 25, 28, 29, 35, 38\n",
    "ax.plot(data_pig_duck_75_25[i][:,0], data_pig_duck_75_25[i][:,1], label='Pig-duck ' + str(i+1))\n",
    "ax.set_xlabel('Wavenumber (cm-1)')\n",
    "ax.set_ylabel('Absorbance')\n",
    "ax.set_title('Pig-duck 75-25')\n",
    "plt.show()"
   ]
  },
  {
   "cell_type": "code",
   "execution_count": null,
   "metadata": {},
   "outputs": [],
   "source": [
    "despike_9 = fixer(data_pig_duck_75_25[9][:,1], 10, threshold=5)\n",
    "fig, ax = plt.subplots(figsize=(10,5))\n",
    "ax.plot(data_pig_duck_75_25[9][:,0], data_pig_duck_75_25[9][:,1], label='Pig-duck')\n",
    "ax.plot(data_pig_duck_75_25[9][:,0], despike_9[:], label='Despiked Pig-duck')\n",
    "ax.set_xlabel('Wavenumber (cm-1)')\n",
    "ax.set_ylabel('Absorbance')\n",
    "ax.set_title('Pig-duck 75-25')\n",
    "plt.legend()\n",
    "plt.show()"
   ]
  },
  {
   "cell_type": "code",
   "execution_count": null,
   "metadata": {},
   "outputs": [],
   "source": [
    "despike_20 = fixer(fixer(data_pig_duck_75_25[20][:,1], 5, threshold=4), 10)\n",
    "fig, ax = plt.subplots(figsize=(10,5))\n",
    "ax.plot(data_pig_duck_75_25[20][:,0], data_pig_duck_75_25[20][:,1], label='Pig-duck')\n",
    "ax.plot(data_pig_duck_75_25[20][:,0], despike_20[:], label='Despiked Pig-duck')\n",
    "ax.set_xlabel('Wavenumber (cm-1)')\n",
    "ax.set_ylabel('Absorbance')\n",
    "ax.set_title('Pig-duck 75-25')\n",
    "plt.legend()\n",
    "plt.show()"
   ]
  },
  {
   "cell_type": "code",
   "execution_count": null,
   "metadata": {},
   "outputs": [],
   "source": [
    "despike_25 = fixer(data_pig_duck_75_25[25][:,1], 10, threshold=5)\n",
    "fig, ax = plt.subplots(figsize=(10,5))\n",
    "ax.plot(data_pig_duck_75_25[25][:,0], data_pig_duck_75_25[25][:,1], label='Pig-duck')\n",
    "ax.plot(data_pig_duck_75_25[25][:,0], despike_25[:], label='Despiked Pig-duck')\n",
    "ax.set_xlabel('Wavenumber (cm-1)')\n",
    "ax.set_ylabel('Absorbance')\n",
    "ax.set_title('Pig-duck 75-25')\n",
    "plt.legend()\n",
    "plt.show()"
   ]
  },
  {
   "cell_type": "code",
   "execution_count": null,
   "metadata": {},
   "outputs": [],
   "source": [
    "despike_28 = fixer(data_pig_duck_75_25[28][:,1], 10, threshold=5)\n",
    "fig, ax = plt.subplots(figsize=(10,5))\n",
    "ax.plot(data_pig_duck_75_25[28][:,0], data_pig_duck_75_25[28][:,1], label='Pig-duck')\n",
    "ax.plot(data_pig_duck_75_25[28][:,0], despike_28[:], label='Despiked Pig-duck')\n",
    "ax.set_xlabel('Wavenumber (cm-1)')\n",
    "ax.set_ylabel('Absorbance')\n",
    "ax.set_title('Pig-duck 75-25')\n",
    "plt.legend()\n",
    "plt.show()"
   ]
  },
  {
   "cell_type": "code",
   "execution_count": null,
   "metadata": {},
   "outputs": [],
   "source": [
    "despike_29 = fixer(data_pig_duck_75_25[29][:,1], 10, threshold=7)\n",
    "fig, ax = plt.subplots(figsize=(10,5))\n",
    "ax.plot(data_pig_duck_75_25[29][:,0], data_pig_duck_75_25[29][:,1], label='Pig-duck')\n",
    "ax.plot(data_pig_duck_75_25[29][:,0], despike_29[:], label='Despiked Pig-duck')\n",
    "ax.set_xlabel('Wavenumber (cm-1)')\n",
    "ax.set_ylabel('Absorbance')\n",
    "ax.set_title('Pig-duck 75-25')\n",
    "plt.legend()\n",
    "plt.show()"
   ]
  },
  {
   "cell_type": "code",
   "execution_count": null,
   "metadata": {},
   "outputs": [],
   "source": [
    "despike_35 = fixer(data_pig_duck_75_25[35][:,1], 10, threshold=7)\n",
    "fig, ax = plt.subplots(figsize=(10,5))\n",
    "ax.plot(data_pig_duck_75_25[35][:,0], data_pig_duck_75_25[35][:,1], label='Pig-duck')\n",
    "ax.plot(data_pig_duck_75_25[35][:,0], despike_35[:], label='Despiked Pig-duck')\n",
    "ax.set_xlabel('Wavenumber (cm-1)')\n",
    "ax.set_ylabel('Absorbance')\n",
    "ax.set_title('Pig-duck 75-25')\n",
    "plt.legend()\n",
    "plt.show()"
   ]
  },
  {
   "cell_type": "code",
   "execution_count": null,
   "metadata": {},
   "outputs": [],
   "source": [
    "despike_38 = fixer(data_pig_duck_75_25[38][:,1], 10, threshold=7)\n",
    "fig, ax = plt.subplots(figsize=(10,5))\n",
    "ax.plot(data_pig_duck_75_25[38][:,0], data_pig_duck_75_25[38][:,1], label='Pig-duck')\n",
    "ax.plot(data_pig_duck_75_25[38][:,0], despike_38[:], label='Despiked Pig-duck')\n",
    "ax.set_xlabel('Wavenumber (cm-1)')\n",
    "ax.set_ylabel('Absorbance')\n",
    "ax.set_title('Pig-duck 75-25')\n",
    "plt.legend()\n",
    "plt.show()"
   ]
  },
  {
   "cell_type": "code",
   "execution_count": null,
   "metadata": {},
   "outputs": [],
   "source": [
    "data_pig_duck_75_25[9][:,1] = despike_9\n",
    "data_pig_duck_75_25[20][:,1] = despike_20\n",
    "data_pig_duck_75_25[25][:,1] = despike_25\n",
    "data_pig_duck_75_25[28][:,1] = despike_28\n",
    "data_pig_duck_75_25[29][:,1] = despike_29\n",
    "data_pig_duck_75_25[35][:,1] = despike_35\n",
    "data_pig_duck_75_25[38][:,1] = despike_38"
   ]
  },
  {
   "cell_type": "code",
   "execution_count": null,
   "metadata": {},
   "outputs": [],
   "source": [
    "baseline_= baseline_als(data_pig_duck_75_25[1][:,1], 1000000, 0.01)\n",
    "fig, ax = plt.subplots(figsize=(10,5))\n",
    "ax.plot(data_pig_duck_75_25[1][:,0], data_pig_duck_75_25[1][:,1])\n",
    "ax.plot(data_pig_duck_75_25[0][:,0], baseline_)\n",
    "ax.set_xlabel('Wavenumber (cm-1)')\n",
    "ax.set_ylabel('Absorbance')\n",
    "ax.set_title('Pig-duck 75-25')\n",
    "plt.show()"
   ]
  },
  {
   "cell_type": "code",
   "execution_count": null,
   "metadata": {},
   "outputs": [],
   "source": [
    "df_pig_duck_75_25 = data_pig_duck_75_25[0][:,0]\n",
    "for i in range(0, len(data_pig_duck_75_25)):\n",
    "    # Baseline correction\n",
    "    if i not in (18, 19, 22, 23, 30):\n",
    "        baseline_= baseline_als(data_pig_duck_75_25[i][:,1], 1000000, 0.01)\n",
    "        df_pig_duck_75_25 = np.vstack((df_pig_duck_75_25, data_pig_duck_75_25[i][:,1] - baseline_))\n",
    "df_pig_duck_75_25 = np.transpose(df_pig_duck_75_25)\n",
    "scaler = MinMaxScaler()\n",
    "df_pig_duck_75_25_scaled = scaler.fit_transform(df_pig_duck_75_25[:,1:])\n",
    "df_pig_duck_75_25_scaled = np.hstack((df_pig_duck_75_25[:,0].reshape(-1,1), df_pig_duck_75_25_scaled))"
   ]
  },
  {
   "cell_type": "code",
   "execution_count": null,
   "metadata": {},
   "outputs": [],
   "source": [
    "fig, ax = plt.subplots(figsize=(10,5))\n",
    "for i in range(1, df_pig_duck_75_25_scaled.shape[1]):\n",
    "    ax.plot(df_pig_duck_75_25_scaled[:,0], df_pig_duck_75_25_scaled[:,i], label='Pig-duck ' + str(i+1))\n",
    "ax.set_xlabel('Wavenumber (cm-1)')\n",
    "ax.set_ylabel('Absorbance')\n",
    "ax.set_title('Pig-duck 75-25')\n",
    "plt.show()"
   ]
  },
  {
   "cell_type": "code",
   "execution_count": null,
   "metadata": {},
   "outputs": [],
   "source": [
    "pig_duck_75_25 = np.mean(df_pig_duck_75_25_scaled[:, 1:], axis=1)\n",
    "#pig_duck_75_25[1800:1860] = fixer(pig_duck_75_25[1800:1860], 10)\n",
    "pig_duck_75_25_filtered = savgol_filter(pig_duck_75_25, 20, 3)"
   ]
  },
  {
   "cell_type": "code",
   "execution_count": null,
   "metadata": {},
   "outputs": [],
   "source": [
    "fig, ax = plt.subplots(figsize=(10,5))\n",
    "ax.plot(df_pig_duck_75_25[:,0], pig_duck_75_25_filtered)\n",
    "ax.set_xlabel('Wavenumber (cm-1)')\n",
    "ax.set_ylabel('Absorbance')\n",
    "ax.set_title('Pig-duck 75-25')\n",
    "plt.show()"
   ]
  },
  {
   "cell_type": "code",
   "execution_count": null,
   "metadata": {},
   "outputs": [],
   "source": [
    "path = '../data/Data Lemak/preprocessed/contamination/pig-duck/pig-duck 75-25/'\n",
    "if not os.path.exists(path):\n",
    "    os.makedirs(path)\n",
    "pd.DataFrame(df_pig_duck_75_25_scaled).to_csv(path+'/pig_duck_75_25_all.csv', index=False, header=False)\n",
    "pd.DataFrame([df_pig_duck_75_25[:,0], pig_duck_75_25_filtered]).T.to_csv(path+'pig_duck_75_25_mean.csv', index=False, header=False)"
   ]
  },
  {
   "cell_type": "markdown",
   "metadata": {},
   "source": [
    "## Pig-Goat (25 - 75)"
   ]
  },
  {
   "cell_type": "code",
   "execution_count": null,
   "metadata": {},
   "outputs": [],
   "source": [
    "fig, ax = plt.subplots(figsize=(10,5))\n",
    "for i in range(0, len(data_pig_goat_25_75)):\n",
    "    ax.plot(data_pig_goat_25_75[i][:,0], data_pig_goat_25_75[i][:,1], label='Pig-goat ' + str(i+1))\n",
    "ax.set_xlabel('Wavenumber (cm-1)')\n",
    "ax.set_ylabel('Absorbance')\n",
    "ax.set_title('Pig-goat 25-75')\n",
    "plt.show()"
   ]
  },
  {
   "cell_type": "code",
   "execution_count": null,
   "metadata": {},
   "outputs": [],
   "source": [
    "fig, ax = plt.subplots(figsize=(10,5))\n",
    "for i in range(0, len(data_pig_goat_25_75)):\n",
    "    if i not in range(0, 16) and i not in (19, 23, 29, 32, 35, 36, 37):\n",
    "        ax.plot(data_pig_goat_25_75[i][:,0], data_pig_goat_25_75[i][:,1], label='Pig-goat ' + str(i+1))\n",
    "ax.set_xlabel('Wavenumber (cm-1)')\n",
    "ax.set_ylabel('Absorbance')\n",
    "ax.set_title('Pig-goat 25-75')\n",
    "plt.show()"
   ]
  },
  {
   "cell_type": "code",
   "execution_count": null,
   "metadata": {},
   "outputs": [],
   "source": [
    "fig, ax = plt.subplots(figsize=(10,5))\n",
    "i = 40 # 19, 23, 29, 32, 35, 36, 37\n",
    "ax.plot(data_pig_goat_25_75[i][:,0], data_pig_goat_25_75[i][:,1], label='Pig-goat ' + str(i+1))\n",
    "ax.set_xlabel('Wavenumber (cm-1)')\n",
    "ax.set_ylabel('Absorbance')\n",
    "ax.set_title('Pig-goat 25-75')\n",
    "plt.show()"
   ]
  },
  {
   "cell_type": "code",
   "execution_count": null,
   "metadata": {},
   "outputs": [],
   "source": [
    "despike_19 = fixer(data_pig_goat_25_75[19][:,1], 10)\n",
    "fig, ax = plt.subplots(figsize=(10,5))\n",
    "ax.plot(data_pig_goat_25_75[19][:,0], data_pig_goat_25_75[19][:,1], label='Pig-goat')\n",
    "ax.plot(data_pig_goat_25_75[19][:,0], despike_19[:], label='Despiked Pig-goat')\n",
    "ax.set_xlabel('Wavenumber (cm-1)')\n",
    "ax.set_ylabel('Absorbance')\n",
    "ax.set_title('Pig-goat 25-75')\n",
    "plt.legend()\n",
    "plt.show()"
   ]
  },
  {
   "cell_type": "code",
   "execution_count": null,
   "metadata": {},
   "outputs": [],
   "source": [
    "despike_23 = fixer(data_pig_goat_25_75[23][:,1], 10, threshold=4)\n",
    "fig, ax = plt.subplots(figsize=(10,5))\n",
    "ax.plot(data_pig_goat_25_75[23][:,0], data_pig_goat_25_75[23][:,1], label='Pig-goat')\n",
    "ax.plot(data_pig_goat_25_75[23][:,0], despike_23[:], label='Despiked Pig-goat')\n",
    "ax.set_xlabel('Wavenumber (cm-1)')\n",
    "ax.set_ylabel('Absorbance')\n",
    "ax.set_title('Pig-goat 25-75')\n",
    "plt.legend()\n",
    "plt.show()"
   ]
  },
  {
   "cell_type": "code",
   "execution_count": null,
   "metadata": {},
   "outputs": [],
   "source": [
    "despike_29 = fixer(data_pig_goat_25_75[29][:,1], 10)\n",
    "fig, ax = plt.subplots(figsize=(10,5))\n",
    "ax.plot(data_pig_goat_25_75[29][:,0], data_pig_goat_25_75[29][:,1], label='Pig-goat')\n",
    "ax.plot(data_pig_goat_25_75[29][:,0], despike_29[:], label='Despiked Pig-goat')\n",
    "ax.set_xlabel('Wavenumber (cm-1)')\n",
    "ax.set_ylabel('Absorbance')\n",
    "ax.set_title('Pig-goat 25-75')\n",
    "plt.legend()\n",
    "plt.show()"
   ]
  },
  {
   "cell_type": "code",
   "execution_count": null,
   "metadata": {},
   "outputs": [],
   "source": [
    "despike_32 = fixer(data_pig_goat_25_75[32][:,1], 10)\n",
    "fig, ax = plt.subplots(figsize=(10,5))\n",
    "ax.plot(data_pig_goat_25_75[32][:,0], data_pig_goat_25_75[32][:,1], label='Pig-goat')\n",
    "ax.plot(data_pig_goat_25_75[32][:,0], despike_32[:], label='Despiked Pig-goat')\n",
    "ax.set_xlabel('Wavenumber (cm-1)')\n",
    "ax.set_ylabel('Absorbance')\n",
    "ax.set_title('Pig-goat 25-75')\n",
    "plt.legend()\n",
    "plt.show()"
   ]
  },
  {
   "cell_type": "code",
   "execution_count": null,
   "metadata": {},
   "outputs": [],
   "source": [
    "despike_35 = fixer(data_pig_goat_25_75[35][:,1], 10)\n",
    "fig, ax = plt.subplots(figsize=(10,5))\n",
    "ax.plot(data_pig_goat_25_75[35][:,0], data_pig_goat_25_75[35][:,1], label='Pig-goat')\n",
    "ax.plot(data_pig_goat_25_75[35][:,0], despike_35[:], label='Despiked Pig-goat')\n",
    "ax.set_xlabel('Wavenumber (cm-1)')\n",
    "ax.set_ylabel('Absorbance')\n",
    "ax.set_title('Pig-goat 25-75')\n",
    "plt.legend()\n",
    "plt.show()"
   ]
  },
  {
   "cell_type": "code",
   "execution_count": null,
   "metadata": {},
   "outputs": [],
   "source": [
    "despike_36 = fixer(data_pig_goat_25_75[36][:,1], 10, threshold=4)\n",
    "fig, ax = plt.subplots(figsize=(10,5))\n",
    "ax.plot(data_pig_goat_25_75[36][:,0], data_pig_goat_25_75[36][:,1], label='Pig-goat')\n",
    "ax.plot(data_pig_goat_25_75[36][:,0], despike_36[:], label='Despiked Pig-goat')\n",
    "ax.set_xlabel('Wavenumber (cm-1)')\n",
    "ax.set_ylabel('Absorbance')\n",
    "ax.set_title('Pig-goat 25-75')\n",
    "plt.legend()\n",
    "plt.show()"
   ]
  },
  {
   "cell_type": "code",
   "execution_count": null,
   "metadata": {},
   "outputs": [],
   "source": [
    "despike_37 = fixer(data_pig_goat_25_75[37][:,1], 10, threshold=4)\n",
    "fig, ax = plt.subplots(figsize=(10,5))\n",
    "ax.plot(data_pig_goat_25_75[37][:,0], data_pig_goat_25_75[37][:,1], label='Pig-goat')\n",
    "ax.plot(data_pig_goat_25_75[37][:,0], despike_37[:], label='Despiked Pig-goat')\n",
    "ax.set_xlabel('Wavenumber (cm-1)')\n",
    "ax.set_ylabel('Absorbance')\n",
    "ax.set_title('Pig-goat 25-75')\n",
    "plt.legend()\n",
    "plt.show()"
   ]
  },
  {
   "cell_type": "code",
   "execution_count": null,
   "metadata": {},
   "outputs": [],
   "source": [
    "data_pig_goat_25_75[19][:,1] = despike_19\n",
    "data_pig_goat_25_75[23][:,1] = despike_23\n",
    "data_pig_goat_25_75[29][:,1] = despike_29\n",
    "data_pig_goat_25_75[32][:,1] = despike_32\n",
    "data_pig_goat_25_75[35][:,1] = despike_35\n",
    "data_pig_goat_25_75[36][:,1] = despike_36\n",
    "data_pig_goat_25_75[37][:,1] = despike_37"
   ]
  },
  {
   "cell_type": "code",
   "execution_count": null,
   "metadata": {},
   "outputs": [],
   "source": [
    "baseline_= baseline_als(data_pig_goat_25_75[17][:,1], 1000000, 0.005)\n",
    "fig, ax = plt.subplots(figsize=(10,5))\n",
    "ax.plot(data_pig_goat_25_75[17][:,0], data_pig_goat_25_75[17][:,1])\n",
    "ax.plot(data_pig_goat_25_75[17][:,0], baseline_)\n",
    "ax.set_xlabel('Wavenumber (cm-1)')\n",
    "ax.set_ylabel('Absorbance')\n",
    "ax.set_title('Pig-goat 25-75')\n",
    "plt.show()"
   ]
  },
  {
   "cell_type": "code",
   "execution_count": null,
   "metadata": {},
   "outputs": [],
   "source": [
    "df_pig_goat_25_75 = data_pig_goat_25_75[0][:,0]\n",
    "for i in range(0, len(data_pig_goat_25_75)):\n",
    "    # Baseline correction\n",
    "    if i not in range(0, 16):\n",
    "        baseline_= baseline_als(data_pig_goat_25_75[i][:,1], 1000000, 0.005)\n",
    "        df_pig_goat_25_75 = np.vstack((df_pig_goat_25_75, data_pig_goat_25_75[i][:,1] - baseline_))\n",
    "df_pig_goat_25_75 = np.transpose(df_pig_goat_25_75)\n",
    "scaler = MinMaxScaler()\n",
    "df_pig_goat_25_75_scaled = scaler.fit_transform(df_pig_goat_25_75[:,1:])\n",
    "df_pig_goat_25_75_scaled = np.hstack((df_pig_goat_25_75[:,0].reshape(-1,1), df_pig_goat_25_75_scaled))"
   ]
  },
  {
   "cell_type": "code",
   "execution_count": null,
   "metadata": {},
   "outputs": [],
   "source": [
    "fig, ax = plt.subplots(figsize=(10,5))\n",
    "for i in range(1, df_pig_goat_25_75_scaled.shape[1]):\n",
    "    ax.plot(df_pig_goat_25_75_scaled[:,0], df_pig_goat_25_75_scaled[:,i], label='Pig-goat ' + str(i+1))\n",
    "ax.set_xlabel('Wavenumber (cm-1)')\n",
    "ax.set_ylabel('Absorbance')\n",
    "ax.set_title('Pig-goat 25-75')\n",
    "plt.show()"
   ]
  },
  {
   "cell_type": "code",
   "execution_count": null,
   "metadata": {},
   "outputs": [],
   "source": [
    "pig_goat_25_75 = np.mean(df_pig_goat_25_75_scaled[:, 1:], axis=1)\n",
    "#pig_goat_25_75[1800:1860] = fixer(pig_goat_25_75[1800:1860], 10)\n",
    "pig_goat_25_75_filtered = savgol_filter(pig_goat_25_75, 20, 3)"
   ]
  },
  {
   "cell_type": "code",
   "execution_count": null,
   "metadata": {},
   "outputs": [],
   "source": [
    "fig, ax = plt.subplots(figsize=(10,5))\n",
    "ax.plot(df_pig_goat_25_75[:,0], pig_goat_25_75_filtered)\n",
    "ax.set_xlabel('Wavenumber (cm-1)')\n",
    "ax.set_ylabel('Absorbance')\n",
    "ax.set_title('Pig-goat 25-75')\n",
    "plt.show()"
   ]
  },
  {
   "cell_type": "code",
   "execution_count": null,
   "metadata": {},
   "outputs": [],
   "source": [
    "path = '../data/Data Lemak/preprocessed/contamination/pig-goat/pig-goat 25-75/'\n",
    "if not os.path.exists(path):\n",
    "    os.makedirs(path)\n",
    "pd.DataFrame(df_pig_goat_25_75_scaled).to_csv(path+'/pig_goat_25_75_all.csv', index=False, header=False)\n",
    "pd.DataFrame([df_pig_goat_25_75[:,0], pig_goat_25_75_filtered]).T.to_csv(path+'pig_goat_25_75_mean.csv', index=False, header=False)"
   ]
  },
  {
   "cell_type": "markdown",
   "metadata": {},
   "source": [
    "## Pig-Goat (50 - 50)"
   ]
  },
  {
   "cell_type": "code",
   "execution_count": null,
   "metadata": {},
   "outputs": [],
   "source": [
    "fig, ax = plt.subplots(figsize=(10,5))\n",
    "for i in range(0, len(data_pig_goat_50_50)):\n",
    "    ax.plot(data_pig_goat_50_50[i][:,0], data_pig_goat_50_50[i][:,1], label='Pig-goat ' + str(i+1))\n",
    "ax.set_xlabel('Wavenumber (cm-1)')\n",
    "ax.set_ylabel('Absorbance')\n",
    "ax.set_title('Pig-goat 50-50')\n",
    "plt.show()"
   ]
  },
  {
   "cell_type": "code",
   "execution_count": null,
   "metadata": {},
   "outputs": [],
   "source": [
    "fig, ax = plt.subplots(figsize=(10,5))\n",
    "for i in range(0, len(data_pig_goat_50_50)):\n",
    "    if i not in (0, 1, 14, 19, 26, 28, 30, 31, 40, 47):\n",
    "        ax.plot(data_pig_goat_50_50[i][:,0], data_pig_goat_50_50[i][:,1], label='Pig-goat ' + str(i+1))\n",
    "ax.set_xlabel('Wavenumber (cm-1)')\n",
    "ax.set_ylabel('Absorbance')\n",
    "ax.set_title('Pig-goat 50-50')\n",
    "plt.show()"
   ]
  },
  {
   "cell_type": "code",
   "execution_count": null,
   "metadata": {},
   "outputs": [],
   "source": [
    "fig, ax = plt.subplots(figsize=(10,5))\n",
    "i = 26 #0, 1, 14, 19, 26, 28, 30, 31, 40, 47\n",
    "ax.plot(data_pig_goat_50_50[i][:,0], data_pig_goat_50_50[i][:,1], label='Pig-goat ' + str(i+1))\n",
    "ax.set_xlabel('Wavenumber (cm-1)')\n",
    "ax.set_ylabel('Absorbance')\n",
    "ax.set_title('Pig-goat 50-50')\n",
    "plt.show()"
   ]
  },
  {
   "cell_type": "code",
   "execution_count": null,
   "metadata": {},
   "outputs": [],
   "source": [
    "despike_0 = fixer(data_pig_goat_50_50[0][:,1], 10, threshold=4)\n",
    "fig, ax = plt.subplots(figsize=(10,5))\n",
    "ax.plot(data_pig_goat_50_50[0][:,0], data_pig_goat_50_50[0][:,1], label='Pig-goat')\n",
    "ax.plot(data_pig_goat_50_50[0][:,0], despike_0[:], label='Despiked Pig-goat')\n",
    "ax.set_xlabel('Wavenumber (cm-1)')\n",
    "ax.set_ylabel('Absorbance')\n",
    "ax.set_title('Pig-goat 50-50')\n",
    "plt.legend()\n",
    "plt.show()"
   ]
  },
  {
   "cell_type": "code",
   "execution_count": null,
   "metadata": {},
   "outputs": [],
   "source": [
    "despike_1 = fixer(fixer(data_pig_goat_50_50[1][:,1], 5, threshold=5), 5, threshold=4)\n",
    "fig, ax = plt.subplots(figsize=(10,5))\n",
    "ax.plot(data_pig_goat_50_50[1][:,0], data_pig_goat_50_50[1][:,1], label='Pig-goat')\n",
    "ax.plot(data_pig_goat_50_50[1][:,0], despike_1[:], label='Despiked Pig-goat')\n",
    "ax.set_xlabel('Wavenumber (cm-1)')\n",
    "ax.set_ylabel('Absorbance')\n",
    "ax.set_title('Pig-goat 50-50')\n",
    "plt.legend()\n",
    "plt.show()"
   ]
  },
  {
   "cell_type": "code",
   "execution_count": null,
   "metadata": {},
   "outputs": [],
   "source": [
    "despike_14 = fixer(data_pig_goat_50_50[14][:,1], 10, threshold=5)\n",
    "fig, ax = plt.subplots(figsize=(10,5))\n",
    "ax.plot(data_pig_goat_50_50[14][:,0], data_pig_goat_50_50[14][:,1], label='Pig-goat')\n",
    "ax.plot(data_pig_goat_50_50[14][:,0], despike_14[:], label='Despiked Pig-goat')\n",
    "ax.set_xlabel('Wavenumber (cm-1)')\n",
    "ax.set_ylabel('Absorbance')\n",
    "ax.set_title('Pig-goat 50-50')\n",
    "plt.legend()\n",
    "plt.show()"
   ]
  },
  {
   "cell_type": "code",
   "execution_count": null,
   "metadata": {},
   "outputs": [],
   "source": [
    "despike_19 = fixer(data_pig_goat_50_50[19][:,1], 10, threshold=6)\n",
    "fig, ax = plt.subplots(figsize=(10,5))\n",
    "ax.plot(data_pig_goat_50_50[19][:,0], data_pig_goat_50_50[19][:,1], label='Pig-goat')\n",
    "ax.plot(data_pig_goat_50_50[19][:,0], despike_19[:], label='Despiked Pig-goat')\n",
    "ax.set_xlabel('Wavenumber (cm-1)')\n",
    "ax.set_ylabel('Absorbance')\n",
    "ax.set_title('Pig-goat 50-50')\n",
    "plt.legend()\n",
    "plt.show()"
   ]
  },
  {
   "cell_type": "code",
   "execution_count": null,
   "metadata": {},
   "outputs": [],
   "source": [
    "despike_26 = fixer(data_pig_goat_50_50[26][:,1], 5, threshold=6)\n",
    "fig, ax = plt.subplots(figsize=(10,5))\n",
    "ax.plot(data_pig_goat_50_50[26][:,0], data_pig_goat_50_50[26][:,1], label='Pig-goat')\n",
    "ax.plot(data_pig_goat_50_50[26][:,0], despike_26[:], label='Despiked Pig-goat')\n",
    "ax.set_xlabel('Wavenumber (cm-1)')\n",
    "ax.set_ylabel('Absorbance')\n",
    "ax.set_title('Pig-goat 50-50')\n",
    "plt.legend()\n",
    "plt.show()"
   ]
  },
  {
   "cell_type": "code",
   "execution_count": null,
   "metadata": {},
   "outputs": [],
   "source": [
    "despike_28 = fixer(fixer(data_pig_goat_50_50[28][:,1], 25, threshold=4), 10)\n",
    "fig, ax = plt.subplots(figsize=(10,5))\n",
    "ax.plot(data_pig_goat_50_50[28][:,0], data_pig_goat_50_50[28][:,1], label='Pig-goat')\n",
    "ax.plot(data_pig_goat_50_50[28][:,0], despike_28[:], label='Despiked Pig-goat')\n",
    "ax.set_xlabel('Wavenumber (cm-1)')\n",
    "ax.set_ylabel('Absorbance')\n",
    "ax.set_title('Pig-goat 50-50')\n",
    "plt.legend()\n",
    "plt.show()"
   ]
  },
  {
   "cell_type": "code",
   "execution_count": null,
   "metadata": {},
   "outputs": [],
   "source": [
    "despike_30 = fixer(data_pig_goat_50_50[30][:,1], 10, threshold=7)\n",
    "fig, ax = plt.subplots(figsize=(10,5))\n",
    "ax.plot(data_pig_goat_50_50[30][:,0], data_pig_goat_50_50[30][:,1], label='Pig-goat')\n",
    "ax.plot(data_pig_goat_50_50[30][:,0], despike_30[:], label='Despiked Pig-goat')\n",
    "ax.set_xlabel('Wavenumber (cm-1)')\n",
    "ax.set_ylabel('Absorbance')\n",
    "ax.set_title('Pig-goat 50-50')\n",
    "plt.legend()\n",
    "plt.show()"
   ]
  },
  {
   "cell_type": "code",
   "execution_count": null,
   "metadata": {},
   "outputs": [],
   "source": [
    "despike_31 = fixer(data_pig_goat_50_50[31][:,1], 10, threshold=4)\n",
    "fig, ax = plt.subplots(figsize=(10,5))\n",
    "ax.plot(data_pig_goat_50_50[31][:,0], data_pig_goat_50_50[31][:,1], label='Pig-goat')\n",
    "ax.plot(data_pig_goat_50_50[31][:,0], despike_31[:], label='Despiked Pig-goat')\n",
    "ax.set_xlabel('Wavenumber (cm-1)')\n",
    "ax.set_ylabel('Absorbance')\n",
    "ax.set_title('Pig-goat 50-50')\n",
    "plt.legend()\n",
    "plt.show()"
   ]
  },
  {
   "cell_type": "code",
   "execution_count": null,
   "metadata": {},
   "outputs": [],
   "source": [
    "despike_40 = fixer(data_pig_goat_50_50[40][:,1], 10, threshold=4)\n",
    "fig, ax = plt.subplots(figsize=(10,5))\n",
    "ax.plot(data_pig_goat_50_50[40][:,0], data_pig_goat_50_50[40][:,1], label='Pig-goat')\n",
    "ax.plot(data_pig_goat_50_50[40][:,0], despike_40[:], label='Despiked Pig-goat')\n",
    "ax.set_xlabel('Wavenumber (cm-1)')\n",
    "ax.set_ylabel('Absorbance')\n",
    "ax.set_title('Pig-goat 50-50')\n",
    "plt.legend()\n",
    "plt.show()"
   ]
  },
  {
   "cell_type": "code",
   "execution_count": null,
   "metadata": {},
   "outputs": [],
   "source": [
    "despike_47 = fixer(data_pig_goat_50_50[47][:,1], 15)\n",
    "fig, ax = plt.subplots(figsize=(10,5))\n",
    "ax.plot(data_pig_goat_50_50[47][:,0], data_pig_goat_50_50[47][:,1], label='Pig-goat')\n",
    "ax.plot(data_pig_goat_50_50[47][:,0], despike_47[:], label='Despiked Pig-goat')\n",
    "ax.set_xlabel('Wavenumber (cm-1)')\n",
    "ax.set_ylabel('Absorbance')\n",
    "ax.set_title('Pig-goat 50-50')\n",
    "plt.legend()\n",
    "plt.show()"
   ]
  },
  {
   "cell_type": "code",
   "execution_count": null,
   "metadata": {},
   "outputs": [],
   "source": [
    "data_pig_goat_50_50[0][:,1] = despike_0\n",
    "data_pig_goat_50_50[1][:,1] = despike_1\n",
    "data_pig_goat_50_50[14][:,1] = despike_14\n",
    "data_pig_goat_50_50[19][:,1] = despike_19\n",
    "data_pig_goat_50_50[26][:,1] = despike_26\n",
    "data_pig_goat_50_50[28][:,1] = despike_28\n",
    "data_pig_goat_50_50[30][:,1] = despike_30\n",
    "data_pig_goat_50_50[31][:,1] = despike_31\n",
    "data_pig_goat_50_50[39][:,1] = despike_39\n",
    "data_pig_goat_50_50[40][:,1] = despike_40\n",
    "data_pig_goat_50_50[47][:,1] = despike_47"
   ]
  },
  {
   "cell_type": "code",
   "execution_count": null,
   "metadata": {},
   "outputs": [],
   "source": [
    "baseline_= baseline_als(data_pig_goat_50_50[1][:,1], 1000000, 0.005)\n",
    "fig, ax = plt.subplots(figsize=(10,5))\n",
    "ax.plot(data_pig_goat_50_50[1][:,0], data_pig_goat_50_50[1][:,1])\n",
    "ax.plot(data_pig_goat_50_50[0][:,0], baseline_)\n",
    "ax.set_xlabel('Wavenumber (cm-1)')\n",
    "ax.set_ylabel('Absorbance')\n",
    "ax.set_title('Pig-goat 50-50')\n",
    "plt.show()"
   ]
  },
  {
   "cell_type": "code",
   "execution_count": null,
   "metadata": {},
   "outputs": [],
   "source": [
    "df_pig_goat_50_50 = data_pig_goat_50_50[0][:,0]\n",
    "for i in range(0, len(data_pig_goat_50_50)):\n",
    "    # Baseline correction\n",
    "    baseline_= baseline_als(data_pig_goat_50_50[i][:,1], 1000000, 0.005)\n",
    "    df_pig_goat_50_50 = np.vstack((df_pig_goat_50_50, data_pig_goat_50_50[i][:,1] - baseline_))\n",
    "df_pig_goat_50_50 = np.transpose(df_pig_goat_50_50)\n",
    "scaler = MinMaxScaler()\n",
    "df_pig_goat_50_50_scaled = scaler.fit_transform(df_pig_goat_50_50[:,1:])\n",
    "df_pig_goat_50_50_scaled = np.hstack((df_pig_goat_50_50[:,0].reshape(-1,1), df_pig_goat_50_50_scaled))"
   ]
  },
  {
   "cell_type": "code",
   "execution_count": null,
   "metadata": {},
   "outputs": [],
   "source": [
    "fig, ax = plt.subplots(figsize=(10,5))\n",
    "for i in range(1, df_pig_goat_50_50_scaled.shape[1]):\n",
    "    ax.plot(df_pig_goat_50_50_scaled[:,0], df_pig_goat_50_50_scaled[:,i], label='Pig-goat ' + str(i+1))\n",
    "ax.set_xlabel('Wavenumber (cm-1)')\n",
    "ax.set_ylabel('Absorbance')\n",
    "ax.set_title('Pig-goat 50-50')\n",
    "plt.show()"
   ]
  },
  {
   "cell_type": "code",
   "execution_count": null,
   "metadata": {},
   "outputs": [],
   "source": [
    "pig_goat_50_50 = np.mean(df_pig_goat_50_50_scaled[:, 1:], axis=1)\n",
    "#pig_goat_50_50[1800:1860] = fixer(pig_goat_50_50[1800:1860], 10)\n",
    "pig_goat_50_50_filtered = savgol_filter(pig_goat_50_50, 20, 3)"
   ]
  },
  {
   "cell_type": "code",
   "execution_count": null,
   "metadata": {},
   "outputs": [],
   "source": [
    "fig, ax = plt.subplots(figsize=(10,5))\n",
    "ax.plot(df_pig_goat_50_50[:,0], pig_goat_50_50_filtered)\n",
    "ax.set_xlabel('Wavenumber (cm-1)')\n",
    "ax.set_ylabel('Absorbance')\n",
    "ax.set_title('Pig-goat 50-50')\n",
    "plt.show()"
   ]
  },
  {
   "cell_type": "code",
   "execution_count": null,
   "metadata": {},
   "outputs": [],
   "source": [
    "path = '../data/Data Lemak/preprocessed/contamination/pig-goat/pig-goat 50-50/'\n",
    "if not os.path.exists(path):\n",
    "    os.makedirs(path)\n",
    "pd.DataFrame(df_pig_goat_50_50_scaled).to_csv(path+'/pig_goat_50_50_all.csv', index=False, header=False)\n",
    "pd.DataFrame([df_pig_goat_50_50[:,0], pig_goat_50_50_filtered]).T.to_csv(path+'pig_goat_50_50_mean.csv', index=False, header=False)"
   ]
  },
  {
   "cell_type": "markdown",
   "metadata": {},
   "source": [
    "## Pig-Goat (75 - 25)"
   ]
  },
  {
   "cell_type": "code",
   "execution_count": null,
   "metadata": {},
   "outputs": [],
   "source": [
    "fig, ax = plt.subplots(figsize=(10,5))\n",
    "for i in range(0, len(data_pig_goat_75_25)):\n",
    "    ax.plot(data_pig_goat_75_25[i][:,0], data_pig_goat_75_25[i][:,1], label='Pig-goat ' + str(i+1))\n",
    "ax.set_xlabel('Wavenumber (cm-1)')\n",
    "ax.set_ylabel('Absorbance')\n",
    "ax.set_title('Pig-goat 75-25')\n",
    "plt.show()"
   ]
  },
  {
   "cell_type": "code",
   "execution_count": null,
   "metadata": {},
   "outputs": [],
   "source": [
    "fig, ax = plt.subplots(figsize=(10,5))\n",
    "for i in range(0, len(data_pig_goat_75_25)):\n",
    "    if i not in (5, 12, 13, 25, 26, 32, 36, 39):\n",
    "        ax.plot(data_pig_goat_75_25[i][:,0], data_pig_goat_75_25[i][:,1], label='Pig-goat ' + str(i+1))\n",
    "ax.set_xlabel('Wavenumber (cm-1)')\n",
    "ax.set_ylabel('Absorbance')\n",
    "ax.set_title('Pig-goat 75-25')\n",
    "plt.show()"
   ]
  },
  {
   "cell_type": "code",
   "execution_count": null,
   "metadata": {},
   "outputs": [],
   "source": [
    "fig, ax = plt.subplots(figsize=(10,5))\n",
    "i = 39 #5, 12, 13, 25, 26, 32, 36, 39\n",
    "ax.plot(data_pig_goat_75_25[i][:,0], data_pig_goat_75_25[i][:,1], label='Pig-goat ' + str(i+1))\n",
    "ax.set_xlabel('Wavenumber (cm-1)')\n",
    "ax.set_ylabel('Absorbance')\n",
    "ax.set_title('Pig-goat 75-25')\n",
    "plt.show()"
   ]
  },
  {
   "cell_type": "code",
   "execution_count": null,
   "metadata": {},
   "outputs": [],
   "source": [
    "despike_5 = fixer(data_pig_goat_75_25[5][:,1], 10, threshold=7)\n",
    "fig, ax = plt.subplots(figsize=(10,5))\n",
    "ax.plot(data_pig_goat_75_25[5][:,0], data_pig_goat_75_25[5][:,1], label='Pig-goat')\n",
    "ax.plot(data_pig_goat_75_25[5][:,0], despike_5[:], label='Despiked Pig-goat')\n",
    "ax.set_xlabel('Wavenumber (cm-1)')\n",
    "ax.set_ylabel('Absorbance')\n",
    "ax.set_title('Pig-goat 75-25')\n",
    "plt.legend()\n",
    "plt.show()"
   ]
  },
  {
   "cell_type": "code",
   "execution_count": null,
   "metadata": {},
   "outputs": [],
   "source": [
    "despike_12 = fixer(fixer(data_pig_goat_75_25[12][:,1], 5, threshold=4), 10)\n",
    "fig, ax = plt.subplots(figsize=(10,5))\n",
    "ax.plot(data_pig_goat_75_25[12][:,0], data_pig_goat_75_25[12][:,1], label='Pig-goat')\n",
    "ax.plot(data_pig_goat_75_25[12][:,0], despike_12[:], label='Despiked Pig-goat')\n",
    "ax.set_xlabel('Wavenumber (cm-1)')\n",
    "ax.set_ylabel('Absorbance')\n",
    "ax.set_title('Pig-goat 75-25')\n",
    "plt.legend()\n",
    "plt.show()"
   ]
  },
  {
   "cell_type": "code",
   "execution_count": null,
   "metadata": {},
   "outputs": [],
   "source": [
    "despike_13 = fixer(data_pig_goat_75_25[13][:,1], 10, threshold=7)\n",
    "fig, ax = plt.subplots(figsize=(10,5))\n",
    "ax.plot(data_pig_goat_75_25[13][:,0], data_pig_goat_75_25[13][:,1], label='Pig-goat')\n",
    "ax.plot(data_pig_goat_75_25[13][:,0], despike_13[:], label='Despiked Pig-goat')\n",
    "ax.set_xlabel('Wavenumber (cm-1)')\n",
    "ax.set_ylabel('Absorbance')\n",
    "ax.set_title('Pig-goat 75-25')\n",
    "plt.legend()\n",
    "plt.show()"
   ]
  },
  {
   "cell_type": "code",
   "execution_count": null,
   "metadata": {},
   "outputs": [],
   "source": [
    "despike_25 = fixer(data_pig_goat_75_25[25][:,1], 10, threshold=7)\n",
    "fig, ax = plt.subplots(figsize=(10,5))\n",
    "ax.plot(data_pig_goat_75_25[25][:,0], data_pig_goat_75_25[25][:,1], label='Pig-goat')\n",
    "ax.plot(data_pig_goat_75_25[25][:,0], despike_25[:], label='Despiked Pig-goat')\n",
    "ax.set_xlabel('Wavenumber (cm-1)')\n",
    "ax.set_ylabel('Absorbance')\n",
    "ax.set_title('Pig-goat 75-25')\n",
    "plt.legend()\n",
    "plt.show()"
   ]
  },
  {
   "cell_type": "code",
   "execution_count": null,
   "metadata": {},
   "outputs": [],
   "source": [
    "despike_26 = fixer(data_pig_goat_75_25[26][:,1], 10, threshold=7)\n",
    "fig, ax = plt.subplots(figsize=(10,5))\n",
    "ax.plot(data_pig_goat_75_25[26][:,0], data_pig_goat_75_25[26][:,1], label='Pig-goat')\n",
    "ax.plot(data_pig_goat_75_25[26][:,0], despike_26[:], label='Despiked Pig-goat')\n",
    "ax.set_xlabel('Wavenumber (cm-1)')\n",
    "ax.set_ylabel('Absorbance')\n",
    "ax.set_title('Pig-goat 75-25')\n",
    "plt.legend()\n",
    "plt.show()"
   ]
  },
  {
   "cell_type": "code",
   "execution_count": null,
   "metadata": {},
   "outputs": [],
   "source": [
    "despike_32 = fixer(data_pig_goat_75_25[32][:,1], 10, threshold=7)\n",
    "fig, ax = plt.subplots(figsize=(10,5))\n",
    "ax.plot(data_pig_goat_75_25[32][:,0], data_pig_goat_75_25[32][:,1], label='Pig-goat')\n",
    "ax.plot(data_pig_goat_75_25[32][:,0], despike_32[:], label='Despiked Pig-goat')\n",
    "ax.set_xlabel('Wavenumber (cm-1)')\n",
    "ax.set_ylabel('Absorbance')\n",
    "ax.set_title('Pig-goat 75-25')\n",
    "plt.legend()\n",
    "plt.show()"
   ]
  },
  {
   "cell_type": "code",
   "execution_count": null,
   "metadata": {},
   "outputs": [],
   "source": [
    "despike_36 = fixer(data_pig_goat_75_25[36][:,1], 10, threshold=4)\n",
    "fig, ax = plt.subplots(figsize=(10,5))\n",
    "ax.plot(data_pig_goat_75_25[36][:,0], data_pig_goat_75_25[36][:,1], label='Pig-goat')\n",
    "ax.plot(data_pig_goat_75_25[36][:,0], despike_36[:], label='Despiked Pig-goat')\n",
    "ax.set_xlabel('Wavenumber (cm-1)')\n",
    "ax.set_ylabel('Absorbance')\n",
    "ax.set_title('Pig-goat 75-25')\n",
    "plt.legend()\n",
    "plt.show()"
   ]
  },
  {
   "cell_type": "code",
   "execution_count": null,
   "metadata": {},
   "outputs": [],
   "source": [
    "despike_39 = fixer(data_pig_goat_75_25[39][:,1], 10, threshold=4)\n",
    "fig, ax = plt.subplots(figsize=(10,5))\n",
    "ax.plot(data_pig_goat_75_25[39][:,0], data_pig_goat_75_25[39][:,1], label='Pig-goat')\n",
    "ax.plot(data_pig_goat_75_25[39][:,0], despike_39[:], label='Despiked Pig-goat')\n",
    "ax.set_xlabel('Wavenumber (cm-1)')\n",
    "ax.set_ylabel('Absorbance')\n",
    "ax.set_title('Pig-goat 75-25')\n",
    "plt.legend()\n",
    "plt.show()"
   ]
  },
  {
   "cell_type": "code",
   "execution_count": null,
   "metadata": {},
   "outputs": [],
   "source": [
    "data_pig_goat_75_25[5][:,1] = despike_5\n",
    "data_pig_goat_75_25[12][:,1] = despike_12\n",
    "data_pig_goat_75_25[13][:,1] = despike_13\n",
    "data_pig_goat_75_25[25][:,1] = despike_25\n",
    "data_pig_goat_75_25[26][:,1] = despike_26\n",
    "data_pig_goat_75_25[32][:,1] = despike_32\n",
    "data_pig_goat_75_25[36][:,1] = despike_36\n",
    "data_pig_goat_75_25[39][:,1] = despike_39"
   ]
  },
  {
   "cell_type": "code",
   "execution_count": null,
   "metadata": {},
   "outputs": [],
   "source": [
    "baseline_= baseline_als(data_pig_goat_75_25[1][:,1], 1000000, 0.01)\n",
    "fig, ax = plt.subplots(figsize=(10,5))\n",
    "ax.plot(data_pig_goat_75_25[1][:,0], data_pig_goat_75_25[1][:,1])\n",
    "ax.plot(data_pig_goat_75_25[0][:,0], baseline_)\n",
    "ax.set_xlabel('Wavenumber (cm-1)')\n",
    "ax.set_ylabel('Absorbance')\n",
    "ax.set_title('Pig-goat 75-25')\n",
    "plt.show()"
   ]
  },
  {
   "cell_type": "code",
   "execution_count": null,
   "metadata": {},
   "outputs": [],
   "source": [
    "df_pig_goat_75_25 = data_pig_goat_75_25[0][:,0]\n",
    "for i in range(0, len(data_pig_goat_75_25)):\n",
    "    # Baseline correction\n",
    "    baseline_= baseline_als(data_pig_goat_75_25[i][:,1], 1000000, 0.01)\n",
    "    df_pig_goat_75_25 = np.vstack((df_pig_goat_75_25, data_pig_goat_75_25[i][:,1] - baseline_))\n",
    "df_pig_goat_75_25 = np.transpose(df_pig_goat_75_25)\n",
    "scaler = MinMaxScaler()\n",
    "df_pig_goat_75_25_scaled = scaler.fit_transform(df_pig_goat_75_25[:,1:])\n",
    "df_pig_goat_75_25_scaled = np.hstack((df_pig_goat_75_25[:,0].reshape(-1,1), df_pig_goat_75_25_scaled))"
   ]
  },
  {
   "cell_type": "code",
   "execution_count": null,
   "metadata": {},
   "outputs": [],
   "source": [
    "fig, ax = plt.subplots(figsize=(10,5))\n",
    "for i in range(1, df_pig_goat_75_25_scaled.shape[1]):\n",
    "    ax.plot(df_pig_goat_75_25_scaled[:,0], df_pig_goat_75_25_scaled[:,i], label='Pig-goat ' + str(i+1))\n",
    "ax.set_xlabel('Wavenumber (cm-1)')\n",
    "ax.set_ylabel('Absorbance')\n",
    "ax.set_title('Pig-goat 75-25')\n",
    "plt.show()"
   ]
  },
  {
   "cell_type": "code",
   "execution_count": null,
   "metadata": {},
   "outputs": [],
   "source": [
    "pig_goat_75_25 = np.mean(df_pig_goat_75_25_scaled[:, 1:], axis=1)\n",
    "#pig_goat_75_25[1800:1860] = fixer(pig_goat_75_25[1800:1860], 10)\n",
    "pig_goat_75_25_filtered = savgol_filter(pig_goat_75_25, 20, 3)"
   ]
  },
  {
   "cell_type": "code",
   "execution_count": null,
   "metadata": {},
   "outputs": [],
   "source": [
    "fig, ax = plt.subplots(figsize=(10,5))\n",
    "ax.plot(df_pig_goat_75_25[:,0], pig_goat_75_25_filtered)\n",
    "ax.set_xlabel('Wavenumber (cm-1)')\n",
    "ax.set_ylabel('Absorbance')\n",
    "ax.set_title('Pig-goat 75-25')\n",
    "plt.show()"
   ]
  },
  {
   "cell_type": "code",
   "execution_count": null,
   "metadata": {},
   "outputs": [],
   "source": [
    "path = '../data/Data Lemak/preprocessed/contamination/pig-goat/pig-goat 75-25/'\n",
    "if not os.path.exists(path):\n",
    "    os.makedirs(path)\n",
    "pd.DataFrame(df_pig_goat_75_25_scaled).to_csv(path+'/pig_goat_75_25_all.csv', index=False, header=False)\n",
    "pd.DataFrame([df_pig_goat_75_25[:,0], pig_goat_75_25_filtered]).T.to_csv(path+'pig_goat_75_25_mean.csv', index=False, header=False)"
   ]
  }
 ],
 "metadata": {
  "kernelspec": {
   "display_name": "env",
   "language": "python",
   "name": "python3"
  },
  "language_info": {
   "codemirror_mode": {
    "name": "ipython",
    "version": 3
   },
   "file_extension": ".py",
   "mimetype": "text/x-python",
   "name": "python",
   "nbconvert_exporter": "python",
   "pygments_lexer": "ipython3",
   "version": "3.12.4"
  }
 },
 "nbformat": 4,
 "nbformat_minor": 2
}
